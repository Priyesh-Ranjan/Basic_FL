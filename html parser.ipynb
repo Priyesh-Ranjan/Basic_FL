{
 "cells": [
  {
   "cell_type": "code",
   "execution_count": 140,
   "metadata": {},
   "outputs": [],
   "source": [
    "html_string =\"\"\"      <table>\n",
    "        <thead><th></th><th>Name</th><th>Smoothed</th><th>Value</th><th>Step</th><th>Time</th><th>Relative</th></thead>\n",
    "        <tbody><tr class=\"distant\"><td><span class=\"swatch\" style=\"background-color: rgb(255, 112, 67);\"></span></td><td>experiments/iid/Label-Flipping1/deepGAR</td><td>95.37</td><td>95.37</td><td>10</td><td>Wed Jan  8, 18:21:44</td><td>5m 42s</td></tr><tr class=\"distant\"><td><span class=\"swatch\" style=\"background-color: rgb(204, 51, 17);\"></span></td><td>experiments/iid/Label-Flipping1/fedavg</td><td>95.61</td><td>95.61</td><td>10</td><td>Wed Jan  8, 18:38:36</td><td>7m 30s</td></tr><tr class=\"distant\"><td><span class=\"swatch\" style=\"background-color: rgb(0, 119, 187);\"></span></td><td>experiments/iid/Label-Flipping1/median</td><td>95.74</td><td>95.74</td><td>10</td><td>Wed Jan  8, 18:31:01</td><td>9m 14s</td></tr><tr class=\"distant\"><td><span class=\"swatch\" style=\"background-color: rgb(51, 187, 238);\"></span></td><td>experiments/iid/Label-Flipping2/deepGAR</td><td>95.32</td><td>95.32</td><td>10</td><td>Wed Jan  8, 18:44:39</td><td>5m 59s</td></tr><tr class=\"distant\"><td><span class=\"swatch\" style=\"background-color: rgb(0, 153, 136);\"></span></td><td>experiments/iid/Label-Flipping2/fedavg</td><td>95.13</td><td>95.13</td><td>10</td><td>Wed Jan  8, 19:01:52</td><td>7m 38s</td></tr><tr class=\"distant\"><td><span class=\"swatch\" style=\"background-color: rgb(238, 51, 119);\"></span></td><td>experiments/iid/Label-Flipping2/median</td><td>95.72</td><td>95.72</td><td>10</td><td>Wed Jan  8, 18:54:09</td><td>9m 26s</td></tr><tr class=\"distant\"><td><span class=\"swatch\" style=\"background-color: rgb(187, 187, 187);\"></span></td><td>experiments/iid/Label-Flipping3/deepGAR</td><td>94.93</td><td>94.93</td><td>10</td><td>Wed Jan  8, 19:08:04</td><td>6m 7s</td></tr><tr class=\"distant\"><td><span class=\"swatch\" style=\"background-color: rgb(0, 119, 187);\"></span></td><td>experiments/iid/Label-Flipping3/fedavg</td><td>94.51</td><td>94.51</td><td>10</td><td>Wed Jan  8, 19:26:31</td><td>8m 16s</td></tr><tr class=\"distant\"><td><span class=\"swatch\" style=\"background-color: rgb(255, 112, 67);\"></span></td><td>experiments/iid/Label-Flipping3/median</td><td>95.78</td><td>95.78</td><td>10</td><td>Wed Jan  8, 19:18:10</td><td>10m 2s</td></tr><tr class=\"distant\"><td><span class=\"swatch\" style=\"background-color: rgb(204, 51, 17);\"></span></td><td>experiments/iid/Label-Flipping4/deepGAR</td><td>94.47</td><td>94.47</td><td>10</td><td>Wed Jan  8, 19:33:11</td><td>6m 37s</td></tr><tr class=\"distant\"><td><span class=\"swatch\" style=\"background-color: rgb(238, 51, 119);\"></span></td><td>experiments/iid/Label-Flipping4/fedavg</td><td>93.85</td><td>93.85</td><td>10</td><td>Wed Jan  8, 19:51:16</td><td>7m 55s</td></tr><tr class=\"distant\"><td><span class=\"swatch\" style=\"background-color: rgb(51, 187, 238);\"></span></td><td>experiments/iid/Label-Flipping4/median</td><td>95.78</td><td>95.78</td><td>10</td><td>Wed Jan  8, 19:43:15</td><td>10m 0s</td></tr><tr class=\"distant\"><td><span class=\"swatch\" style=\"background-color: rgb(0, 153, 136);\"></span></td><td>experiments/iid/Label-Flipping5/deepGAR</td><td>92.84</td><td>92.84</td><td>10</td><td>Wed Jan  8, 19:57:46</td><td>6m 26s</td></tr><tr class=\"distant\"><td><span class=\"swatch\" style=\"background-color: rgb(255, 112, 67);\"></span></td><td>experiments/iid/Label-Flipping5/fedavg</td><td>92.22</td><td>92.22</td><td>10</td><td>Wed Jan  8, 20:16:15</td><td>8m 21s</td></tr><tr class=\"distant\"><td><span class=\"swatch\" style=\"background-color: rgb(187, 187, 187);\"></span></td><td>experiments/iid/Label-Flipping5/median</td><td>57.72</td><td>57.72</td><td>10</td><td>Wed Jan  8, 20:07:50</td><td>10m 0s</td></tr><tr class=\"distant\"><td><span class=\"swatch\" style=\"background-color: rgb(51, 187, 238);\"></span></td><td>experiments/iid/No-Attacks/deepGAR</td><td>95.73</td><td>95.73</td><td>10</td><td>Wed Jan  8, 16:05:30</td><td>14m 27s</td></tr><tr class=\"distant\"><td><span class=\"swatch\" style=\"background-color: rgb(0, 153, 136);\"></span></td><td>experiments/iid/No-Attacks/fedavg</td><td>95.75</td><td>95.75</td><td>10</td><td>Wed Jan  8, 16:22:11</td><td>7m 15s</td></tr><tr class=\"distant\"><td><span class=\"swatch\" style=\"background-color: rgb(238, 51, 119);\"></span></td><td>experiments/iid/No-Attacks/median</td><td>95.75</td><td>95.75</td><td>10</td><td>Wed Jan  8, 16:14:52</td><td>9m 18s</td></tr><tr class=\"distant\"><td><span class=\"swatch\" style=\"background-color: rgb(187, 187, 187);\"></span></td><td>experiments/iid/Omniscient1/deepGAR</td><td>95.67</td><td>95.67</td><td>10</td><td>Wed Jan  8, 16:27:40</td><td>5m 25s</td></tr><tr class=\"distant\"><td><span class=\"swatch\" style=\"background-color: rgb(0, 119, 187);\"></span></td><td>experiments/iid/Omniscient1/fedavg</td><td>2.2</td><td>2.2</td><td>10</td><td>Wed Jan  8, 16:45:12</td><td>7m 44s</td></tr><tr class=\"distant\"><td><span class=\"swatch\" style=\"background-color: rgb(255, 112, 67);\"></span></td><td>experiments/iid/Omniscient1/median</td><td>95.69</td><td>95.69</td><td>10</td><td>Wed Jan  8, 16:37:23</td><td>9m 37s</td></tr><tr class=\"distant\"><td><span class=\"swatch\" style=\"background-color: rgb(204, 51, 17);\"></span></td><td>experiments/iid/Omniscient2/deepGAR</td><td>95.51</td><td>95.51</td><td>10</td><td>Wed Jan  8, 16:50:56</td><td>5m 39s</td></tr><tr class=\"distant\"><td><span class=\"swatch\" style=\"background-color: rgb(238, 51, 119);\"></span></td><td>experiments/iid/Omniscient2/fedavg</td><td>9.8</td><td>9.8</td><td>10</td><td>Wed Jan  8, 17:08:01</td><td>7m 30s</td></tr><tr class=\"distant\"><td><span class=\"swatch\" style=\"background-color: rgb(51, 187, 238);\"></span></td><td>experiments/iid/Omniscient2/median</td><td>95.42</td><td>95.42</td><td>10</td><td>Wed Jan  8, 17:00:26</td><td>9m 26s</td></tr><tr class=\"distant\"><td><span class=\"swatch\" style=\"background-color: rgb(0, 153, 136);\"></span></td><td>experiments/iid/Omniscient3/deepGAR</td><td>94.92</td><td>94.92</td><td>10</td><td>Wed Jan  8, 17:13:39</td><td>5m 34s</td></tr><tr class=\"distant\"><td><span class=\"swatch\" style=\"background-color: rgb(255, 112, 67);\"></span></td><td>experiments/iid/Omniscient3/fedavg</td><td>9.8</td><td>9.8</td><td>10</td><td>Wed Jan  8, 17:30:17</td><td>7m 15s</td></tr><tr class=\"distant\"><td><span class=\"swatch\" style=\"background-color: rgb(187, 187, 187);\"></span></td><td>experiments/iid/Omniscient3/median</td><td>95.06</td><td>95.06</td><td>10</td><td>Wed Jan  8, 17:22:59</td><td>9m 16s</td></tr><tr class=\"distant\"><td><span class=\"swatch\" style=\"background-color: rgb(0, 119, 187);\"></span></td><td>experiments/iid/Omniscient4/deepGAR</td><td>88.48</td><td>88.48</td><td>10</td><td>Wed Jan  8, 17:35:54</td><td>5m 33s</td></tr><tr class=\"distant\"><td><span class=\"swatch\" style=\"background-color: rgb(51, 187, 238);\"></span></td><td>experiments/iid/Omniscient4/fedavg</td><td>9.8</td><td>9.8</td><td>10</td><td>Wed Jan  8, 17:52:37</td><td>7m 18s</td></tr><tr class=\"distant\"><td><span class=\"swatch\" style=\"background-color: rgb(204, 51, 17);\"></span></td><td>experiments/iid/Omniscient4/median</td><td>94.63</td><td>94.63</td><td>10</td><td>Wed Jan  8, 17:45:15</td><td>9m 17s</td></tr><tr class=\"distant\"><td><span class=\"swatch\" style=\"background-color: rgb(238, 51, 119);\"></span></td><td>experiments/iid/Omniscient5/deepGAR</td><td>9.8</td><td>9.8</td><td>10</td><td>Wed Jan  8, 17:58:38</td><td>5m 56s</td></tr><tr class=\"distant\"><td><span class=\"swatch\" style=\"background-color: rgb(187, 187, 187);\"></span></td><td>experiments/iid/Omniscient5/fedavg</td><td>9.8</td><td>9.8</td><td>10</td><td>Wed Jan  8, 18:15:58</td><td>7m 30s</td></tr><tr class=\"distant closest\"><td><span class=\"swatch\" style=\"background-color: rgb(0, 153, 136);\"></span></td><td>experiments/iid/Omniscient5/median</td><td>10.28</td><td>10.28</td><td>10</td><td>Wed Jan  8, 18:08:23</td><td>9m 41s</td></tr></tbody>\n",
    "      </table>\"\"\""
   ]
  },
  {
   "cell_type": "code",
   "execution_count": 141,
   "metadata": {},
   "outputs": [],
   "source": [
    "def parse_table(string):\n",
    "    html_string =string\n",
    "    from IPython.display import display_html\n",
    "    import pandas as pd\n",
    "\n",
    "    display_html(html_string, raw=True)\n",
    "    dfs = pd.read_html(html_string)\n",
    "    return dfs[0]"
   ]
  },
  {
   "cell_type": "code",
   "execution_count": null,
   "metadata": {},
   "outputs": [],
   "source": []
  },
  {
   "cell_type": "code",
   "execution_count": 142,
   "metadata": {},
   "outputs": [
    {
     "data": {
      "text/html": [
       "      <table>\n",
       "        <thead><th></th><th>Name</th><th>Smoothed</th><th>Value</th><th>Step</th><th>Time</th><th>Relative</th></thead>\n",
       "        <tbody><tr class=\"distant\"><td><span class=\"swatch\" style=\"background-color: rgb(255, 112, 67);\"></span></td><td>experiments/iid/Label-Flipping1/deepGAR</td><td>95.37</td><td>95.37</td><td>10</td><td>Wed Jan  8, 18:21:44</td><td>5m 42s</td></tr><tr class=\"distant\"><td><span class=\"swatch\" style=\"background-color: rgb(204, 51, 17);\"></span></td><td>experiments/iid/Label-Flipping1/fedavg</td><td>95.61</td><td>95.61</td><td>10</td><td>Wed Jan  8, 18:38:36</td><td>7m 30s</td></tr><tr class=\"distant\"><td><span class=\"swatch\" style=\"background-color: rgb(0, 119, 187);\"></span></td><td>experiments/iid/Label-Flipping1/median</td><td>95.74</td><td>95.74</td><td>10</td><td>Wed Jan  8, 18:31:01</td><td>9m 14s</td></tr><tr class=\"distant\"><td><span class=\"swatch\" style=\"background-color: rgb(51, 187, 238);\"></span></td><td>experiments/iid/Label-Flipping2/deepGAR</td><td>95.32</td><td>95.32</td><td>10</td><td>Wed Jan  8, 18:44:39</td><td>5m 59s</td></tr><tr class=\"distant\"><td><span class=\"swatch\" style=\"background-color: rgb(0, 153, 136);\"></span></td><td>experiments/iid/Label-Flipping2/fedavg</td><td>95.13</td><td>95.13</td><td>10</td><td>Wed Jan  8, 19:01:52</td><td>7m 38s</td></tr><tr class=\"distant\"><td><span class=\"swatch\" style=\"background-color: rgb(238, 51, 119);\"></span></td><td>experiments/iid/Label-Flipping2/median</td><td>95.72</td><td>95.72</td><td>10</td><td>Wed Jan  8, 18:54:09</td><td>9m 26s</td></tr><tr class=\"distant\"><td><span class=\"swatch\" style=\"background-color: rgb(187, 187, 187);\"></span></td><td>experiments/iid/Label-Flipping3/deepGAR</td><td>94.93</td><td>94.93</td><td>10</td><td>Wed Jan  8, 19:08:04</td><td>6m 7s</td></tr><tr class=\"distant\"><td><span class=\"swatch\" style=\"background-color: rgb(0, 119, 187);\"></span></td><td>experiments/iid/Label-Flipping3/fedavg</td><td>94.51</td><td>94.51</td><td>10</td><td>Wed Jan  8, 19:26:31</td><td>8m 16s</td></tr><tr class=\"distant\"><td><span class=\"swatch\" style=\"background-color: rgb(255, 112, 67);\"></span></td><td>experiments/iid/Label-Flipping3/median</td><td>95.78</td><td>95.78</td><td>10</td><td>Wed Jan  8, 19:18:10</td><td>10m 2s</td></tr><tr class=\"distant\"><td><span class=\"swatch\" style=\"background-color: rgb(204, 51, 17);\"></span></td><td>experiments/iid/Label-Flipping4/deepGAR</td><td>94.47</td><td>94.47</td><td>10</td><td>Wed Jan  8, 19:33:11</td><td>6m 37s</td></tr><tr class=\"distant\"><td><span class=\"swatch\" style=\"background-color: rgb(238, 51, 119);\"></span></td><td>experiments/iid/Label-Flipping4/fedavg</td><td>93.85</td><td>93.85</td><td>10</td><td>Wed Jan  8, 19:51:16</td><td>7m 55s</td></tr><tr class=\"distant\"><td><span class=\"swatch\" style=\"background-color: rgb(51, 187, 238);\"></span></td><td>experiments/iid/Label-Flipping4/median</td><td>95.78</td><td>95.78</td><td>10</td><td>Wed Jan  8, 19:43:15</td><td>10m 0s</td></tr><tr class=\"distant\"><td><span class=\"swatch\" style=\"background-color: rgb(0, 153, 136);\"></span></td><td>experiments/iid/Label-Flipping5/deepGAR</td><td>92.84</td><td>92.84</td><td>10</td><td>Wed Jan  8, 19:57:46</td><td>6m 26s</td></tr><tr class=\"distant\"><td><span class=\"swatch\" style=\"background-color: rgb(255, 112, 67);\"></span></td><td>experiments/iid/Label-Flipping5/fedavg</td><td>92.22</td><td>92.22</td><td>10</td><td>Wed Jan  8, 20:16:15</td><td>8m 21s</td></tr><tr class=\"distant\"><td><span class=\"swatch\" style=\"background-color: rgb(187, 187, 187);\"></span></td><td>experiments/iid/Label-Flipping5/median</td><td>57.72</td><td>57.72</td><td>10</td><td>Wed Jan  8, 20:07:50</td><td>10m 0s</td></tr><tr class=\"distant\"><td><span class=\"swatch\" style=\"background-color: rgb(51, 187, 238);\"></span></td><td>experiments/iid/No-Attacks/deepGAR</td><td>95.73</td><td>95.73</td><td>10</td><td>Wed Jan  8, 16:05:30</td><td>14m 27s</td></tr><tr class=\"distant\"><td><span class=\"swatch\" style=\"background-color: rgb(0, 153, 136);\"></span></td><td>experiments/iid/No-Attacks/fedavg</td><td>95.75</td><td>95.75</td><td>10</td><td>Wed Jan  8, 16:22:11</td><td>7m 15s</td></tr><tr class=\"distant\"><td><span class=\"swatch\" style=\"background-color: rgb(238, 51, 119);\"></span></td><td>experiments/iid/No-Attacks/median</td><td>95.75</td><td>95.75</td><td>10</td><td>Wed Jan  8, 16:14:52</td><td>9m 18s</td></tr><tr class=\"distant\"><td><span class=\"swatch\" style=\"background-color: rgb(187, 187, 187);\"></span></td><td>experiments/iid/Omniscient1/deepGAR</td><td>95.67</td><td>95.67</td><td>10</td><td>Wed Jan  8, 16:27:40</td><td>5m 25s</td></tr><tr class=\"distant\"><td><span class=\"swatch\" style=\"background-color: rgb(0, 119, 187);\"></span></td><td>experiments/iid/Omniscient1/fedavg</td><td>2.2</td><td>2.2</td><td>10</td><td>Wed Jan  8, 16:45:12</td><td>7m 44s</td></tr><tr class=\"distant\"><td><span class=\"swatch\" style=\"background-color: rgb(255, 112, 67);\"></span></td><td>experiments/iid/Omniscient1/median</td><td>95.69</td><td>95.69</td><td>10</td><td>Wed Jan  8, 16:37:23</td><td>9m 37s</td></tr><tr class=\"distant\"><td><span class=\"swatch\" style=\"background-color: rgb(204, 51, 17);\"></span></td><td>experiments/iid/Omniscient2/deepGAR</td><td>95.51</td><td>95.51</td><td>10</td><td>Wed Jan  8, 16:50:56</td><td>5m 39s</td></tr><tr class=\"distant\"><td><span class=\"swatch\" style=\"background-color: rgb(238, 51, 119);\"></span></td><td>experiments/iid/Omniscient2/fedavg</td><td>9.8</td><td>9.8</td><td>10</td><td>Wed Jan  8, 17:08:01</td><td>7m 30s</td></tr><tr class=\"distant\"><td><span class=\"swatch\" style=\"background-color: rgb(51, 187, 238);\"></span></td><td>experiments/iid/Omniscient2/median</td><td>95.42</td><td>95.42</td><td>10</td><td>Wed Jan  8, 17:00:26</td><td>9m 26s</td></tr><tr class=\"distant\"><td><span class=\"swatch\" style=\"background-color: rgb(0, 153, 136);\"></span></td><td>experiments/iid/Omniscient3/deepGAR</td><td>94.92</td><td>94.92</td><td>10</td><td>Wed Jan  8, 17:13:39</td><td>5m 34s</td></tr><tr class=\"distant\"><td><span class=\"swatch\" style=\"background-color: rgb(255, 112, 67);\"></span></td><td>experiments/iid/Omniscient3/fedavg</td><td>9.8</td><td>9.8</td><td>10</td><td>Wed Jan  8, 17:30:17</td><td>7m 15s</td></tr><tr class=\"distant\"><td><span class=\"swatch\" style=\"background-color: rgb(187, 187, 187);\"></span></td><td>experiments/iid/Omniscient3/median</td><td>95.06</td><td>95.06</td><td>10</td><td>Wed Jan  8, 17:22:59</td><td>9m 16s</td></tr><tr class=\"distant\"><td><span class=\"swatch\" style=\"background-color: rgb(0, 119, 187);\"></span></td><td>experiments/iid/Omniscient4/deepGAR</td><td>88.48</td><td>88.48</td><td>10</td><td>Wed Jan  8, 17:35:54</td><td>5m 33s</td></tr><tr class=\"distant\"><td><span class=\"swatch\" style=\"background-color: rgb(51, 187, 238);\"></span></td><td>experiments/iid/Omniscient4/fedavg</td><td>9.8</td><td>9.8</td><td>10</td><td>Wed Jan  8, 17:52:37</td><td>7m 18s</td></tr><tr class=\"distant\"><td><span class=\"swatch\" style=\"background-color: rgb(204, 51, 17);\"></span></td><td>experiments/iid/Omniscient4/median</td><td>94.63</td><td>94.63</td><td>10</td><td>Wed Jan  8, 17:45:15</td><td>9m 17s</td></tr><tr class=\"distant\"><td><span class=\"swatch\" style=\"background-color: rgb(238, 51, 119);\"></span></td><td>experiments/iid/Omniscient5/deepGAR</td><td>9.8</td><td>9.8</td><td>10</td><td>Wed Jan  8, 17:58:38</td><td>5m 56s</td></tr><tr class=\"distant\"><td><span class=\"swatch\" style=\"background-color: rgb(187, 187, 187);\"></span></td><td>experiments/iid/Omniscient5/fedavg</td><td>9.8</td><td>9.8</td><td>10</td><td>Wed Jan  8, 18:15:58</td><td>7m 30s</td></tr><tr class=\"distant closest\"><td><span class=\"swatch\" style=\"background-color: rgb(0, 153, 136);\"></span></td><td>experiments/iid/Omniscient5/median</td><td>10.28</td><td>10.28</td><td>10</td><td>Wed Jan  8, 18:08:23</td><td>9m 41s</td></tr></tbody>\n",
       "      </table>"
      ]
     },
     "metadata": {},
     "output_type": "display_data"
    }
   ],
   "source": [
    "df= parse_table(html_string)"
   ]
  },
  {
   "cell_type": "code",
   "execution_count": 143,
   "metadata": {},
   "outputs": [],
   "source": [
    "index_info = df['Name'].str.split('/',expand=True)"
   ]
  },
  {
   "cell_type": "code",
   "execution_count": 144,
   "metadata": {},
   "outputs": [],
   "source": [
    "df['Attacks']=index_info[2]"
   ]
  },
  {
   "cell_type": "code",
   "execution_count": 145,
   "metadata": {},
   "outputs": [],
   "source": [
    "df['Defenses']=index_info[3]"
   ]
  },
  {
   "cell_type": "code",
   "execution_count": 146,
   "metadata": {},
   "outputs": [],
   "source": [
    "out = df[['Value','Attacks','Defenses']]"
   ]
  },
  {
   "cell_type": "code",
   "execution_count": 172,
   "metadata": {},
   "outputs": [],
   "source": [
    "out=out[out['Attacks'].str.contains('Label')]\n",
    "result_all = out.groupby(['Defenses','Attacks']).mean().unstack()"
   ]
  },
  {
   "cell_type": "code",
   "execution_count": 164,
   "metadata": {},
   "outputs": [
    {
     "data": {
      "text/html": [
       "<div>\n",
       "<style scoped>\n",
       "    .dataframe tbody tr th:only-of-type {\n",
       "        vertical-align: middle;\n",
       "    }\n",
       "\n",
       "    .dataframe tbody tr th {\n",
       "        vertical-align: top;\n",
       "    }\n",
       "\n",
       "    .dataframe thead tr th {\n",
       "        text-align: left;\n",
       "    }\n",
       "\n",
       "    .dataframe thead tr:last-of-type th {\n",
       "        text-align: right;\n",
       "    }\n",
       "</style>\n",
       "<table border=\"1\" class=\"dataframe\">\n",
       "  <thead>\n",
       "    <tr>\n",
       "      <th></th>\n",
       "      <th colspan=\"5\" halign=\"left\">Value</th>\n",
       "    </tr>\n",
       "    <tr>\n",
       "      <th>Attacks</th>\n",
       "      <th>Label-Flipping1</th>\n",
       "      <th>Label-Flipping2</th>\n",
       "      <th>Label-Flipping3</th>\n",
       "      <th>Label-Flipping4</th>\n",
       "      <th>Label-Flipping5</th>\n",
       "    </tr>\n",
       "    <tr>\n",
       "      <th>Defenses</th>\n",
       "      <th></th>\n",
       "      <th></th>\n",
       "      <th></th>\n",
       "      <th></th>\n",
       "      <th></th>\n",
       "    </tr>\n",
       "  </thead>\n",
       "  <tbody>\n",
       "    <tr>\n",
       "      <th>deepGAR</th>\n",
       "      <td>95.37</td>\n",
       "      <td>95.32</td>\n",
       "      <td>94.93</td>\n",
       "      <td>94.47</td>\n",
       "      <td>92.84</td>\n",
       "    </tr>\n",
       "    <tr>\n",
       "      <th>fedavg</th>\n",
       "      <td>95.61</td>\n",
       "      <td>95.13</td>\n",
       "      <td>94.51</td>\n",
       "      <td>93.85</td>\n",
       "      <td>92.22</td>\n",
       "    </tr>\n",
       "    <tr>\n",
       "      <th>median</th>\n",
       "      <td>95.74</td>\n",
       "      <td>95.72</td>\n",
       "      <td>95.78</td>\n",
       "      <td>95.78</td>\n",
       "      <td>57.72</td>\n",
       "    </tr>\n",
       "  </tbody>\n",
       "</table>\n",
       "</div>"
      ],
      "text/plain": [
       "                   Value                                                  \\\n",
       "Attacks  Label-Flipping1 Label-Flipping2 Label-Flipping3 Label-Flipping4   \n",
       "Defenses                                                                   \n",
       "deepGAR            95.37           95.32           94.93           94.47   \n",
       "fedavg             95.61           95.13           94.51           93.85   \n",
       "median             95.74           95.72           95.78           95.78   \n",
       "\n",
       "                          \n",
       "Attacks  Label-Flipping5  \n",
       "Defenses                  \n",
       "deepGAR            92.84  \n",
       "fedavg             92.22  \n",
       "median             57.72  "
      ]
     },
     "execution_count": 164,
     "metadata": {},
     "output_type": "execute_result"
    }
   ],
   "source": [
    "result_all"
   ]
  },
  {
   "cell_type": "code",
   "execution_count": 201,
   "metadata": {},
   "outputs": [],
   "source": [
    "import seaborn as sns\n",
    "import numpy as np\n",
    "\n",
    "def plot_heatmap(defense,ax,title):\n",
    "    idx=['']\n",
    "    cols = pd.Index([1,2,3,4,5],name=\"Number of Attackers\")\n",
    "    \n",
    "    \n",
    "    result=np.expand_dims(result_all.loc[defense].values,-1).T\n",
    "    result = pd.DataFrame(result, index=idx, columns=cols)\n",
    "\n",
    "    fig= sns.heatmap(result, annot=True,ax=ax,vmin=0,vmax=100).set_title(f'{title} aganist label flipping attack')\n",
    "    fig.get_figure().savefig(f'{title}_vs_labelFlipping.png')\n"
   ]
  },
  {
   "cell_type": "code",
   "execution_count": 202,
   "metadata": {},
   "outputs": [
    {
     "data": {
      "image/png": "[encoded data removed]",
      "text/plain": [
       "<Figure size 432x288 with 2 Axes>"
      ]
     },
     "metadata": {
      "needs_background": "light"
     },
     "output_type": "display_data"
    },
    {
     "data": {
      "image/png": "[encoded data removed]",
      "text/plain": [
       "<Figure size 432x288 with 2 Axes>"
      ]
     },
     "metadata": {
      "needs_background": "light"
     },
     "output_type": "display_data"
    },
    {
     "data": {
      "image/png": "[encoded data removed]",
      "text/plain": [
       "<Figure size 432x288 with 2 Axes>"
      ]
     },
     "metadata": {
      "needs_background": "light"
     },
     "output_type": "display_data"
    }
   ],
   "source": [
    "plot_heatmap('fedavg',None,'fedavg')\n",
    "plt.show()\n",
    "plot_heatmap('median',None,'median')\n",
    "plt.show()\n",
    "plot_heatmap('deepGAR',None,'neural net')"
   ]
  },
  {
   "cell_type": "code",
   "execution_count": 39,
   "metadata": {},
   "outputs": [],
   "source": [
    "import numpy as np\n",
    "def highlight_max(data, color='yellow'):\n",
    "    '''\n",
    "    highlight the maximum in a Series or DataFrame\n",
    "    '''\n",
    "    attr = 'background-color: {}'.format(color)\n",
    "    #remove % and cast to float\n",
    "    data = data.replace('%','', regex=True).astype(float)\n",
    "    if data.ndim == 1:  # Series from .apply(axis=0) or axis=1\n",
    "        is_max = data == data.max()\n",
    "        return [attr if v else '' for v in is_max]\n",
    "    else:  # from .apply(axis=None)\n",
    "        is_max = data == data.max().max()\n",
    "        return pd.DataFrame(np.where(is_max, attr, ''),\n",
    "                            index=data.index, columns=data.columns)"
   ]
  },
  {
   "cell_type": "code",
   "execution_count": 46,
   "metadata": {},
   "outputs": [
    {
     "data": {
      "text/html": [
       "<style  type=\"text/css\" >\n",
       "    #T_1936f5f4_384c_11ea_a31b_71c44c9ab4e7row0_col4 {\n",
       "            background-color:  yellow;\n",
       "        }    #T_1936f5f4_384c_11ea_a31b_71c44c9ab4e7row0_col7 {\n",
       "            background-color:  yellow;\n",
       "        }    #T_1936f5f4_384c_11ea_a31b_71c44c9ab4e7row1_col5 {\n",
       "            background-color:  yellow;\n",
       "        }    #T_1936f5f4_384c_11ea_a31b_71c44c9ab4e7row2_col0 {\n",
       "            background-color:  yellow;\n",
       "        }    #T_1936f5f4_384c_11ea_a31b_71c44c9ab4e7row2_col1 {\n",
       "            background-color:  yellow;\n",
       "        }    #T_1936f5f4_384c_11ea_a31b_71c44c9ab4e7row2_col2 {\n",
       "            background-color:  yellow;\n",
       "        }    #T_1936f5f4_384c_11ea_a31b_71c44c9ab4e7row2_col3 {\n",
       "            background-color:  yellow;\n",
       "        }    #T_1936f5f4_384c_11ea_a31b_71c44c9ab4e7row2_col5 {\n",
       "            background-color:  yellow;\n",
       "        }    #T_1936f5f4_384c_11ea_a31b_71c44c9ab4e7row2_col6 {\n",
       "            background-color:  yellow;\n",
       "        }    #T_1936f5f4_384c_11ea_a31b_71c44c9ab4e7row2_col8 {\n",
       "            background-color:  yellow;\n",
       "        }    #T_1936f5f4_384c_11ea_a31b_71c44c9ab4e7row2_col9 {\n",
       "            background-color:  yellow;\n",
       "        }    #T_1936f5f4_384c_11ea_a31b_71c44c9ab4e7row2_col10 {\n",
       "            background-color:  yellow;\n",
       "        }</style><table id=\"T_1936f5f4_384c_11ea_a31b_71c44c9ab4e7\" ><thead>    <tr>        <th class=\"blank\" ></th>        <th class=\"index_name level0\" >Attacks</th>        <th class=\"col_heading level0 col0\" >Label-Flipping1</th>        <th class=\"col_heading level0 col1\" >Label-Flipping2</th>        <th class=\"col_heading level0 col2\" >Label-Flipping3</th>        <th class=\"col_heading level0 col3\" >Label-Flipping4</th>        <th class=\"col_heading level0 col4\" >Label-Flipping5</th>        <th class=\"col_heading level0 col5\" >No-Attacks</th>        <th class=\"col_heading level0 col6\" >Omniscient1</th>        <th class=\"col_heading level0 col7\" >Omniscient2</th>        <th class=\"col_heading level0 col8\" >Omniscient3</th>        <th class=\"col_heading level0 col9\" >Omniscient4</th>        <th class=\"col_heading level0 col10\" >Omniscient5</th>    </tr>    <tr>        <th class=\"index_name level0\" ></th>        <th class=\"index_name level1\" >Defenses</th>        <th class=\"blank\" ></th>        <th class=\"blank\" ></th>        <th class=\"blank\" ></th>        <th class=\"blank\" ></th>        <th class=\"blank\" ></th>        <th class=\"blank\" ></th>        <th class=\"blank\" ></th>        <th class=\"blank\" ></th>        <th class=\"blank\" ></th>        <th class=\"blank\" ></th>        <th class=\"blank\" ></th>    </tr></thead><tbody>\n",
       "                <tr>\n",
       "                        <th id=\"T_1936f5f4_384c_11ea_a31b_71c44c9ab4e7level0_row0\" class=\"row_heading level0 row0\" rowspan=3>Value</th>\n",
       "                        <th id=\"T_1936f5f4_384c_11ea_a31b_71c44c9ab4e7level1_row0\" class=\"row_heading level1 row0\" >deepGAR</th>\n",
       "                        <td id=\"T_1936f5f4_384c_11ea_a31b_71c44c9ab4e7row0_col0\" class=\"data row0 col0\" >95.37</td>\n",
       "                        <td id=\"T_1936f5f4_384c_11ea_a31b_71c44c9ab4e7row0_col1\" class=\"data row0 col1\" >95.32</td>\n",
       "                        <td id=\"T_1936f5f4_384c_11ea_a31b_71c44c9ab4e7row0_col2\" class=\"data row0 col2\" >94.93</td>\n",
       "                        <td id=\"T_1936f5f4_384c_11ea_a31b_71c44c9ab4e7row0_col3\" class=\"data row0 col3\" >94.47</td>\n",
       "                        <td id=\"T_1936f5f4_384c_11ea_a31b_71c44c9ab4e7row0_col4\" class=\"data row0 col4\" >92.84</td>\n",
       "                        <td id=\"T_1936f5f4_384c_11ea_a31b_71c44c9ab4e7row0_col5\" class=\"data row0 col5\" >95.73</td>\n",
       "                        <td id=\"T_1936f5f4_384c_11ea_a31b_71c44c9ab4e7row0_col6\" class=\"data row0 col6\" >95.67</td>\n",
       "                        <td id=\"T_1936f5f4_384c_11ea_a31b_71c44c9ab4e7row0_col7\" class=\"data row0 col7\" >95.51</td>\n",
       "                        <td id=\"T_1936f5f4_384c_11ea_a31b_71c44c9ab4e7row0_col8\" class=\"data row0 col8\" >94.92</td>\n",
       "                        <td id=\"T_1936f5f4_384c_11ea_a31b_71c44c9ab4e7row0_col9\" class=\"data row0 col9\" >88.48</td>\n",
       "                        <td id=\"T_1936f5f4_384c_11ea_a31b_71c44c9ab4e7row0_col10\" class=\"data row0 col10\" >9.8</td>\n",
       "            </tr>\n",
       "            <tr>\n",
       "                                <th id=\"T_1936f5f4_384c_11ea_a31b_71c44c9ab4e7level1_row1\" class=\"row_heading level1 row1\" >fedavg</th>\n",
       "                        <td id=\"T_1936f5f4_384c_11ea_a31b_71c44c9ab4e7row1_col0\" class=\"data row1 col0\" >95.61</td>\n",
       "                        <td id=\"T_1936f5f4_384c_11ea_a31b_71c44c9ab4e7row1_col1\" class=\"data row1 col1\" >95.13</td>\n",
       "                        <td id=\"T_1936f5f4_384c_11ea_a31b_71c44c9ab4e7row1_col2\" class=\"data row1 col2\" >94.51</td>\n",
       "                        <td id=\"T_1936f5f4_384c_11ea_a31b_71c44c9ab4e7row1_col3\" class=\"data row1 col3\" >93.85</td>\n",
       "                        <td id=\"T_1936f5f4_384c_11ea_a31b_71c44c9ab4e7row1_col4\" class=\"data row1 col4\" >92.22</td>\n",
       "                        <td id=\"T_1936f5f4_384c_11ea_a31b_71c44c9ab4e7row1_col5\" class=\"data row1 col5\" >95.75</td>\n",
       "                        <td id=\"T_1936f5f4_384c_11ea_a31b_71c44c9ab4e7row1_col6\" class=\"data row1 col6\" >2.2</td>\n",
       "                        <td id=\"T_1936f5f4_384c_11ea_a31b_71c44c9ab4e7row1_col7\" class=\"data row1 col7\" >9.8</td>\n",
       "                        <td id=\"T_1936f5f4_384c_11ea_a31b_71c44c9ab4e7row1_col8\" class=\"data row1 col8\" >9.8</td>\n",
       "                        <td id=\"T_1936f5f4_384c_11ea_a31b_71c44c9ab4e7row1_col9\" class=\"data row1 col9\" >9.8</td>\n",
       "                        <td id=\"T_1936f5f4_384c_11ea_a31b_71c44c9ab4e7row1_col10\" class=\"data row1 col10\" >9.8</td>\n",
       "            </tr>\n",
       "            <tr>\n",
       "                                <th id=\"T_1936f5f4_384c_11ea_a31b_71c44c9ab4e7level1_row2\" class=\"row_heading level1 row2\" >median</th>\n",
       "                        <td id=\"T_1936f5f4_384c_11ea_a31b_71c44c9ab4e7row2_col0\" class=\"data row2 col0\" >95.74</td>\n",
       "                        <td id=\"T_1936f5f4_384c_11ea_a31b_71c44c9ab4e7row2_col1\" class=\"data row2 col1\" >95.72</td>\n",
       "                        <td id=\"T_1936f5f4_384c_11ea_a31b_71c44c9ab4e7row2_col2\" class=\"data row2 col2\" >95.78</td>\n",
       "                        <td id=\"T_1936f5f4_384c_11ea_a31b_71c44c9ab4e7row2_col3\" class=\"data row2 col3\" >95.78</td>\n",
       "                        <td id=\"T_1936f5f4_384c_11ea_a31b_71c44c9ab4e7row2_col4\" class=\"data row2 col4\" >57.72</td>\n",
       "                        <td id=\"T_1936f5f4_384c_11ea_a31b_71c44c9ab4e7row2_col5\" class=\"data row2 col5\" >95.75</td>\n",
       "                        <td id=\"T_1936f5f4_384c_11ea_a31b_71c44c9ab4e7row2_col6\" class=\"data row2 col6\" >95.69</td>\n",
       "                        <td id=\"T_1936f5f4_384c_11ea_a31b_71c44c9ab4e7row2_col7\" class=\"data row2 col7\" >95.42</td>\n",
       "                        <td id=\"T_1936f5f4_384c_11ea_a31b_71c44c9ab4e7row2_col8\" class=\"data row2 col8\" >95.06</td>\n",
       "                        <td id=\"T_1936f5f4_384c_11ea_a31b_71c44c9ab4e7row2_col9\" class=\"data row2 col9\" >94.63</td>\n",
       "                        <td id=\"T_1936f5f4_384c_11ea_a31b_71c44c9ab4e7row2_col10\" class=\"data row2 col10\" >10.28</td>\n",
       "            </tr>\n",
       "    </tbody></table>"
      ],
      "text/plain": [
       "<pandas.io.formats.style.Styler at 0x7f600644d208>"
      ]
     },
     "execution_count": 46,
     "metadata": {},
     "output_type": "execute_result"
    }
   ],
   "source": [
    "result.T.style.apply(highlight_max)"
   ]
  },
  {
   "cell_type": "code",
   "execution_count": null,
   "metadata": {},
   "outputs": [],
   "source": []
  },
  {
   "cell_type": "code",
   "execution_count": 203,
   "metadata": {},
   "outputs": [
    {
     "data": {
      "text/html": [
       "<table>\n",
       "        <thead><th></th><th>Name</th><th>Smoothed</th><th>Value</th><th>Step</th><th>Time</th><th>Relative</th></thead>\n",
       "        <tbody><tr><td><span class=\"swatch\" style=\"background-color: rgb(51, 187, 238);\"></span></td><td>experiments-Omniscient-Scale/iid/Omniscient1_scale_0.01/deepGAR</td><td>95.63</td><td>95.63</td><td>10</td><td>Thu Jan 16, 17:13:32</td><td>4m 21s</td></tr><tr><td><span class=\"swatch\" style=\"background-color: rgb(0, 153, 136);\"></span></td><td>experiments-Omniscient-Scale/iid/Omniscient1_scale_0.01/fedavg</td><td>95.44</td><td>95.44</td><td>10</td><td>Thu Jan 16, 17:26:25</td><td>5m 31s</td></tr><tr><td><span class=\"swatch\" style=\"background-color: rgb(238, 51, 119);\"></span></td><td>experiments-Omniscient-Scale/iid/Omniscient1_scale_0.01/median</td><td>95.59</td><td>95.59</td><td>10</td><td>Thu Jan 16, 17:20:49</td><td>7m 15s</td></tr><tr><td><span class=\"swatch\" style=\"background-color: rgb(255, 112, 67);\"></span></td><td>experiments-Omniscient-Scale/iid/Omniscient1_scale_0.1/deepGAR</td><td>95.5</td><td>95.5</td><td>10</td><td>Thu Jan 16, 16:56:30</td><td>4m 12s</td></tr><tr><td><span class=\"swatch\" style=\"background-color: rgb(204, 51, 17);\"></span></td><td>experiments-Omniscient-Scale/iid/Omniscient1_scale_0.1/fedavg</td><td>95.41</td><td>95.41</td><td>10</td><td>Thu Jan 16, 17:09:07</td><td>5m 37s</td></tr><tr><td><span class=\"swatch\" style=\"background-color: rgb(0, 119, 187);\"></span></td><td>experiments-Omniscient-Scale/iid/Omniscient1_scale_0.1/median</td><td>95.59</td><td>95.59</td><td>10</td><td>Thu Jan 16, 17:03:26</td><td>6m 53s</td></tr><tr><td><span class=\"swatch\" style=\"background-color: rgb(187, 187, 187);\"></span></td><td>experiments-Omniscient-Scale/iid/Omniscient1_scale_0/deepGAR</td><td>95.59</td><td>95.59</td><td>10</td><td>Thu Jan 16, 17:30:47</td><td>4m 17s</td></tr><tr><td><span class=\"swatch\" style=\"background-color: rgb(0, 119, 187);\"></span></td><td>experiments-Omniscient-Scale/iid/Omniscient1_scale_0/fedavg</td><td>95.44</td><td>95.44</td><td>10</td><td>Thu Jan 16, 17:43:39</td><td>5m 45s</td></tr><tr><td><span class=\"swatch\" style=\"background-color: rgb(255, 112, 67);\"></span></td><td>experiments-Omniscient-Scale/iid/Omniscient1_scale_0/median</td><td>95.6</td><td>95.6</td><td>10</td><td>Thu Jan 16, 17:37:51</td><td>7m 1s</td></tr><tr><td><span class=\"swatch\" style=\"background-color: rgb(238, 51, 119);\"></span></td><td>experiments-Omniscient-Scale/iid/Omniscient1_scale_1/deepGAR</td><td>95.01</td><td>95.01</td><td>10</td><td>Thu Jan 16, 16:39:35</td><td>4m 17s</td></tr><tr><td><span class=\"swatch\" style=\"background-color: rgb(187, 187, 187);\"></span></td><td>experiments-Omniscient-Scale/iid/Omniscient1_scale_1/fedavg</td><td>94.98</td><td>94.98</td><td>10</td><td>Thu Jan 16, 16:52:14</td><td>5m 26s</td></tr><tr><td><span class=\"swatch\" style=\"background-color: rgb(0, 153, 136);\"></span></td><td>experiments-Omniscient-Scale/iid/Omniscient1_scale_1/median</td><td>95.63</td><td>95.63</td><td>10</td><td>Thu Jan 16, 16:46:45</td><td>7m 6s</td></tr><tr class=\"\"><td><span class=\"swatch\" style=\"background-color: rgb(0, 119, 187);\"></span></td><td>experiments-Omniscient-Scale/iid/Omniscient1_scale_10/deepGAR</td><td>95.61</td><td>95.61</td><td>10</td><td>Thu Jan 16, 16:23:12</td><td>4m 0s</td></tr><tr><td><span class=\"swatch\" style=\"background-color: rgb(51, 187, 238);\"></span></td><td>experiments-Omniscient-Scale/iid/Omniscient1_scale_10/fedavg</td><td>8.94</td><td>8.94</td><td>10</td><td>Thu Jan 16, 16:35:14</td><td>5m 26s</td></tr><tr><td><span class=\"swatch\" style=\"background-color: rgb(204, 51, 17);\"></span></td><td>experiments-Omniscient-Scale/iid/Omniscient1_scale_10/median</td><td>95.63</td><td>95.63</td><td>10</td><td>Thu Jan 16, 16:29:46</td><td>6m 31s</td></tr><tr><td><span class=\"swatch\" style=\"background-color: rgb(238, 51, 119);\"></span></td><td>experiments-Omniscient-Scale/iid/Omniscient2_scale_0.01/deepGAR</td><td>95.36</td><td>95.36</td><td>10</td><td>Thu Jan 16, 18:37:17</td><td>4m 12s</td></tr><tr><td><span class=\"swatch\" style=\"background-color: rgb(187, 187, 187);\"></span></td><td>experiments-Omniscient-Scale/iid/Omniscient2_scale_0.01/fedavg</td><td>95</td><td>95</td><td>10</td><td>Thu Jan 16, 18:49:45</td><td>5m 39s</td></tr><tr><td><span class=\"swatch\" style=\"background-color: rgb(0, 153, 136);\"></span></td><td>experiments-Omniscient-Scale/iid/Omniscient2_scale_0.01/median</td><td>95.42</td><td>95.42</td><td>10</td><td>Thu Jan 16, 18:44:03</td><td>6m 42s</td></tr><tr><td><span class=\"swatch\" style=\"background-color: rgb(0, 119, 187);\"></span></td><td>experiments-Omniscient-Scale/iid/Omniscient2_scale_0.1/deepGAR</td><td>94.99</td><td>94.99</td><td>10</td><td>Thu Jan 16, 18:20:41</td><td>4m 25s</td></tr><tr><td><span class=\"swatch\" style=\"background-color: rgb(51, 187, 238);\"></span></td><td>experiments-Omniscient-Scale/iid/Omniscient2_scale_0.1/fedavg</td><td>94.94</td><td>94.94</td><td>10</td><td>Thu Jan 16, 18:33:01</td><td>5m 17s</td></tr><tr><td><span class=\"swatch\" style=\"background-color: rgb(204, 51, 17);\"></span></td><td>experiments-Omniscient-Scale/iid/Omniscient2_scale_0.1/median</td><td>95.42</td><td>95.42</td><td>10</td><td>Thu Jan 16, 18:27:41</td><td>6m 56s</td></tr><tr><td><span class=\"swatch\" style=\"background-color: rgb(255, 112, 67);\"></span></td><td>experiments-Omniscient-Scale/iid/Omniscient2_scale_0/deepGAR</td><td>95.42</td><td>95.42</td><td>10</td><td>Thu Jan 16, 18:54:11</td><td>4m 23s</td></tr><tr><td><span class=\"swatch\" style=\"background-color: rgb(204, 51, 17);\"></span></td><td>experiments-Omniscient-Scale/iid/Omniscient2_scale_0/fedavg</td><td>95.02</td><td>95.02</td><td>10</td><td>Thu Jan 16, 19:07:22</td><td>5m 38s</td></tr><tr><td><span class=\"swatch\" style=\"background-color: rgb(0, 119, 187);\"></span></td><td>experiments-Omniscient-Scale/iid/Omniscient2_scale_0/median</td><td>95.42</td><td>95.42</td><td>10</td><td>Thu Jan 16, 19:01:41</td><td>7m 26s</td></tr><tr><td><span class=\"swatch\" style=\"background-color: rgb(0, 153, 136);\"></span></td><td>experiments-Omniscient-Scale/iid/Omniscient2_scale_1/deepGAR</td><td>93.94</td><td>93.94</td><td>10</td><td>Thu Jan 16, 18:03:48</td><td>3m 59s</td></tr><tr><td><span class=\"swatch\" style=\"background-color: rgb(255, 112, 67);\"></span></td><td>experiments-Omniscient-Scale/iid/Omniscient2_scale_1/fedavg</td><td>93.65</td><td>93.65</td><td>10</td><td>Thu Jan 16, 18:16:13</td><td>5m 38s</td></tr><tr><td><span class=\"swatch\" style=\"background-color: rgb(187, 187, 187);\"></span></td><td>experiments-Omniscient-Scale/iid/Omniscient2_scale_1/median</td><td>95.4</td><td>95.4</td><td>10</td><td>Thu Jan 16, 18:10:32</td><td>6m 40s</td></tr><tr><td><span class=\"swatch\" style=\"background-color: rgb(204, 51, 17);\"></span></td><td>experiments-Omniscient-Scale/iid/Omniscient2_scale_10/deepGAR</td><td>95.51</td><td>95.51</td><td>10</td><td>Thu Jan 16, 17:47:44</td><td>4m 1s</td></tr><tr><td><span class=\"swatch\" style=\"background-color: rgb(238, 51, 119);\"></span></td><td>experiments-Omniscient-Scale/iid/Omniscient2_scale_10/fedavg</td><td>9.8</td><td>9.8</td><td>10</td><td>Thu Jan 16, 17:59:44</td><td>5m 16s</td></tr><tr><td><span class=\"swatch\" style=\"background-color: rgb(51, 187, 238);\"></span></td><td>experiments-Omniscient-Scale/iid/Omniscient2_scale_10/median</td><td>95.42</td><td>95.42</td><td>10</td><td>Thu Jan 16, 17:54:25</td><td>6m 38s</td></tr><tr><td><span class=\"swatch\" style=\"background-color: rgb(0, 153, 136);\"></span></td><td>experiments-Omniscient-Scale/iid/Omniscient3_scale_0.01/deepGAR</td><td>95.11</td><td>95.11</td><td>10</td><td>Thu Jan 16, 19:57:24</td><td>3m 48s</td></tr><tr><td><span class=\"swatch\" style=\"background-color: rgb(255, 112, 67);\"></span></td><td>experiments-Omniscient-Scale/iid/Omniscient3_scale_0.01/fedavg</td><td>94.44</td><td>94.44</td><td>10</td><td>Thu Jan 16, 20:08:50</td><td>4m 59s</td></tr><tr><td><span class=\"swatch\" style=\"background-color: rgb(187, 187, 187);\"></span></td><td>experiments-Omniscient-Scale/iid/Omniscient3_scale_0.01/median</td><td>95.11</td><td>95.11</td><td>10</td><td>Thu Jan 16, 20:03:48</td><td>6m 22s</td></tr><tr><td><span class=\"swatch\" style=\"background-color: rgb(204, 51, 17);\"></span></td><td>experiments-Omniscient-Scale/iid/Omniscient3_scale_0.1/deepGAR</td><td>94.07</td><td>94.07</td><td>10</td><td>Thu Jan 16, 19:42:06</td><td>3m 50s</td></tr><tr><td><span class=\"swatch\" style=\"background-color: rgb(238, 51, 119);\"></span></td><td>experiments-Omniscient-Scale/iid/Omniscient3_scale_0.1/fedavg</td><td>94.23</td><td>94.23</td><td>10</td><td>Thu Jan 16, 19:53:32</td><td>5m 0s</td></tr><tr><td><span class=\"swatch\" style=\"background-color: rgb(51, 187, 238);\"></span></td><td>experiments-Omniscient-Scale/iid/Omniscient3_scale_0.1/median</td><td>95.11</td><td>95.11</td><td>10</td><td>Thu Jan 16, 19:48:29</td><td>6m 19s</td></tr><tr><td><span class=\"swatch\" style=\"background-color: rgb(0, 119, 187);\"></span></td><td>experiments-Omniscient-Scale/iid/Omniscient3_scale_0/deepGAR</td><td>95.27</td><td>95.27</td><td>10</td><td>Thu Jan 16, 20:12:47</td><td>3m 53s</td></tr><tr class=\"\"><td><span class=\"swatch\" style=\"background-color: rgb(51, 187, 238);\"></span></td><td>experiments-Omniscient-Scale/iid/Omniscient3_scale_0/fedavg</td><td>94.46</td><td>94.46</td><td>10</td><td>Thu Jan 16, 20:24:12</td><td>4m 58s</td></tr><tr><td><span class=\"swatch\" style=\"background-color: rgb(204, 51, 17);\"></span></td><td>experiments-Omniscient-Scale/iid/Omniscient3_scale_0/median</td><td>95.1</td><td>95.1</td><td>10</td><td>Thu Jan 16, 20:19:11</td><td>6m 21s</td></tr><tr><td><span class=\"swatch\" style=\"background-color: rgb(187, 187, 187);\"></span></td><td>experiments-Omniscient-Scale/iid/Omniscient3_scale_1/deepGAR</td><td>92.64</td><td>92.64</td><td>10</td><td>Thu Jan 16, 19:26:48</td><td>3m 52s</td></tr><tr><td><span class=\"swatch\" style=\"background-color: rgb(0, 119, 187);\"></span></td><td>experiments-Omniscient-Scale/iid/Omniscient3_scale_1/fedavg</td><td>92.13</td><td>92.13</td><td>10</td><td>Thu Jan 16, 19:38:13</td><td>5m 2s</td></tr><tr><td><span class=\"swatch\" style=\"background-color: rgb(255, 112, 67);\"></span></td><td>experiments-Omniscient-Scale/iid/Omniscient3_scale_1/median</td><td>95.05</td><td>95.05</td><td>10</td><td>Thu Jan 16, 19:33:07</td><td>6m 16s</td></tr><tr><td><span class=\"swatch\" style=\"background-color: rgb(51, 187, 238);\"></span></td><td>experiments-Omniscient-Scale/iid/Omniscient3_scale_10/deepGAR</td><td>94.72</td><td>94.72</td><td>10</td><td>Thu Jan 16, 19:11:34</td><td>4m 9s</td></tr><tr><td><span class=\"swatch\" style=\"background-color: rgb(0, 153, 136);\"></span></td><td>experiments-Omniscient-Scale/iid/Omniscient3_scale_10/fedavg</td><td>9.8</td><td>9.8</td><td>10</td><td>Thu Jan 16, 19:22:53</td><td>5m 3s</td></tr><tr><td><span class=\"swatch\" style=\"background-color: rgb(238, 51, 119);\"></span></td><td>experiments-Omniscient-Scale/iid/Omniscient3_scale_10/median</td><td>95.04</td><td>95.04</td><td>10</td><td>Thu Jan 16, 19:17:47</td><td>6m 9s</td></tr><tr><td><span class=\"swatch\" style=\"background-color: rgb(187, 187, 187);\"></span></td><td>experiments-Omniscient-Scale/iid/Omniscient4_scale_0.01/deepGAR</td><td>94.57</td><td>94.57</td><td>10</td><td>Thu Jan 16, 21:13:35</td><td>3m 47s</td></tr><tr><td><span class=\"swatch\" style=\"background-color: rgb(0, 119, 187);\"></span></td><td>experiments-Omniscient-Scale/iid/Omniscient4_scale_0.01/fedavg</td><td>93.84</td><td>93.84</td><td>10</td><td>Thu Jan 16, 21:24:46</td><td>4m 53s</td></tr><tr><td><span class=\"swatch\" style=\"background-color: rgb(255, 112, 67);\"></span></td><td>experiments-Omniscient-Scale/iid/Omniscient4_scale_0.01/median</td><td>94.54</td><td>94.54</td><td>10</td><td>Thu Jan 16, 21:19:49</td><td>6m 11s</td></tr><tr><td><span class=\"swatch\" style=\"background-color: rgb(51, 187, 238);\"></span></td><td>experiments-Omniscient-Scale/iid/Omniscient4_scale_0.1/deepGAR</td><td>91.32</td><td>91.32</td><td>10</td><td>Thu Jan 16, 20:58:23</td><td>3m 44s</td></tr><tr><td><span class=\"swatch\" style=\"background-color: rgb(0, 153, 136);\"></span></td><td>experiments-Omniscient-Scale/iid/Omniscient4_scale_0.1/fedavg</td><td>93.65</td><td>93.65</td><td>10</td><td>Thu Jan 16, 21:09:45</td><td>4m 58s</td></tr><tr><td><span class=\"swatch\" style=\"background-color: rgb(238, 51, 119);\"></span></td><td>experiments-Omniscient-Scale/iid/Omniscient4_scale_0.1/median</td><td>94.47</td><td>94.47</td><td>10</td><td>Thu Jan 16, 21:04:44</td><td>6m 17s</td></tr><tr><td><span class=\"swatch\" style=\"background-color: rgb(204, 51, 17);\"></span></td><td>experiments-Omniscient-Scale/iid/Omniscient4_scale_0/deepGAR</td><td>94.92</td><td>94.92</td><td>10</td><td>Thu Jan 16, 21:28:41</td><td>3m 50s</td></tr><tr><td><span class=\"swatch\" style=\"background-color: rgb(238, 51, 119);\"></span></td><td>experiments-Omniscient-Scale/iid/Omniscient4_scale_0/fedavg</td><td>93.89</td><td>93.89</td><td>10</td><td>Thu Jan 16, 21:40:04</td><td>5m 1s</td></tr><tr><td><span class=\"swatch\" style=\"background-color: rgb(51, 187, 238);\"></span></td><td>experiments-Omniscient-Scale/iid/Omniscient4_scale_0/median</td><td>94.53</td><td>94.53</td><td>10</td><td>Thu Jan 16, 21:35:00</td><td>6m 16s</td></tr><tr class=\"\"><td><span class=\"swatch\" style=\"background-color: rgb(255, 112, 67);\"></span></td><td>experiments-Omniscient-Scale/iid/Omniscient4_scale_1/deepGAR</td><td>86.81</td><td>86.81</td><td>10</td><td>Thu Jan 16, 20:43:25</td><td>3m 46s</td></tr><tr><td><span class=\"swatch\" style=\"background-color: rgb(204, 51, 17);\"></span></td><td>experiments-Omniscient-Scale/iid/Omniscient4_scale_1/fedavg</td><td>88.27</td><td>88.27</td><td>10</td><td>Thu Jan 16, 20:54:35</td><td>4m 57s</td></tr><tr><td><span class=\"swatch\" style=\"background-color: rgb(0, 119, 187);\"></span></td><td>experiments-Omniscient-Scale/iid/Omniscient4_scale_1/median</td><td>94.39</td><td>94.39</td><td>10</td><td>Thu Jan 16, 20:49:34</td><td>6m 7s</td></tr><tr class=\"closest\"><td><span class=\"swatch\" style=\"background-color: rgb(238, 51, 119);\"></span></td><td>experiments-Omniscient-Scale/iid/Omniscient4_scale_10/deepGAR</td><td>47.09</td><td>47.09</td><td>10</td><td>Thu Jan 16, 20:28:09</td><td>3m 55s</td></tr><tr><td><span class=\"swatch\" style=\"background-color: rgb(187, 187, 187);\"></span></td><td>experiments-Omniscient-Scale/iid/Omniscient4_scale_10/fedavg</td><td>9.8</td><td>9.8</td><td>10</td><td>Thu Jan 16, 20:39:36</td><td>5m 5s</td></tr><tr class=\"\"><td><span class=\"swatch\" style=\"background-color: rgb(0, 153, 136);\"></span></td><td>experiments-Omniscient-Scale/iid/Omniscient4_scale_10/median</td><td>94.39</td><td>94.39</td><td>10</td><td>Thu Jan 16, 20:34:28</td><td>6m 15s</td></tr><tr><td><span class=\"swatch\" style=\"background-color: rgb(255, 112, 67);\"></span></td><td>experiments-Omniscient-Scale/iid/Omniscient5_scale_0.01/deepGAR</td><td>93.65</td><td>93.65</td><td>10</td><td>Thu Jan 16, 22:29:47</td><td>3m 50s</td></tr><tr><td><span class=\"swatch\" style=\"background-color: rgb(204, 51, 17);\"></span></td><td>experiments-Omniscient-Scale/iid/Omniscient5_scale_0.01/fedavg</td><td>93.03</td><td>93.03</td><td>10</td><td>Thu Jan 16, 22:41:00</td><td>4m 58s</td></tr><tr><td><span class=\"swatch\" style=\"background-color: rgb(0, 119, 187);\"></span></td><td>experiments-Omniscient-Scale/iid/Omniscient5_scale_0.01/median</td><td>80.15</td><td>80.15</td><td>10</td><td>Thu Jan 16, 22:35:59</td><td>6m 8s</td></tr><tr><td><span class=\"swatch\" style=\"background-color: rgb(238, 51, 119);\"></span></td><td>experiments-Omniscient-Scale/iid/Omniscient5_scale_0.1/deepGAR</td><td>49.56</td><td>49.56</td><td>10</td><td>Thu Jan 16, 22:14:20</td><td>3m 52s</td></tr><tr><td><span class=\"swatch\" style=\"background-color: rgb(187, 187, 187);\"></span></td><td>experiments-Omniscient-Scale/iid/Omniscient5_scale_0.1/fedavg</td><td>92.61</td><td>92.61</td><td>10</td><td>Thu Jan 16, 22:25:55</td><td>5m 7s</td></tr><tr><td><span class=\"swatch\" style=\"background-color: rgb(0, 153, 136);\"></span></td><td>experiments-Omniscient-Scale/iid/Omniscient5_scale_0.1/median</td><td>21.04</td><td>21.04</td><td>10</td><td>Thu Jan 16, 22:20:45</td><td>6m 21s</td></tr><tr><td><span class=\"swatch\" style=\"background-color: rgb(51, 187, 238);\"></span></td><td>experiments-Omniscient-Scale/iid/Omniscient5_scale_0/deepGAR</td><td>94.15</td><td>94.15</td><td>10</td><td>Thu Jan 16, 22:44:44</td><td>3m 41s</td></tr><tr><td><span class=\"swatch\" style=\"background-color: rgb(0, 153, 136);\"></span></td><td>experiments-Omniscient-Scale/iid/Omniscient5_scale_0/fedavg</td><td>93.07</td><td>93.07</td><td>10</td><td>Thu Jan 16, 22:56:08</td><td>4m 56s</td></tr><tr><td><span class=\"swatch\" style=\"background-color: rgb(238, 51, 119);\"></span></td><td>experiments-Omniscient-Scale/iid/Omniscient5_scale_0/median</td><td>81.58</td><td>81.58</td><td>10</td><td>Thu Jan 16, 22:51:09</td><td>6m 22s</td></tr><tr><td><span class=\"swatch\" style=\"background-color: rgb(0, 119, 187);\"></span></td><td>experiments-Omniscient-Scale/iid/Omniscient5_scale_1/deepGAR</td><td>0.3</td><td>0.3</td><td>10</td><td>Thu Jan 16, 21:58:56</td><td>3m 49s</td></tr><tr><td><span class=\"swatch\" style=\"background-color: rgb(51, 187, 238);\"></span></td><td>experiments-Omniscient-Scale/iid/Omniscient5_scale_1/fedavg</td><td>11.32</td><td>11.32</td><td>10</td><td>Thu Jan 16, 22:10:25</td><td>5m 3s</td></tr><tr><td><span class=\"swatch\" style=\"background-color: rgb(204, 51, 17);\"></span></td><td>experiments-Omniscient-Scale/iid/Omniscient5_scale_1/median</td><td>11.57</td><td>11.57</td><td>10</td><td>Thu Jan 16, 22:05:19</td><td>6m 20s</td></tr><tr><td><span class=\"swatch\" style=\"background-color: rgb(0, 153, 136);\"></span></td><td>experiments-Omniscient-Scale/iid/Omniscient5_scale_10/deepGAR</td><td>9.8</td><td>9.8</td><td>10</td><td>Thu Jan 16, 21:43:54</td><td>3m 46s</td></tr><tr><td><span class=\"swatch\" style=\"background-color: rgb(255, 112, 67);\"></span></td><td>experiments-Omniscient-Scale/iid/Omniscient5_scale_10/fedavg</td><td>9.8</td><td>9.8</td><td>10</td><td>Thu Jan 16, 21:55:04</td><td>4m 50s</td></tr><tr><td><span class=\"swatch\" style=\"background-color: rgb(187, 187, 187);\"></span></td><td>experiments-Omniscient-Scale/iid/Omniscient5_scale_10/median</td><td>10.28</td><td>10.28</td><td>10</td><td>Thu Jan 16, 21:50:11</td><td>6m 14s</td></tr></tbody>\n",
       "      </table>"
      ]
     },
     "metadata": {},
     "output_type": "display_data"
    }
   ],
   "source": [
    "# string = \"\"\"<table>\n",
    "#         <thead><th></th><th>Name</th><th>Smoothed</th><th>Value</th><th>Step</th><th>Time</th><th>Relative</th></thead>\n",
    "#         <tbody><tr class=\"distant\"><td><span class=\"swatch\" style=\"background-color: rgb(0, 119, 187);\"></span></td><td>pointNetBig/deepGAR_iid_</td><td>95.73</td><td>95.73</td><td>10</td><td>Wed Jan  8, 09:46:53</td><td>15m 39s</td></tr><tr class=\"distant\"><td><span class=\"swatch\" style=\"background-color: rgb(0, 153, 136);\"></span></td><td>pointNetBig/deepGAR_iid_Omniscient</td><td>95.67</td><td>95.67</td><td>10</td><td>Wed Jan  8, 09:56:15</td><td>4m 34s</td></tr><tr class=\"distant\"><td><span class=\"swatch\" style=\"background-color: rgb(204, 51, 17);\"></span></td><td>pointNetBig/deepGAR_iid_Omniscient2</td><td>95.51</td><td>95.51</td><td>10</td><td>Wed Jan  8, 10:05:26</td><td>4m 31s</td></tr><tr class=\"distant\"><td><span class=\"swatch\" style=\"background-color: rgb(187, 187, 187);\"></span></td><td>pointNetBig/deepGAR_iid_Omniscient2_scale_0</td><td>95.42</td><td>95.42</td><td>10</td><td>Wed Jan  8, 10:31:15</td><td>4m 34s</td></tr><tr class=\"distant\"><td><span class=\"swatch\" style=\"background-color: rgb(238, 51, 119);\"></span></td><td>pointNetBig/deepGAR_iid_Omniscient2_scale_0.01</td><td>95.36</td><td>95.36</td><td>10</td><td>Wed Jan  8, 10:26:38</td><td>4m 30s</td></tr><tr class=\"distant\"><td><span class=\"swatch\" style=\"background-color: rgb(204, 51, 17);\"></span></td><td>pointNetBig/deepGAR_iid_Omniscient2_scale_0.1</td><td>94.99</td><td>94.99</td><td>10</td><td>Wed Jan  8, 10:22:05</td><td>4m 29s</td></tr><tr class=\"distant\"><td><span class=\"swatch\" style=\"background-color: rgb(255, 112, 67);\"></span></td><td>pointNetBig/deepGAR_iid_Omniscient2_scale_1</td><td>93.94</td><td>93.94</td><td>10</td><td>Wed Jan  8, 10:17:32</td><td>4m 30s</td></tr><tr class=\"distant\"><td><span class=\"swatch\" style=\"background-color: rgb(0, 153, 136);\"></span></td><td>pointNetBig/deepGAR_iid_Omniscient2_scale_10</td><td>95.51</td><td>95.51</td><td>10</td><td>Wed Jan  8, 10:12:59</td><td>4m 28s</td></tr><tr class=\"distant\"><td><span class=\"swatch\" style=\"background-color: rgb(238, 51, 119);\"></span></td><td>pointNetBig/deepGAR_iid_Omniscient3</td><td>94.92</td><td>94.92</td><td>10</td><td>Wed Jan  8, 10:10:00</td><td>4m 31s</td></tr><tr class=\"distant\"><td><span class=\"swatch\" style=\"background-color: rgb(187, 187, 187);\"></span></td><td>pointNetBig/deepGAR_iid_Omniscient3_scale_0</td><td>95.06</td><td>95.06</td><td>10</td><td>Wed Jan  8, 10:53:39</td><td>4m 20s</td></tr><tr class=\"distant\"><td><span class=\"swatch\" style=\"background-color: rgb(0, 153, 136);\"></span></td><td>pointNetBig/deepGAR_iid_Omniscient3_scale_0.01</td><td>94.88</td><td>94.88</td><td>10</td><td>Wed Jan  8, 10:49:15</td><td>4m 22s</td></tr><tr class=\"distant\"><td><span class=\"swatch\" style=\"background-color: rgb(238, 51, 119);\"></span></td><td>pointNetBig/deepGAR_iid_Omniscient3_scale_0.1</td><td>94.03</td><td>94.03</td><td>10</td><td>Wed Jan  8, 10:44:49</td><td>4m 25s</td></tr><tr class=\"distant\"><td><span class=\"swatch\" style=\"background-color: rgb(51, 187, 238);\"></span></td><td>pointNetBig/deepGAR_iid_Omniscient3_scale_1</td><td>92.81</td><td>92.81</td><td>10</td><td>Wed Jan  8, 10:40:22</td><td>4m 28s</td></tr><tr class=\"distant\"><td><span class=\"swatch\" style=\"background-color: rgb(0, 119, 187);\"></span></td><td>pointNetBig/deepGAR_iid_Omniscient3_scale_10</td><td>94.92</td><td>94.92</td><td>10</td><td>Wed Jan  8, 10:35:50</td><td>4m 31s</td></tr><tr class=\"distant\"><td><span class=\"swatch\" style=\"background-color: rgb(187, 187, 187);\"></span></td><td>pointNetBig/deepGAR_iid_Omniscient4</td><td>88.48</td><td>88.48</td><td>10</td><td>Wed Jan  8, 10:14:34</td><td>4m 30s</td></tr><tr class=\"distant\"><td><span class=\"swatch\" style=\"background-color: rgb(238, 51, 119);\"></span></td><td>pointNetBig/deepGAR_iid_Omniscient4_scale_0</td><td>95.05</td><td>95.05</td><td>10</td><td>Wed Jan  8, 11:15:51</td><td>4m 24s</td></tr><tr class=\"distant\"><td><span class=\"swatch\" style=\"background-color: rgb(51, 187, 238);\"></span></td><td>pointNetBig/deepGAR_iid_Omniscient4_scale_0.01</td><td>94.72</td><td>94.72</td><td>10</td><td>Wed Jan  8, 11:11:23</td><td>4m 26s</td></tr><tr class=\"distant\"><td><span class=\"swatch\" style=\"background-color: rgb(204, 51, 17);\"></span></td><td>pointNetBig/deepGAR_iid_Omniscient4_scale_0.1</td><td>91.39</td><td>91.39</td><td>10</td><td>Wed Jan  8, 11:06:54</td><td>4m 20s</td></tr><tr class=\"distant\"><td><span class=\"swatch\" style=\"background-color: rgb(0, 119, 187);\"></span></td><td>pointNetBig/deepGAR_iid_Omniscient4_scale_1</td><td>81.31</td><td>81.31</td><td>10</td><td>Wed Jan  8, 11:02:31</td><td>4m 22s</td></tr><tr class=\"distant\"><td><span class=\"swatch\" style=\"background-color: rgb(255, 112, 67);\"></span></td><td>pointNetBig/deepGAR_iid_Omniscient4_scale_10</td><td>88.48</td><td>88.48</td><td>10</td><td>Wed Jan  8, 10:58:05</td><td>4m 23s</td></tr><tr class=\"closest distant\"><td><span class=\"swatch\" style=\"background-color: rgb(0, 119, 187);\"></span></td><td>pointNetBig/deepGAR_iid_Omniscient5</td><td>9.8</td><td>9.8</td><td>10</td><td>Wed Jan  8, 10:19:07</td><td>4m 29s</td></tr><tr class=\"distant\"><td><span class=\"swatch\" style=\"background-color: rgb(204, 51, 17);\"></span></td><td>pointNetBig/deepGAR_iid_Omniscient5_scale_0</td><td>94</td><td>94</td><td>10</td><td>Wed Jan  8, 11:37:53</td><td>4m 22s</td></tr><tr class=\"distant\"><td><span class=\"swatch\" style=\"background-color: rgb(0, 119, 187);\"></span></td><td>pointNetBig/deepGAR_iid_Omniscient5_scale_0.01</td><td>93.35</td><td>93.35</td><td>10</td><td>Wed Jan  8, 11:33:28</td><td>4m 21s</td></tr><tr class=\"distant\"><td><span class=\"swatch\" style=\"background-color: rgb(255, 112, 67);\"></span></td><td>pointNetBig/deepGAR_iid_Omniscient5_scale_0.1</td><td>29.5</td><td>29.5</td><td>10</td><td>Wed Jan  8, 11:29:03</td><td>4m 26s</td></tr><tr class=\"closest distant\"><td><span class=\"swatch\" style=\"background-color: rgb(187, 187, 187);\"></span></td><td>pointNetBig/deepGAR_iid_Omniscient5_scale_1</td><td>9.8</td><td>9.8</td><td>10</td><td>Wed Jan  8, 11:24:33</td><td>4m 16s</td></tr><tr class=\"closest distant\"><td><span class=\"swatch\" style=\"background-color: rgb(0, 153, 136);\"></span></td><td>pointNetBig/deepGAR_iid_Omniscient5_scale_10</td><td>9.8</td><td>9.8</td><td>10</td><td>Wed Jan  8, 11:20:14</td><td>4m 19s</td></tr><tr class=\"distant\"><td><span class=\"swatch\" style=\"background-color: rgb(255, 112, 67);\"></span></td><td>pointNetBig/deepGAR_iid_Omniscient_Aggresive</td><td>95.67</td><td>95.67</td><td>10</td><td>Wed Jan  8, 10:00:52</td><td>4m 33s</td></tr><tr class=\"distant\"><td><span class=\"swatch\" style=\"background-color: rgb(51, 187, 238);\"></span></td><td>pointNetBig/deepGAR_iid_Omniscient_scale_0</td><td>95.6</td><td>95.6</td><td>10</td><td>Wed Jan  8, 10:08:27</td><td>4m 29s</td></tr><tr class=\"distant\"><td><span class=\"swatch\" style=\"background-color: rgb(0, 119, 187);\"></span></td><td>pointNetBig/deepGAR_iid_Omniscient_scale_0.01</td><td>95.59</td><td>95.59</td><td>10</td><td>Wed Jan  8, 10:03:55</td><td>4m 30s</td></tr><tr class=\"distant\"><td><span class=\"swatch\" style=\"background-color: rgb(187, 187, 187);\"></span></td><td>pointNetBig/deepGAR_iid_Omniscient_scale_0.1</td><td>95.61</td><td>95.61</td><td>10</td><td>Wed Jan  8, 09:59:21</td><td>4m 30s</td></tr><tr class=\"distant\"><td><span class=\"swatch\" style=\"background-color: rgb(238, 51, 119);\"></span></td><td>pointNetBig/deepGAR_iid_Omniscient_scale_1</td><td>94.9</td><td>94.9</td><td>10</td><td>Wed Jan  8, 09:54:48</td><td>4m 44s</td></tr><tr class=\"distant\"><td><span class=\"swatch\" style=\"background-color: rgb(51, 187, 238);\"></span></td><td>pointNetBig/deepGAR_iid_Omniscient_scale_10</td><td>95.67</td><td>95.67</td><td>10</td><td>Wed Jan  8, 09:50:00</td><td>4m 46s</td></tr><tr class=\"distant\"><td><span class=\"swatch\" style=\"background-color: rgb(204, 51, 17);\"></span></td><td>pointNetBig/deepGAR_iid_labelFlipping</td><td>95.49</td><td>95.49</td><td>10</td><td>Wed Jan  8, 09:51:37</td><td>15m 54s</td></tr><tr class=\"distant\"><td><span class=\"swatch\" style=\"background-color: rgb(51, 187, 238);\"></span></td><td>pointNetBig/deepGAR_iid_labelFlipping2</td><td>95.32</td><td>95.32</td><td>10</td><td>Wed Jan  8, 10:24:03</td><td>4m 53s</td></tr><tr class=\"distant\"><td><span class=\"swatch\" style=\"background-color: rgb(0, 153, 136);\"></span></td><td>pointNetBig/deepGAR_iid_labelFlipping3</td><td>94.86</td><td>94.86</td><td>10</td><td>Wed Jan  8, 10:29:08</td><td>5m 1s</td></tr><tr class=\"distant\"><td><span class=\"swatch\" style=\"background-color: rgb(255, 112, 67);\"></span></td><td>pointNetBig/deepGAR_iid_labelFlipping4</td><td>94.76</td><td>94.76</td><td>10</td><td>Wed Jan  8, 10:34:24</td><td>5m 12s</td></tr><tr class=\"distant\"><td><span class=\"swatch\" style=\"background-color: rgb(204, 51, 17);\"></span></td><td>pointNetBig/deepGAR_iid_labelFlipping5</td><td>93.11</td><td>93.11</td><td>10</td><td>Wed Jan  8, 10:39:46</td><td>5m 19s</td></tr></tbody>\n",
    "#       </table>\"\"\"\n",
    "string=\"\"\"<table>\n",
    "        <thead><th></th><th>Name</th><th>Smoothed</th><th>Value</th><th>Step</th><th>Time</th><th>Relative</th></thead>\n",
    "        <tbody><tr><td><span class=\"swatch\" style=\"background-color: rgb(51, 187, 238);\"></span></td><td>experiments-Omniscient-Scale/iid/Omniscient1_scale_0.01/deepGAR</td><td>95.63</td><td>95.63</td><td>10</td><td>Thu Jan 16, 17:13:32</td><td>4m 21s</td></tr><tr><td><span class=\"swatch\" style=\"background-color: rgb(0, 153, 136);\"></span></td><td>experiments-Omniscient-Scale/iid/Omniscient1_scale_0.01/fedavg</td><td>95.44</td><td>95.44</td><td>10</td><td>Thu Jan 16, 17:26:25</td><td>5m 31s</td></tr><tr><td><span class=\"swatch\" style=\"background-color: rgb(238, 51, 119);\"></span></td><td>experiments-Omniscient-Scale/iid/Omniscient1_scale_0.01/median</td><td>95.59</td><td>95.59</td><td>10</td><td>Thu Jan 16, 17:20:49</td><td>7m 15s</td></tr><tr><td><span class=\"swatch\" style=\"background-color: rgb(255, 112, 67);\"></span></td><td>experiments-Omniscient-Scale/iid/Omniscient1_scale_0.1/deepGAR</td><td>95.5</td><td>95.5</td><td>10</td><td>Thu Jan 16, 16:56:30</td><td>4m 12s</td></tr><tr><td><span class=\"swatch\" style=\"background-color: rgb(204, 51, 17);\"></span></td><td>experiments-Omniscient-Scale/iid/Omniscient1_scale_0.1/fedavg</td><td>95.41</td><td>95.41</td><td>10</td><td>Thu Jan 16, 17:09:07</td><td>5m 37s</td></tr><tr><td><span class=\"swatch\" style=\"background-color: rgb(0, 119, 187);\"></span></td><td>experiments-Omniscient-Scale/iid/Omniscient1_scale_0.1/median</td><td>95.59</td><td>95.59</td><td>10</td><td>Thu Jan 16, 17:03:26</td><td>6m 53s</td></tr><tr><td><span class=\"swatch\" style=\"background-color: rgb(187, 187, 187);\"></span></td><td>experiments-Omniscient-Scale/iid/Omniscient1_scale_0/deepGAR</td><td>95.59</td><td>95.59</td><td>10</td><td>Thu Jan 16, 17:30:47</td><td>4m 17s</td></tr><tr><td><span class=\"swatch\" style=\"background-color: rgb(0, 119, 187);\"></span></td><td>experiments-Omniscient-Scale/iid/Omniscient1_scale_0/fedavg</td><td>95.44</td><td>95.44</td><td>10</td><td>Thu Jan 16, 17:43:39</td><td>5m 45s</td></tr><tr><td><span class=\"swatch\" style=\"background-color: rgb(255, 112, 67);\"></span></td><td>experiments-Omniscient-Scale/iid/Omniscient1_scale_0/median</td><td>95.6</td><td>95.6</td><td>10</td><td>Thu Jan 16, 17:37:51</td><td>7m 1s</td></tr><tr><td><span class=\"swatch\" style=\"background-color: rgb(238, 51, 119);\"></span></td><td>experiments-Omniscient-Scale/iid/Omniscient1_scale_1/deepGAR</td><td>95.01</td><td>95.01</td><td>10</td><td>Thu Jan 16, 16:39:35</td><td>4m 17s</td></tr><tr><td><span class=\"swatch\" style=\"background-color: rgb(187, 187, 187);\"></span></td><td>experiments-Omniscient-Scale/iid/Omniscient1_scale_1/fedavg</td><td>94.98</td><td>94.98</td><td>10</td><td>Thu Jan 16, 16:52:14</td><td>5m 26s</td></tr><tr><td><span class=\"swatch\" style=\"background-color: rgb(0, 153, 136);\"></span></td><td>experiments-Omniscient-Scale/iid/Omniscient1_scale_1/median</td><td>95.63</td><td>95.63</td><td>10</td><td>Thu Jan 16, 16:46:45</td><td>7m 6s</td></tr><tr class=\"\"><td><span class=\"swatch\" style=\"background-color: rgb(0, 119, 187);\"></span></td><td>experiments-Omniscient-Scale/iid/Omniscient1_scale_10/deepGAR</td><td>95.61</td><td>95.61</td><td>10</td><td>Thu Jan 16, 16:23:12</td><td>4m 0s</td></tr><tr><td><span class=\"swatch\" style=\"background-color: rgb(51, 187, 238);\"></span></td><td>experiments-Omniscient-Scale/iid/Omniscient1_scale_10/fedavg</td><td>8.94</td><td>8.94</td><td>10</td><td>Thu Jan 16, 16:35:14</td><td>5m 26s</td></tr><tr><td><span class=\"swatch\" style=\"background-color: rgb(204, 51, 17);\"></span></td><td>experiments-Omniscient-Scale/iid/Omniscient1_scale_10/median</td><td>95.63</td><td>95.63</td><td>10</td><td>Thu Jan 16, 16:29:46</td><td>6m 31s</td></tr><tr><td><span class=\"swatch\" style=\"background-color: rgb(238, 51, 119);\"></span></td><td>experiments-Omniscient-Scale/iid/Omniscient2_scale_0.01/deepGAR</td><td>95.36</td><td>95.36</td><td>10</td><td>Thu Jan 16, 18:37:17</td><td>4m 12s</td></tr><tr><td><span class=\"swatch\" style=\"background-color: rgb(187, 187, 187);\"></span></td><td>experiments-Omniscient-Scale/iid/Omniscient2_scale_0.01/fedavg</td><td>95</td><td>95</td><td>10</td><td>Thu Jan 16, 18:49:45</td><td>5m 39s</td></tr><tr><td><span class=\"swatch\" style=\"background-color: rgb(0, 153, 136);\"></span></td><td>experiments-Omniscient-Scale/iid/Omniscient2_scale_0.01/median</td><td>95.42</td><td>95.42</td><td>10</td><td>Thu Jan 16, 18:44:03</td><td>6m 42s</td></tr><tr><td><span class=\"swatch\" style=\"background-color: rgb(0, 119, 187);\"></span></td><td>experiments-Omniscient-Scale/iid/Omniscient2_scale_0.1/deepGAR</td><td>94.99</td><td>94.99</td><td>10</td><td>Thu Jan 16, 18:20:41</td><td>4m 25s</td></tr><tr><td><span class=\"swatch\" style=\"background-color: rgb(51, 187, 238);\"></span></td><td>experiments-Omniscient-Scale/iid/Omniscient2_scale_0.1/fedavg</td><td>94.94</td><td>94.94</td><td>10</td><td>Thu Jan 16, 18:33:01</td><td>5m 17s</td></tr><tr><td><span class=\"swatch\" style=\"background-color: rgb(204, 51, 17);\"></span></td><td>experiments-Omniscient-Scale/iid/Omniscient2_scale_0.1/median</td><td>95.42</td><td>95.42</td><td>10</td><td>Thu Jan 16, 18:27:41</td><td>6m 56s</td></tr><tr><td><span class=\"swatch\" style=\"background-color: rgb(255, 112, 67);\"></span></td><td>experiments-Omniscient-Scale/iid/Omniscient2_scale_0/deepGAR</td><td>95.42</td><td>95.42</td><td>10</td><td>Thu Jan 16, 18:54:11</td><td>4m 23s</td></tr><tr><td><span class=\"swatch\" style=\"background-color: rgb(204, 51, 17);\"></span></td><td>experiments-Omniscient-Scale/iid/Omniscient2_scale_0/fedavg</td><td>95.02</td><td>95.02</td><td>10</td><td>Thu Jan 16, 19:07:22</td><td>5m 38s</td></tr><tr><td><span class=\"swatch\" style=\"background-color: rgb(0, 119, 187);\"></span></td><td>experiments-Omniscient-Scale/iid/Omniscient2_scale_0/median</td><td>95.42</td><td>95.42</td><td>10</td><td>Thu Jan 16, 19:01:41</td><td>7m 26s</td></tr><tr><td><span class=\"swatch\" style=\"background-color: rgb(0, 153, 136);\"></span></td><td>experiments-Omniscient-Scale/iid/Omniscient2_scale_1/deepGAR</td><td>93.94</td><td>93.94</td><td>10</td><td>Thu Jan 16, 18:03:48</td><td>3m 59s</td></tr><tr><td><span class=\"swatch\" style=\"background-color: rgb(255, 112, 67);\"></span></td><td>experiments-Omniscient-Scale/iid/Omniscient2_scale_1/fedavg</td><td>93.65</td><td>93.65</td><td>10</td><td>Thu Jan 16, 18:16:13</td><td>5m 38s</td></tr><tr><td><span class=\"swatch\" style=\"background-color: rgb(187, 187, 187);\"></span></td><td>experiments-Omniscient-Scale/iid/Omniscient2_scale_1/median</td><td>95.4</td><td>95.4</td><td>10</td><td>Thu Jan 16, 18:10:32</td><td>6m 40s</td></tr><tr><td><span class=\"swatch\" style=\"background-color: rgb(204, 51, 17);\"></span></td><td>experiments-Omniscient-Scale/iid/Omniscient2_scale_10/deepGAR</td><td>95.51</td><td>95.51</td><td>10</td><td>Thu Jan 16, 17:47:44</td><td>4m 1s</td></tr><tr><td><span class=\"swatch\" style=\"background-color: rgb(238, 51, 119);\"></span></td><td>experiments-Omniscient-Scale/iid/Omniscient2_scale_10/fedavg</td><td>9.8</td><td>9.8</td><td>10</td><td>Thu Jan 16, 17:59:44</td><td>5m 16s</td></tr><tr><td><span class=\"swatch\" style=\"background-color: rgb(51, 187, 238);\"></span></td><td>experiments-Omniscient-Scale/iid/Omniscient2_scale_10/median</td><td>95.42</td><td>95.42</td><td>10</td><td>Thu Jan 16, 17:54:25</td><td>6m 38s</td></tr><tr><td><span class=\"swatch\" style=\"background-color: rgb(0, 153, 136);\"></span></td><td>experiments-Omniscient-Scale/iid/Omniscient3_scale_0.01/deepGAR</td><td>95.11</td><td>95.11</td><td>10</td><td>Thu Jan 16, 19:57:24</td><td>3m 48s</td></tr><tr><td><span class=\"swatch\" style=\"background-color: rgb(255, 112, 67);\"></span></td><td>experiments-Omniscient-Scale/iid/Omniscient3_scale_0.01/fedavg</td><td>94.44</td><td>94.44</td><td>10</td><td>Thu Jan 16, 20:08:50</td><td>4m 59s</td></tr><tr><td><span class=\"swatch\" style=\"background-color: rgb(187, 187, 187);\"></span></td><td>experiments-Omniscient-Scale/iid/Omniscient3_scale_0.01/median</td><td>95.11</td><td>95.11</td><td>10</td><td>Thu Jan 16, 20:03:48</td><td>6m 22s</td></tr><tr><td><span class=\"swatch\" style=\"background-color: rgb(204, 51, 17);\"></span></td><td>experiments-Omniscient-Scale/iid/Omniscient3_scale_0.1/deepGAR</td><td>94.07</td><td>94.07</td><td>10</td><td>Thu Jan 16, 19:42:06</td><td>3m 50s</td></tr><tr><td><span class=\"swatch\" style=\"background-color: rgb(238, 51, 119);\"></span></td><td>experiments-Omniscient-Scale/iid/Omniscient3_scale_0.1/fedavg</td><td>94.23</td><td>94.23</td><td>10</td><td>Thu Jan 16, 19:53:32</td><td>5m 0s</td></tr><tr><td><span class=\"swatch\" style=\"background-color: rgb(51, 187, 238);\"></span></td><td>experiments-Omniscient-Scale/iid/Omniscient3_scale_0.1/median</td><td>95.11</td><td>95.11</td><td>10</td><td>Thu Jan 16, 19:48:29</td><td>6m 19s</td></tr><tr><td><span class=\"swatch\" style=\"background-color: rgb(0, 119, 187);\"></span></td><td>experiments-Omniscient-Scale/iid/Omniscient3_scale_0/deepGAR</td><td>95.27</td><td>95.27</td><td>10</td><td>Thu Jan 16, 20:12:47</td><td>3m 53s</td></tr><tr class=\"\"><td><span class=\"swatch\" style=\"background-color: rgb(51, 187, 238);\"></span></td><td>experiments-Omniscient-Scale/iid/Omniscient3_scale_0/fedavg</td><td>94.46</td><td>94.46</td><td>10</td><td>Thu Jan 16, 20:24:12</td><td>4m 58s</td></tr><tr><td><span class=\"swatch\" style=\"background-color: rgb(204, 51, 17);\"></span></td><td>experiments-Omniscient-Scale/iid/Omniscient3_scale_0/median</td><td>95.1</td><td>95.1</td><td>10</td><td>Thu Jan 16, 20:19:11</td><td>6m 21s</td></tr><tr><td><span class=\"swatch\" style=\"background-color: rgb(187, 187, 187);\"></span></td><td>experiments-Omniscient-Scale/iid/Omniscient3_scale_1/deepGAR</td><td>92.64</td><td>92.64</td><td>10</td><td>Thu Jan 16, 19:26:48</td><td>3m 52s</td></tr><tr><td><span class=\"swatch\" style=\"background-color: rgb(0, 119, 187);\"></span></td><td>experiments-Omniscient-Scale/iid/Omniscient3_scale_1/fedavg</td><td>92.13</td><td>92.13</td><td>10</td><td>Thu Jan 16, 19:38:13</td><td>5m 2s</td></tr><tr><td><span class=\"swatch\" style=\"background-color: rgb(255, 112, 67);\"></span></td><td>experiments-Omniscient-Scale/iid/Omniscient3_scale_1/median</td><td>95.05</td><td>95.05</td><td>10</td><td>Thu Jan 16, 19:33:07</td><td>6m 16s</td></tr><tr><td><span class=\"swatch\" style=\"background-color: rgb(51, 187, 238);\"></span></td><td>experiments-Omniscient-Scale/iid/Omniscient3_scale_10/deepGAR</td><td>94.72</td><td>94.72</td><td>10</td><td>Thu Jan 16, 19:11:34</td><td>4m 9s</td></tr><tr><td><span class=\"swatch\" style=\"background-color: rgb(0, 153, 136);\"></span></td><td>experiments-Omniscient-Scale/iid/Omniscient3_scale_10/fedavg</td><td>9.8</td><td>9.8</td><td>10</td><td>Thu Jan 16, 19:22:53</td><td>5m 3s</td></tr><tr><td><span class=\"swatch\" style=\"background-color: rgb(238, 51, 119);\"></span></td><td>experiments-Omniscient-Scale/iid/Omniscient3_scale_10/median</td><td>95.04</td><td>95.04</td><td>10</td><td>Thu Jan 16, 19:17:47</td><td>6m 9s</td></tr><tr><td><span class=\"swatch\" style=\"background-color: rgb(187, 187, 187);\"></span></td><td>experiments-Omniscient-Scale/iid/Omniscient4_scale_0.01/deepGAR</td><td>94.57</td><td>94.57</td><td>10</td><td>Thu Jan 16, 21:13:35</td><td>3m 47s</td></tr><tr><td><span class=\"swatch\" style=\"background-color: rgb(0, 119, 187);\"></span></td><td>experiments-Omniscient-Scale/iid/Omniscient4_scale_0.01/fedavg</td><td>93.84</td><td>93.84</td><td>10</td><td>Thu Jan 16, 21:24:46</td><td>4m 53s</td></tr><tr><td><span class=\"swatch\" style=\"background-color: rgb(255, 112, 67);\"></span></td><td>experiments-Omniscient-Scale/iid/Omniscient4_scale_0.01/median</td><td>94.54</td><td>94.54</td><td>10</td><td>Thu Jan 16, 21:19:49</td><td>6m 11s</td></tr><tr><td><span class=\"swatch\" style=\"background-color: rgb(51, 187, 238);\"></span></td><td>experiments-Omniscient-Scale/iid/Omniscient4_scale_0.1/deepGAR</td><td>91.32</td><td>91.32</td><td>10</td><td>Thu Jan 16, 20:58:23</td><td>3m 44s</td></tr><tr><td><span class=\"swatch\" style=\"background-color: rgb(0, 153, 136);\"></span></td><td>experiments-Omniscient-Scale/iid/Omniscient4_scale_0.1/fedavg</td><td>93.65</td><td>93.65</td><td>10</td><td>Thu Jan 16, 21:09:45</td><td>4m 58s</td></tr><tr><td><span class=\"swatch\" style=\"background-color: rgb(238, 51, 119);\"></span></td><td>experiments-Omniscient-Scale/iid/Omniscient4_scale_0.1/median</td><td>94.47</td><td>94.47</td><td>10</td><td>Thu Jan 16, 21:04:44</td><td>6m 17s</td></tr><tr><td><span class=\"swatch\" style=\"background-color: rgb(204, 51, 17);\"></span></td><td>experiments-Omniscient-Scale/iid/Omniscient4_scale_0/deepGAR</td><td>94.92</td><td>94.92</td><td>10</td><td>Thu Jan 16, 21:28:41</td><td>3m 50s</td></tr><tr><td><span class=\"swatch\" style=\"background-color: rgb(238, 51, 119);\"></span></td><td>experiments-Omniscient-Scale/iid/Omniscient4_scale_0/fedavg</td><td>93.89</td><td>93.89</td><td>10</td><td>Thu Jan 16, 21:40:04</td><td>5m 1s</td></tr><tr><td><span class=\"swatch\" style=\"background-color: rgb(51, 187, 238);\"></span></td><td>experiments-Omniscient-Scale/iid/Omniscient4_scale_0/median</td><td>94.53</td><td>94.53</td><td>10</td><td>Thu Jan 16, 21:35:00</td><td>6m 16s</td></tr><tr class=\"\"><td><span class=\"swatch\" style=\"background-color: rgb(255, 112, 67);\"></span></td><td>experiments-Omniscient-Scale/iid/Omniscient4_scale_1/deepGAR</td><td>86.81</td><td>86.81</td><td>10</td><td>Thu Jan 16, 20:43:25</td><td>3m 46s</td></tr><tr><td><span class=\"swatch\" style=\"background-color: rgb(204, 51, 17);\"></span></td><td>experiments-Omniscient-Scale/iid/Omniscient4_scale_1/fedavg</td><td>88.27</td><td>88.27</td><td>10</td><td>Thu Jan 16, 20:54:35</td><td>4m 57s</td></tr><tr><td><span class=\"swatch\" style=\"background-color: rgb(0, 119, 187);\"></span></td><td>experiments-Omniscient-Scale/iid/Omniscient4_scale_1/median</td><td>94.39</td><td>94.39</td><td>10</td><td>Thu Jan 16, 20:49:34</td><td>6m 7s</td></tr><tr class=\"closest\"><td><span class=\"swatch\" style=\"background-color: rgb(238, 51, 119);\"></span></td><td>experiments-Omniscient-Scale/iid/Omniscient4_scale_10/deepGAR</td><td>47.09</td><td>47.09</td><td>10</td><td>Thu Jan 16, 20:28:09</td><td>3m 55s</td></tr><tr><td><span class=\"swatch\" style=\"background-color: rgb(187, 187, 187);\"></span></td><td>experiments-Omniscient-Scale/iid/Omniscient4_scale_10/fedavg</td><td>9.8</td><td>9.8</td><td>10</td><td>Thu Jan 16, 20:39:36</td><td>5m 5s</td></tr><tr class=\"\"><td><span class=\"swatch\" style=\"background-color: rgb(0, 153, 136);\"></span></td><td>experiments-Omniscient-Scale/iid/Omniscient4_scale_10/median</td><td>94.39</td><td>94.39</td><td>10</td><td>Thu Jan 16, 20:34:28</td><td>6m 15s</td></tr><tr><td><span class=\"swatch\" style=\"background-color: rgb(255, 112, 67);\"></span></td><td>experiments-Omniscient-Scale/iid/Omniscient5_scale_0.01/deepGAR</td><td>93.65</td><td>93.65</td><td>10</td><td>Thu Jan 16, 22:29:47</td><td>3m 50s</td></tr><tr><td><span class=\"swatch\" style=\"background-color: rgb(204, 51, 17);\"></span></td><td>experiments-Omniscient-Scale/iid/Omniscient5_scale_0.01/fedavg</td><td>93.03</td><td>93.03</td><td>10</td><td>Thu Jan 16, 22:41:00</td><td>4m 58s</td></tr><tr><td><span class=\"swatch\" style=\"background-color: rgb(0, 119, 187);\"></span></td><td>experiments-Omniscient-Scale/iid/Omniscient5_scale_0.01/median</td><td>80.15</td><td>80.15</td><td>10</td><td>Thu Jan 16, 22:35:59</td><td>6m 8s</td></tr><tr><td><span class=\"swatch\" style=\"background-color: rgb(238, 51, 119);\"></span></td><td>experiments-Omniscient-Scale/iid/Omniscient5_scale_0.1/deepGAR</td><td>49.56</td><td>49.56</td><td>10</td><td>Thu Jan 16, 22:14:20</td><td>3m 52s</td></tr><tr><td><span class=\"swatch\" style=\"background-color: rgb(187, 187, 187);\"></span></td><td>experiments-Omniscient-Scale/iid/Omniscient5_scale_0.1/fedavg</td><td>92.61</td><td>92.61</td><td>10</td><td>Thu Jan 16, 22:25:55</td><td>5m 7s</td></tr><tr><td><span class=\"swatch\" style=\"background-color: rgb(0, 153, 136);\"></span></td><td>experiments-Omniscient-Scale/iid/Omniscient5_scale_0.1/median</td><td>21.04</td><td>21.04</td><td>10</td><td>Thu Jan 16, 22:20:45</td><td>6m 21s</td></tr><tr><td><span class=\"swatch\" style=\"background-color: rgb(51, 187, 238);\"></span></td><td>experiments-Omniscient-Scale/iid/Omniscient5_scale_0/deepGAR</td><td>94.15</td><td>94.15</td><td>10</td><td>Thu Jan 16, 22:44:44</td><td>3m 41s</td></tr><tr><td><span class=\"swatch\" style=\"background-color: rgb(0, 153, 136);\"></span></td><td>experiments-Omniscient-Scale/iid/Omniscient5_scale_0/fedavg</td><td>93.07</td><td>93.07</td><td>10</td><td>Thu Jan 16, 22:56:08</td><td>4m 56s</td></tr><tr><td><span class=\"swatch\" style=\"background-color: rgb(238, 51, 119);\"></span></td><td>experiments-Omniscient-Scale/iid/Omniscient5_scale_0/median</td><td>81.58</td><td>81.58</td><td>10</td><td>Thu Jan 16, 22:51:09</td><td>6m 22s</td></tr><tr><td><span class=\"swatch\" style=\"background-color: rgb(0, 119, 187);\"></span></td><td>experiments-Omniscient-Scale/iid/Omniscient5_scale_1/deepGAR</td><td>0.3</td><td>0.3</td><td>10</td><td>Thu Jan 16, 21:58:56</td><td>3m 49s</td></tr><tr><td><span class=\"swatch\" style=\"background-color: rgb(51, 187, 238);\"></span></td><td>experiments-Omniscient-Scale/iid/Omniscient5_scale_1/fedavg</td><td>11.32</td><td>11.32</td><td>10</td><td>Thu Jan 16, 22:10:25</td><td>5m 3s</td></tr><tr><td><span class=\"swatch\" style=\"background-color: rgb(204, 51, 17);\"></span></td><td>experiments-Omniscient-Scale/iid/Omniscient5_scale_1/median</td><td>11.57</td><td>11.57</td><td>10</td><td>Thu Jan 16, 22:05:19</td><td>6m 20s</td></tr><tr><td><span class=\"swatch\" style=\"background-color: rgb(0, 153, 136);\"></span></td><td>experiments-Omniscient-Scale/iid/Omniscient5_scale_10/deepGAR</td><td>9.8</td><td>9.8</td><td>10</td><td>Thu Jan 16, 21:43:54</td><td>3m 46s</td></tr><tr><td><span class=\"swatch\" style=\"background-color: rgb(255, 112, 67);\"></span></td><td>experiments-Omniscient-Scale/iid/Omniscient5_scale_10/fedavg</td><td>9.8</td><td>9.8</td><td>10</td><td>Thu Jan 16, 21:55:04</td><td>4m 50s</td></tr><tr><td><span class=\"swatch\" style=\"background-color: rgb(187, 187, 187);\"></span></td><td>experiments-Omniscient-Scale/iid/Omniscient5_scale_10/median</td><td>10.28</td><td>10.28</td><td>10</td><td>Thu Jan 16, 21:50:11</td><td>6m 14s</td></tr></tbody>\n",
    "      </table>\"\"\"\n",
    "df=parse_table(string)"
   ]
  },
  {
   "cell_type": "code",
   "execution_count": 204,
   "metadata": {},
   "outputs": [],
   "source": [
    "df_truncated= df[df['Name'].str.contains('scale')]"
   ]
  },
  {
   "cell_type": "code",
   "execution_count": null,
   "metadata": {},
   "outputs": [],
   "source": []
  },
  {
   "cell_type": "code",
   "execution_count": 205,
   "metadata": {},
   "outputs": [],
   "source": [
    "index_info = df_truncated['Name'].str.split('/',expand=True)\n",
    "df_truncated['Defense']=index_info[3]"
   ]
  },
  {
   "cell_type": "code",
   "execution_count": 206,
   "metadata": {},
   "outputs": [],
   "source": [
    "index_info_specific = index_info[2].str.split('_',expand=True)\n",
    "index_info_specific\n",
    "df_truncated['Number of Attackers']=index_info_specific[0].str[-1]\n",
    "df_truncated['Omniscient scale']=index_info_specific[2]"
   ]
  },
  {
   "cell_type": "code",
   "execution_count": 207,
   "metadata": {},
   "outputs": [],
   "source": [
    "# df_truncated['Attacks']=index_info[2]"
   ]
  },
  {
   "cell_type": "code",
   "execution_count": 208,
   "metadata": {},
   "outputs": [],
   "source": [
    "# df_truncated['Scale']=index_info[4]"
   ]
  },
  {
   "cell_type": "code",
   "execution_count": 209,
   "metadata": {},
   "outputs": [
    {
     "data": {
      "text/html": [
       "<div>\n",
       "<style scoped>\n",
       "    .dataframe tbody tr th:only-of-type {\n",
       "        vertical-align: middle;\n",
       "    }\n",
       "\n",
       "    .dataframe tbody tr th {\n",
       "        vertical-align: top;\n",
       "    }\n",
       "\n",
       "    .dataframe thead th {\n",
       "        text-align: right;\n",
       "    }\n",
       "</style>\n",
       "<table border=\"1\" class=\"dataframe\">\n",
       "  <thead>\n",
       "    <tr style=\"text-align: right;\">\n",
       "      <th></th>\n",
       "      <th>Unnamed: 0</th>\n",
       "      <th>Name</th>\n",
       "      <th>Smoothed</th>\n",
       "      <th>Value</th>\n",
       "      <th>Step</th>\n",
       "      <th>Time</th>\n",
       "      <th>Relative</th>\n",
       "      <th>Defense</th>\n",
       "      <th>Number of Attackers</th>\n",
       "      <th>Omniscient scale</th>\n",
       "    </tr>\n",
       "  </thead>\n",
       "  <tbody>\n",
       "    <tr>\n",
       "      <th>0</th>\n",
       "      <td>NaN</td>\n",
       "      <td>experiments-Omniscient-Scale/iid/Omniscient1_s...</td>\n",
       "      <td>95.63</td>\n",
       "      <td>95.63</td>\n",
       "      <td>10</td>\n",
       "      <td>Thu Jan 16, 17:13:32</td>\n",
       "      <td>4m 21s</td>\n",
       "      <td>deepGAR</td>\n",
       "      <td>1</td>\n",
       "      <td>0.01</td>\n",
       "    </tr>\n",
       "    <tr>\n",
       "      <th>1</th>\n",
       "      <td>NaN</td>\n",
       "      <td>experiments-Omniscient-Scale/iid/Omniscient1_s...</td>\n",
       "      <td>95.44</td>\n",
       "      <td>95.44</td>\n",
       "      <td>10</td>\n",
       "      <td>Thu Jan 16, 17:26:25</td>\n",
       "      <td>5m 31s</td>\n",
       "      <td>fedavg</td>\n",
       "      <td>1</td>\n",
       "      <td>0.01</td>\n",
       "    </tr>\n",
       "    <tr>\n",
       "      <th>2</th>\n",
       "      <td>NaN</td>\n",
       "      <td>experiments-Omniscient-Scale/iid/Omniscient1_s...</td>\n",
       "      <td>95.59</td>\n",
       "      <td>95.59</td>\n",
       "      <td>10</td>\n",
       "      <td>Thu Jan 16, 17:20:49</td>\n",
       "      <td>7m 15s</td>\n",
       "      <td>median</td>\n",
       "      <td>1</td>\n",
       "      <td>0.01</td>\n",
       "    </tr>\n",
       "    <tr>\n",
       "      <th>3</th>\n",
       "      <td>NaN</td>\n",
       "      <td>experiments-Omniscient-Scale/iid/Omniscient1_s...</td>\n",
       "      <td>95.50</td>\n",
       "      <td>95.50</td>\n",
       "      <td>10</td>\n",
       "      <td>Thu Jan 16, 16:56:30</td>\n",
       "      <td>4m 12s</td>\n",
       "      <td>deepGAR</td>\n",
       "      <td>1</td>\n",
       "      <td>0.1</td>\n",
       "    </tr>\n",
       "    <tr>\n",
       "      <th>4</th>\n",
       "      <td>NaN</td>\n",
       "      <td>experiments-Omniscient-Scale/iid/Omniscient1_s...</td>\n",
       "      <td>95.41</td>\n",
       "      <td>95.41</td>\n",
       "      <td>10</td>\n",
       "      <td>Thu Jan 16, 17:09:07</td>\n",
       "      <td>5m 37s</td>\n",
       "      <td>fedavg</td>\n",
       "      <td>1</td>\n",
       "      <td>0.1</td>\n",
       "    </tr>\n",
       "  </tbody>\n",
       "</table>\n",
       "</div>"
      ],
      "text/plain": [
       "   Unnamed: 0                                               Name  Smoothed  \\\n",
       "0         NaN  experiments-Omniscient-Scale/iid/Omniscient1_s...     95.63   \n",
       "1         NaN  experiments-Omniscient-Scale/iid/Omniscient1_s...     95.44   \n",
       "2         NaN  experiments-Omniscient-Scale/iid/Omniscient1_s...     95.59   \n",
       "3         NaN  experiments-Omniscient-Scale/iid/Omniscient1_s...     95.50   \n",
       "4         NaN  experiments-Omniscient-Scale/iid/Omniscient1_s...     95.41   \n",
       "\n",
       "   Value  Step                  Time Relative  Defense Number of Attackers  \\\n",
       "0  95.63    10  Thu Jan 16, 17:13:32   4m 21s  deepGAR                   1   \n",
       "1  95.44    10  Thu Jan 16, 17:26:25   5m 31s   fedavg                   1   \n",
       "2  95.59    10  Thu Jan 16, 17:20:49   7m 15s   median                   1   \n",
       "3  95.50    10  Thu Jan 16, 16:56:30   4m 12s  deepGAR                   1   \n",
       "4  95.41    10  Thu Jan 16, 17:09:07   5m 37s   fedavg                   1   \n",
       "\n",
       "  Omniscient scale  \n",
       "0             0.01  \n",
       "1             0.01  \n",
       "2             0.01  \n",
       "3              0.1  \n",
       "4              0.1  "
      ]
     },
     "execution_count": 209,
     "metadata": {},
     "output_type": "execute_result"
    }
   ],
   "source": [
    "df_truncated.head()"
   ]
  },
  {
   "cell_type": "code",
   "execution_count": 210,
   "metadata": {},
   "outputs": [],
   "source": [
    "out= df_truncated[['Number of Attackers','Omniscient scale','Value','Defense']]"
   ]
  },
  {
   "cell_type": "code",
   "execution_count": 211,
   "metadata": {},
   "outputs": [],
   "source": [
    "result_all = out.groupby(['Defense','Number of Attackers','Omniscient scale']).mean().unstack()"
   ]
  },
  {
   "cell_type": "code",
   "execution_count": 212,
   "metadata": {},
   "outputs": [
    {
     "data": {
      "text/html": [
       "<div>\n",
       "<style scoped>\n",
       "    .dataframe tbody tr th:only-of-type {\n",
       "        vertical-align: middle;\n",
       "    }\n",
       "\n",
       "    .dataframe tbody tr th {\n",
       "        vertical-align: top;\n",
       "    }\n",
       "\n",
       "    .dataframe thead th {\n",
       "        text-align: right;\n",
       "    }\n",
       "</style>\n",
       "<table border=\"1\" class=\"dataframe\">\n",
       "  <thead>\n",
       "    <tr style=\"text-align: right;\">\n",
       "      <th></th>\n",
       "      <th>Scale</th>\n",
       "      <th>0.0</th>\n",
       "      <th>0.01</th>\n",
       "      <th>0.1</th>\n",
       "      <th>1.0</th>\n",
       "      <th>10.0</th>\n",
       "    </tr>\n",
       "    <tr>\n",
       "      <th>Defense</th>\n",
       "      <th>Number of Attackers</th>\n",
       "      <th></th>\n",
       "      <th></th>\n",
       "      <th></th>\n",
       "      <th></th>\n",
       "      <th></th>\n",
       "    </tr>\n",
       "  </thead>\n",
       "  <tbody>\n",
       "    <tr>\n",
       "      <th rowspan=\"5\" valign=\"top\">deepGAR</th>\n",
       "      <th>1</th>\n",
       "      <td>95.59</td>\n",
       "      <td>95.63</td>\n",
       "      <td>95.50</td>\n",
       "      <td>95.01</td>\n",
       "      <td>95.61</td>\n",
       "    </tr>\n",
       "    <tr>\n",
       "      <th>2</th>\n",
       "      <td>95.42</td>\n",
       "      <td>95.36</td>\n",
       "      <td>94.99</td>\n",
       "      <td>93.94</td>\n",
       "      <td>95.51</td>\n",
       "    </tr>\n",
       "    <tr>\n",
       "      <th>3</th>\n",
       "      <td>95.27</td>\n",
       "      <td>95.11</td>\n",
       "      <td>94.07</td>\n",
       "      <td>92.64</td>\n",
       "      <td>94.72</td>\n",
       "    </tr>\n",
       "    <tr>\n",
       "      <th>4</th>\n",
       "      <td>94.92</td>\n",
       "      <td>94.57</td>\n",
       "      <td>91.32</td>\n",
       "      <td>86.81</td>\n",
       "      <td>47.09</td>\n",
       "    </tr>\n",
       "    <tr>\n",
       "      <th>5</th>\n",
       "      <td>94.15</td>\n",
       "      <td>93.65</td>\n",
       "      <td>49.56</td>\n",
       "      <td>0.30</td>\n",
       "      <td>9.80</td>\n",
       "    </tr>\n",
       "    <tr>\n",
       "      <th rowspan=\"5\" valign=\"top\">fedavg</th>\n",
       "      <th>1</th>\n",
       "      <td>95.44</td>\n",
       "      <td>95.44</td>\n",
       "      <td>95.41</td>\n",
       "      <td>94.98</td>\n",
       "      <td>8.94</td>\n",
       "    </tr>\n",
       "    <tr>\n",
       "      <th>2</th>\n",
       "      <td>95.02</td>\n",
       "      <td>95.00</td>\n",
       "      <td>94.94</td>\n",
       "      <td>93.65</td>\n",
       "      <td>9.80</td>\n",
       "    </tr>\n",
       "    <tr>\n",
       "      <th>3</th>\n",
       "      <td>94.46</td>\n",
       "      <td>94.44</td>\n",
       "      <td>94.23</td>\n",
       "      <td>92.13</td>\n",
       "      <td>9.80</td>\n",
       "    </tr>\n",
       "    <tr>\n",
       "      <th>4</th>\n",
       "      <td>93.89</td>\n",
       "      <td>93.84</td>\n",
       "      <td>93.65</td>\n",
       "      <td>88.27</td>\n",
       "      <td>9.80</td>\n",
       "    </tr>\n",
       "    <tr>\n",
       "      <th>5</th>\n",
       "      <td>93.07</td>\n",
       "      <td>93.03</td>\n",
       "      <td>92.61</td>\n",
       "      <td>11.32</td>\n",
       "      <td>9.80</td>\n",
       "    </tr>\n",
       "    <tr>\n",
       "      <th rowspan=\"5\" valign=\"top\">median</th>\n",
       "      <th>1</th>\n",
       "      <td>95.60</td>\n",
       "      <td>95.59</td>\n",
       "      <td>95.59</td>\n",
       "      <td>95.63</td>\n",
       "      <td>95.63</td>\n",
       "    </tr>\n",
       "    <tr>\n",
       "      <th>2</th>\n",
       "      <td>95.42</td>\n",
       "      <td>95.42</td>\n",
       "      <td>95.42</td>\n",
       "      <td>95.40</td>\n",
       "      <td>95.42</td>\n",
       "    </tr>\n",
       "    <tr>\n",
       "      <th>3</th>\n",
       "      <td>95.10</td>\n",
       "      <td>95.11</td>\n",
       "      <td>95.11</td>\n",
       "      <td>95.05</td>\n",
       "      <td>95.04</td>\n",
       "    </tr>\n",
       "    <tr>\n",
       "      <th>4</th>\n",
       "      <td>94.53</td>\n",
       "      <td>94.54</td>\n",
       "      <td>94.47</td>\n",
       "      <td>94.39</td>\n",
       "      <td>94.39</td>\n",
       "    </tr>\n",
       "    <tr>\n",
       "      <th>5</th>\n",
       "      <td>81.58</td>\n",
       "      <td>80.15</td>\n",
       "      <td>21.04</td>\n",
       "      <td>11.57</td>\n",
       "      <td>10.28</td>\n",
       "    </tr>\n",
       "  </tbody>\n",
       "</table>\n",
       "</div>"
      ],
      "text/plain": [
       "Scale                        0.00   0.01   0.10   1.00   10.00\n",
       "Defense Number of Attackers                                   \n",
       "deepGAR 1                    95.59  95.63  95.50  95.01  95.61\n",
       "        2                    95.42  95.36  94.99  93.94  95.51\n",
       "        3                    95.27  95.11  94.07  92.64  94.72\n",
       "        4                    94.92  94.57  91.32  86.81  47.09\n",
       "        5                    94.15  93.65  49.56   0.30   9.80\n",
       "fedavg  1                    95.44  95.44  95.41  94.98   8.94\n",
       "        2                    95.02  95.00  94.94  93.65   9.80\n",
       "        3                    94.46  94.44  94.23  92.13   9.80\n",
       "        4                    93.89  93.84  93.65  88.27   9.80\n",
       "        5                    93.07  93.03  92.61  11.32   9.80\n",
       "median  1                    95.60  95.59  95.59  95.63  95.63\n",
       "        2                    95.42  95.42  95.42  95.40  95.42\n",
       "        3                    95.10  95.11  95.11  95.05  95.04\n",
       "        4                    94.53  94.54  94.47  94.39  94.39\n",
       "        5                    81.58  80.15  21.04  11.57  10.28"
      ]
     },
     "execution_count": 212,
     "metadata": {},
     "output_type": "execute_result"
    }
   ],
   "source": [
    "result_all\n",
    "result_all.columns=pd.Index([0, 0.01, 0.1, 1, 10],name='Scale')\n",
    "result_all"
   ]
  },
  {
   "cell_type": "code",
   "execution_count": 213,
   "metadata": {},
   "outputs": [],
   "source": [
    "# result=result_all.loc['deepGAR']\n",
    "# result=result_all.loc['fedavg']\n",
    "result=result_all.loc['median']\n"
   ]
  },
  {
   "cell_type": "code",
   "execution_count": 214,
   "metadata": {},
   "outputs": [
    {
     "data": {
      "text/plain": [
       "MultiIndex(levels=[['deepGAR', 'fedavg', 'median'], ['1', '2', '3', '4', '5']],\n",
       "           codes=[[0, 0, 0, 0, 0, 1, 1, 1, 1, 1, 2, 2, 2, 2, 2], [0, 1, 2, 3, 4, 0, 1, 2, 3, 4, 0, 1, 2, 3, 4]],\n",
       "           names=['Defense', 'Number of Attackers'])"
      ]
     },
     "execution_count": 214,
     "metadata": {},
     "output_type": "execute_result"
    }
   ],
   "source": [
    "result_all.index"
   ]
  },
  {
   "cell_type": "code",
   "execution_count": 220,
   "metadata": {},
   "outputs": [],
   "source": [
    "import seaborn as sns\n",
    "\n",
    "def plot_heatmap(defense,ax):\n",
    "    result=result_all.loc[defense]\n",
    "    fig= sns.heatmap(result, annot=True,ax=ax,vmin=0,vmax=100).set_title(f'{defense} aganist omniscient attack')\n",
    "    fig.get_figure().savefig(f'{defense}_vs_omniscient.png')\n"
   ]
  },
  {
   "cell_type": "code",
   "execution_count": 225,
   "metadata": {},
   "outputs": [
    {
     "data": {
      "image/png": "[encoded data removed]",
      "text/plain": [
       "<Figure size 432x288 with 2 Axes>"
      ]
     },
     "metadata": {
      "needs_background": "light"
     },
     "output_type": "display_data"
    }
   ],
   "source": [
    "defense='neural net'\n",
    "result=result_all.loc['deepGAR']\n",
    "fig= sns.heatmap(result, annot=True,vmin=0,vmax=100).set_title(f'{defense} aganist omniscient attack')\n",
    "fig.get_figure().savefig(f'{defense}_vs_omniscient.png')"
   ]
  },
  {
   "cell_type": "code",
   "execution_count": 222,
   "metadata": {},
   "outputs": [],
   "source": [
    "# result.index=pd.Index([1,2,3,4,5],name='Number of attackers')\n"
   ]
  },
  {
   "cell_type": "code",
   "execution_count": 223,
   "metadata": {},
   "outputs": [],
   "source": [
    "# import pandas as pd\n",
    "# result.columns=pd.Index([0, 0.01, 0.1, 1, 10],name='Scale')\n"
   ]
  },
  {
   "cell_type": "code",
   "execution_count": 224,
   "metadata": {
    "scrolled": true
   },
   "outputs": [
    {
     "data": {
      "image/png": "[encoded data removed]",
      "text/plain": [
       "<Figure size 432x288 with 2 Axes>"
      ]
     },
     "metadata": {
      "needs_background": "light"
     },
     "output_type": "display_data"
    },
    {
     "data": {
      "image/png": "[encoded data removed]",
      "text/plain": [
       "<Figure size 432x288 with 2 Axes>"
      ]
     },
     "metadata": {
      "needs_background": "light"
     },
     "output_type": "display_data"
    },
    {
     "data": {
      "image/png": "[encoded data removed]",
      "text/plain": [
       "<Figure size 432x288 with 2 Axes>"
      ]
     },
     "metadata": {
      "needs_background": "light"
     },
     "output_type": "display_data"
    }
   ],
   "source": [
    "import matplotlib.pyplot as plt\n",
    "# fig, axs=plt.subplots(3,1)\n",
    "for i,defense in enumerate(result_all.index.levels[0]):\n",
    "    plot_heatmap(defense,None)\n",
    "    plt.show()"
   ]
  },
  {
   "cell_type": "code",
   "execution_count": 147,
   "metadata": {},
   "outputs": [],
   "source": [
    "fig.title='abc'"
   ]
  },
  {
   "cell_type": "code",
   "execution_count": 148,
   "metadata": {},
   "outputs": [
    {
     "data": {
      "text/plain": [
       "[]"
      ]
     },
     "execution_count": 148,
     "metadata": {},
     "output_type": "execute_result"
    }
   ],
   "source": [
    "fig.plot()"
   ]
  },
  {
   "cell_type": "code",
   "execution_count": 30,
   "metadata": {},
   "outputs": [
    {
     "ename": "AttributeError",
     "evalue": "module 'random' has no attribute 'permutation'",
     "output_type": "error",
     "traceback": [
      "\u001b[0;31m---------------------------------------------------------------------------\u001b[0m",
      "\u001b[0;31mAttributeError\u001b[0m                            Traceback (most recent call last)",
      "\u001b[0;32m<ipython-input-30-3f15e764e647>\u001b[0m in \u001b[0;36m<module>\u001b[0;34m\u001b[0m\n\u001b[1;32m      1\u001b[0m \u001b[0;32mimport\u001b[0m \u001b[0mrandom\u001b[0m\u001b[0;34m\u001b[0m\u001b[0;34m\u001b[0m\u001b[0m\n\u001b[1;32m      2\u001b[0m \u001b[0;34m\u001b[0m\u001b[0m\n\u001b[0;32m----> 3\u001b[0;31m \u001b[0;34m{\u001b[0m\u001b[0;34m'Omniscient%d'\u001b[0m\u001b[0;34m%\u001b[0m\u001b[0mi\u001b[0m\u001b[0;34m:\u001b[0m\u001b[0mrandom\u001b[0m\u001b[0;34m.\u001b[0m\u001b[0mpermutation\u001b[0m\u001b[0;34m(\u001b[0m\u001b[0mlist\u001b[0m\u001b[0;34m(\u001b[0m\u001b[0mrange\u001b[0m\u001b[0;34m(\u001b[0m\u001b[0;36m10\u001b[0m\u001b[0;34m)\u001b[0m\u001b[0;34m)\u001b[0m\u001b[0;34m)\u001b[0m\u001b[0;34m[\u001b[0m\u001b[0;34m:\u001b[0m\u001b[0mi\u001b[0m\u001b[0;34m+\u001b[0m\u001b[0;36m1\u001b[0m\u001b[0;34m]\u001b[0m \u001b[0;32mfor\u001b[0m \u001b[0mi\u001b[0m \u001b[0;32min\u001b[0m \u001b[0mlist\u001b[0m\u001b[0;34m(\u001b[0m\u001b[0mrange\u001b[0m\u001b[0;34m(\u001b[0m\u001b[0;36m6\u001b[0m\u001b[0;34m)\u001b[0m\u001b[0;34m)\u001b[0m\u001b[0;34m}\u001b[0m\u001b[0;34m\u001b[0m\u001b[0;34m\u001b[0m\u001b[0m\n\u001b[0m",
      "\u001b[0;32m<ipython-input-30-3f15e764e647>\u001b[0m in \u001b[0;36m<dictcomp>\u001b[0;34m(.0)\u001b[0m\n\u001b[1;32m      1\u001b[0m \u001b[0;32mimport\u001b[0m \u001b[0mrandom\u001b[0m\u001b[0;34m\u001b[0m\u001b[0;34m\u001b[0m\u001b[0m\n\u001b[1;32m      2\u001b[0m \u001b[0;34m\u001b[0m\u001b[0m\n\u001b[0;32m----> 3\u001b[0;31m \u001b[0;34m{\u001b[0m\u001b[0;34m'Omniscient%d'\u001b[0m\u001b[0;34m%\u001b[0m\u001b[0mi\u001b[0m\u001b[0;34m:\u001b[0m\u001b[0mrandom\u001b[0m\u001b[0;34m.\u001b[0m\u001b[0mpermutation\u001b[0m\u001b[0;34m(\u001b[0m\u001b[0mlist\u001b[0m\u001b[0;34m(\u001b[0m\u001b[0mrange\u001b[0m\u001b[0;34m(\u001b[0m\u001b[0;36m10\u001b[0m\u001b[0;34m)\u001b[0m\u001b[0;34m)\u001b[0m\u001b[0;34m)\u001b[0m\u001b[0;34m[\u001b[0m\u001b[0;34m:\u001b[0m\u001b[0mi\u001b[0m\u001b[0;34m+\u001b[0m\u001b[0;36m1\u001b[0m\u001b[0;34m]\u001b[0m \u001b[0;32mfor\u001b[0m \u001b[0mi\u001b[0m \u001b[0;32min\u001b[0m \u001b[0mlist\u001b[0m\u001b[0;34m(\u001b[0m\u001b[0mrange\u001b[0m\u001b[0;34m(\u001b[0m\u001b[0;36m6\u001b[0m\u001b[0;34m)\u001b[0m\u001b[0;34m)\u001b[0m\u001b[0;34m}\u001b[0m\u001b[0;34m\u001b[0m\u001b[0;34m\u001b[0m\u001b[0m\n\u001b[0m",
      "\u001b[0;31mAttributeError\u001b[0m: module 'random' has no attribute 'permutation'"
     ]
    }
   ],
   "source": [
    "import random\n",
    "\n",
    "{'Omniscient%d'%i:random.permutation(list(range(10)))[:i+1] for i in list(range(6))}"
   ]
  },
  {
   "cell_type": "code",
   "execution_count": 31,
   "metadata": {},
   "outputs": [
    {
     "data": {
      "text/plain": [
       "[0, 1, 2, 3, 4, 5]"
      ]
     },
     "execution_count": 31,
     "metadata": {},
     "output_type": "execute_result"
    }
   ],
   "source": [
    "list(range(6))"
   ]
  },
  {
   "cell_type": "code",
   "execution_count": 32,
   "metadata": {},
   "outputs": [
    {
     "ename": "AttributeError",
     "evalue": "module 'random' has no attribute 'permutation'",
     "output_type": "error",
     "traceback": [
      "\u001b[0;31m---------------------------------------------------------------------------\u001b[0m",
      "\u001b[0;31mAttributeError\u001b[0m                            Traceback (most recent call last)",
      "\u001b[0;32m<ipython-input-32-9090a2ece477>\u001b[0m in \u001b[0;36m<module>\u001b[0;34m\u001b[0m\n\u001b[0;32m----> 1\u001b[0;31m \u001b[0mrandom\u001b[0m\u001b[0;34m.\u001b[0m\u001b[0mpermutation\u001b[0m\u001b[0;34m(\u001b[0m\u001b[0mlist\u001b[0m\u001b[0;34m(\u001b[0m\u001b[0mrange\u001b[0m\u001b[0;34m(\u001b[0m\u001b[0;36m10\u001b[0m\u001b[0;34m)\u001b[0m\u001b[0;34m)\u001b[0m\u001b[0;34m,\u001b[0m\u001b[0;34m)\u001b[0m\u001b[0;34m\u001b[0m\u001b[0;34m\u001b[0m\u001b[0m\n\u001b[0m",
      "\u001b[0;31mAttributeError\u001b[0m: module 'random' has no attribute 'permutation'"
     ]
    }
   ],
   "source": [
    "random.permutation(list(range(10)),)"
   ]
  },
  {
   "cell_type": "code",
   "execution_count": null,
   "metadata": {},
   "outputs": [],
   "source": []
  }
 ],
 "metadata": {
  "kernelspec": {
   "display_name": "Python 3",
   "language": "python",
   "name": "python3"
  },
  "language_info": {
   "codemirror_mode": {
    "name": "ipython",
    "version": 3
   },
   "file_extension": ".py",
   "mimetype": "text/x-python",
   "name": "python",
   "nbconvert_exporter": "python",
   "pygments_lexer": "ipython3",
   "version": "3.7.3"
  }
 },
 "nbformat": 4,
 "nbformat_minor": 2
}
