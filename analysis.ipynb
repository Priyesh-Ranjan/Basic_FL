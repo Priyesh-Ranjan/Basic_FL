{
 "cells": [
  {
   "cell_type": "code",
   "execution_count": 1,
   "metadata": {},
   "outputs": [],
   "source": [
    "import torch\n",
    "import multiKrum\n",
    "import geometricMedian\n",
    "import aggNet_Blocks \n",
    "import nnsort"
   ]
  },
  {
   "cell_type": "code",
   "execution_count": 2,
   "metadata": {},
   "outputs": [],
   "source": [
    "net=multiKrum.Net('krum')\n",
    "net1=multiKrum.Net('mkrum')\n",
    "\n",
    "net2=geometricMedian.Net()\n",
    "netn=aggNet_Blocks.Net(1,10)\n",
    "netn.load_state_dict(torch.load('./aggNet/aggNetBlock_cifar_dirichlet_dim1_32.pt'))\n",
    "netm=torch.median\n",
    "nets=nnsort.Net(1,10)\n",
    "nets.load_state_dict(torch.load('./aggNet/irlsNeuralSort_dim1_9.pt'))\n",
    "netfedavg=torch.mean"
   ]
  },
  {
   "cell_type": "code",
   "execution_count": 3,
   "metadata": {},
   "outputs": [],
   "source": [
    "import matplotlib.pyplot as plt\n",
    "import seaborn\n",
    "seaborn.set(style='ticks')"
   ]
  },
  {
   "cell_type": "code",
   "execution_count": 4,
   "metadata": {},
   "outputs": [],
   "source": [
    "from sklearn.datasets import make_blobs\n"
   ]
  },
  {
   "cell_type": "code",
   "execution_count": 5,
   "metadata": {},
   "outputs": [
    {
     "data": {
      "text/plain": [
       "<matplotlib.collections.PathCollection at 0x7f61220ebc50>"
      ]
     },
     "execution_count": 5,
     "metadata": {},
     "output_type": "execute_result"
    },
    {
     "data": {
      "image/png": "[encoded data removed]",
      "text/plain": [
       "<Figure size 432x288 with 1 Axes>"
      ]
     },
     "metadata": {},
     "output_type": "display_data"
    }
   ],
   "source": [
    "# n=10\n",
    "# #x=torch.rand(1,2,n)-0.5\n",
    "# X, y = make_blobs(n_samples=[int(n*0.8),n-int(n*0.8)], n_features=10000,\n",
    "#                   center_box=(-0.1,0.1),cluster_std=0.01)\n",
    "# x=torch.Tensor(X).permute([1,0]).view(1,-1,n)\n",
    "\n",
    "# plt.scatter(X[:,0],X[:,1],c=y,cmap='copper')"
   ]
  },
  {
   "cell_type": "code",
   "execution_count": 149,
   "metadata": {},
   "outputs": [],
   "source": [
    "# paramfloat"
   ]
  },
  {
   "cell_type": "code",
   "execution_count": 125,
   "metadata": {},
   "outputs": [
    {
     "data": {
      "text/plain": [
       "['conv1.weight',\n",
       " 'layer1.0.conv1.weight',\n",
       " 'layer1.0.conv2.weight',\n",
       " 'layer1.1.conv1.weight',\n",
       " 'layer1.1.conv2.weight',\n",
       " 'layer2.0.conv1.weight',\n",
       " 'layer2.0.conv2.weight',\n",
       " 'layer2.1.conv1.weight',\n",
       " 'layer2.1.conv2.weight',\n",
       " 'layer3.0.conv1.weight',\n",
       " 'layer3.0.conv2.weight',\n",
       " 'layer3.1.conv1.weight',\n",
       " 'layer3.1.conv2.weight',\n",
       " 'layer4.0.conv1.weight',\n",
       " 'layer4.0.conv2.weight',\n",
       " 'layer4.1.conv1.weight',\n",
       " 'layer4.1.conv2.weight']"
      ]
     },
     "execution_count": 125,
     "metadata": {},
     "output_type": "execute_result"
    }
   ],
   "source": []
  },
  {
   "cell_type": "code",
   "execution_count": 156,
   "metadata": {},
   "outputs": [
    {
     "data": {
      "text/plain": [
       "<matplotlib.collections.PathCollection at 0x7f60cd7d0e80>"
      ]
     },
     "execution_count": 156,
     "metadata": {},
     "output_type": "execute_result"
    },
    {
     "data": {
      "image/png": "[encoded data removed]",
      "text/plain": [
       "<Figure size 432x288 with 1 Axes>"
      ]
     },
     "metadata": {},
     "output_type": "display_data"
    }
   ],
   "source": [
    "path='./AggData/train_noiid_cifar'\n",
    "attack='backdoor_2'\n",
    "rounds=0\n",
    "path_to_data=f'{path}/{attack}/FedAvg_{rounds}.pt'\n",
    "label=torch.load(f'{path}/{attack}/label.pt')\n",
    "data=torch.load(path_to_data)\n",
    "# data_=data['conv1.weight'].unsqueeze(0)\n",
    "import utils\n",
    "paramfloat=utils.getFloatSubModules(data)\n",
    "# data_=data['layer1.0.conv1.weight'].unsqueeze(0)\n",
    "# params=[param for param in paramfloat if 'conv' in param]\n",
    "# params=['layer1.0.bn1.running_var']\n",
    "params=paramfloat\n",
    "data_=torch.cat(list(map(lambda x: data[x],params))).unsqueeze(0)[:,:100000,:]\n",
    "X=data_.permute([0,2,1]).view(10,-1).cpu().detach().numpy()\n",
    "x=torch.Tensor(X).permute([1,0]).view(1,-1,n)\n",
    "y=label\n",
    "# plot first 2 dimensions\n",
    "plt.scatter(X[:,0],X[:,1],c=y,cmap='copper')"
   ]
  },
  {
   "cell_type": "code",
   "execution_count": 157,
   "metadata": {},
   "outputs": [
    {
     "data": {
      "text/plain": [
       "(-1.0022237092256545,\n",
       " 1.5931064277887341,\n",
       " -0.694276800751686,\n",
       " 0.8613338977098464)"
      ]
     },
     "execution_count": 157,
     "metadata": {},
     "output_type": "execute_result"
    },
    {
     "data": {
      "image/png": "[encoded data removed]",
      "text/plain": [
       "<Figure size 432x288 with 1 Axes>"
      ]
     },
     "metadata": {},
     "output_type": "display_data"
    }
   ],
   "source": [
    "from sklearn.decomposition import PCA\n",
    "pca = PCA(n_components=2)\n",
    "pca.fit(X)\n",
    "X_=pca.transform(X)\n",
    "plt.scatter(X_[:,0],X_[:,1],c=y,cmap='copper')\n",
    "plt.axis('equal')"
   ]
  },
  {
   "cell_type": "code",
   "execution_count": null,
   "metadata": {},
   "outputs": [],
   "source": []
  },
  {
   "cell_type": "code",
   "execution_count": 95,
   "metadata": {},
   "outputs": [],
   "source": [
    "# data_.unsqueeze(0)"
   ]
  },
  {
   "cell_type": "code",
   "execution_count": 76,
   "metadata": {},
   "outputs": [],
   "source": [
    "# plt.scatter(x[:,0,:],x[:,1,:],c=y)"
   ]
  },
  {
   "cell_type": "code",
   "execution_count": 77,
   "metadata": {},
   "outputs": [],
   "source": [
    "z=net(x)\n",
    "z1=net1(x)\n",
    "w=net2(x)\n",
    "pn=netn.forward_n(x.reshape(-1,1,n),n)[2].reshape(1,-1,1)\n",
    "me=netm(x,2,keepdims=True)[0]\n",
    "nf=netfedavg(x,2,keepdims=True)\n",
    "ns=nets(x)[1].reshape(1,-1,1).detach().numpy()\n"
   ]
  },
  {
   "cell_type": "code",
   "execution_count": 78,
   "metadata": {},
   "outputs": [
    {
     "data": {
      "text/plain": [
       "(10, 100000)"
      ]
     },
     "execution_count": 78,
     "metadata": {},
     "output_type": "execute_result"
    }
   ],
   "source": [
    "X.shape"
   ]
  },
  {
   "cell_type": "code",
   "execution_count": 79,
   "metadata": {},
   "outputs": [],
   "source": [
    "def getTransformed(x):\n",
    "    return pca.transform(x.reshape(1,-1)).reshape(1,2,1)\n",
    "    "
   ]
  },
  {
   "cell_type": "code",
   "execution_count": 80,
   "metadata": {},
   "outputs": [],
   "source": [
    "z= getTransformed(z)\n",
    "z1=getTransformed(z1)\n",
    "w=getTransformed(w)\n",
    "pn=getTransformed(pn)\n",
    "ns=getTransformed(ns)\n",
    "nf=getTransformed(nf)"
   ]
  },
  {
   "cell_type": "code",
   "execution_count": 81,
   "metadata": {},
   "outputs": [
    {
     "data": {
      "text/plain": [
       "(1, 2, 1)"
      ]
     },
     "execution_count": 81,
     "metadata": {},
     "output_type": "execute_result"
    }
   ],
   "source": [
    "z.shape\n"
   ]
  },
  {
   "cell_type": "code",
   "execution_count": 82,
   "metadata": {},
   "outputs": [
    {
     "data": {
      "text/plain": [
       "<matplotlib.legend.Legend at 0x7f6110176ac8>"
      ]
     },
     "execution_count": 82,
     "metadata": {},
     "output_type": "execute_result"
    },
    {
     "data": {
      "image/png": "[encoded data removed]",
      "text/plain": [
       "<Figure size 720x720 with 1 Axes>"
      ]
     },
     "metadata": {},
     "output_type": "display_data"
    }
   ],
   "source": [
    "fig, ax = plt.subplots(figsize=(10,10))\n",
    "s=100\n",
    "ax.scatter(X_[:,0],X_[:,1],c=y,alpha=1.0,marker='.',cmap='copper')\n",
    "ax.scatter(nf[:,0,:],nf[:,1,:], s=s,alpha=0.6,label='fedavg')\n",
    "ax.scatter(z[:,0,:],z[:,1,:], s=s,alpha=0.6,label='krum')\n",
    "ax.scatter(z1[:,0,:],z1[:,1,:], s=s, alpha=0.6,label='mkrum')\n",
    "ax.scatter(w[:,0,:],w[:,1,:], s=s,alpha=0.6, label='gm')\n",
    "ax.scatter(me[:,0,:],me[:,1,:],marker='o', s=s,alpha=0.6,label='median')\n",
    "ax.scatter(pn[:,0,:],pn[:,1,:],marker='x', s=2*s,label='pointNet')\n",
    "ax.scatter(ns[:,0,:],ns[:,1,:],marker='+', s=3*s,label='IRLSneuralSort')\n",
    "\n",
    "# ax.set_aspect('equal')\n",
    "ax.axis('equal')\n",
    "# ax.grid(True, which='both')\n",
    "seaborn.despine(ax=ax, offset=0)\n",
    "plt.legend()"
   ]
  },
  {
   "cell_type": "code",
   "execution_count": null,
   "metadata": {},
   "outputs": [],
   "source": []
  },
  {
   "cell_type": "code",
   "execution_count": null,
   "metadata": {},
   "outputs": [],
   "source": []
  },
  {
   "cell_type": "code",
   "execution_count": null,
   "metadata": {},
   "outputs": [],
   "source": []
  }
 ],
 "metadata": {
  "kernelspec": {
   "display_name": "Python 3",
   "language": "python",
   "name": "python3"
  },
  "language_info": {
   "codemirror_mode": {
    "name": "ipython",
    "version": 3
   },
   "file_extension": ".py",
   "mimetype": "text/x-python",
   "name": "python",
   "nbconvert_exporter": "python",
   "pygments_lexer": "ipython3",
   "version": "3.6.10"
  }
 },
 "nbformat": 4,
 "nbformat_minor": 2
}
