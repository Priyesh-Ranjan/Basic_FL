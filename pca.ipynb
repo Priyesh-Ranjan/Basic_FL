{
 "cells": [
  {
   "cell_type": "code",
   "execution_count": null,
   "metadata": {},
   "outputs": [],
   "source": []
  },
  {
   "cell_type": "code",
   "execution_count": 133,
   "metadata": {},
   "outputs": [],
   "source": [
    "import torch\n",
    "\n"
   ]
  },
  {
   "cell_type": "code",
   "execution_count": 134,
   "metadata": {},
   "outputs": [],
   "source": [
    "import matplotlib.pyplot as plt\n",
    "import seaborn\n",
    "seaborn.set(style='ticks')"
   ]
  },
  {
   "cell_type": "code",
   "execution_count": 135,
   "metadata": {},
   "outputs": [],
   "source": [
    "n=10"
   ]
  },
  {
   "cell_type": "code",
   "execution_count": 136,
   "metadata": {},
   "outputs": [
    {
     "data": {
      "text/plain": [
       "<matplotlib.collections.PathCollection at 0x7f0eee760ba8>"
      ]
     },
     "execution_count": 136,
     "metadata": {},
     "output_type": "execute_result"
    },
    {
     "data": {
      "image/png": "[encoded data removed]",
      "text/plain": [
       "<Figure size 432x288 with 1 Axes>"
      ]
     },
     "metadata": {},
     "output_type": "display_data"
    }
   ],
   "source": [
    "path='./AggData/train_noiid_cifar'\n",
    "attack='backdoor_2'\n",
    "rounds=0\n",
    "path_to_data=f'{path}/{attack}/FedAvg_{rounds}.pt'\n",
    "label=torch.load(f'{path}/{attack}/label.pt')\n",
    "data=torch.load(path_to_data)\n",
    "# data_=data['conv1.weight'].unsqueeze(0)\n",
    "import utils\n",
    "paramfloat=utils.getFloatSubModules(data)\n",
    "# data_=data['layer1.0.conv1.weight'].unsqueeze(0)\n",
    "# params=[param for param in paramfloat if 'conv' in param]\n",
    "# params=['layer1.0.bn1.running_var']\n",
    "params=paramfloat\n",
    "data_=torch.cat(list(map(lambda x: data[x],params))).unsqueeze(0)[:,:100000,:]\n",
    "X=data_.permute([0,2,1]).view(10,-1).cpu().detach().numpy()\n",
    "x=torch.Tensor(X).permute([1,0]).view(1,-1,n)\n",
    "y=label\n",
    "# plot first 2 dimensions\n",
    "plt.scatter(X[:,0],X[:,1],c=y,cmap='copper')"
   ]
  },
  {
   "cell_type": "code",
   "execution_count": 137,
   "metadata": {},
   "outputs": [
    {
     "data": {
      "text/plain": [
       "'./AggData/train_noiid_cifar/backdoor_2/label.pt'"
      ]
     },
     "execution_count": 137,
     "metadata": {},
     "output_type": "execute_result"
    }
   ],
   "source": [
    "f'{path}/{attack}/label.pt'"
   ]
  },
  {
   "cell_type": "code",
   "execution_count": 138,
   "metadata": {},
   "outputs": [],
   "source": [
    "# torch.pca_lowrank(component) ##only works after torch1.6"
   ]
  },
  {
   "cell_type": "code",
   "execution_count": 141,
   "metadata": {},
   "outputs": [],
   "source": [
    "from sklearn.decomposition import PCA\n",
    "\n",
    "def getPCA(component, n_components):\n",
    "    pca = PCA(n_components=n_components)\n",
    "    pca.fit(component.permute(1,0))\n",
    "    projection=pca.transform(component.permute(1,0))\n",
    "    out= torch.Tensor(projection.T)\n",
    "    return out,pca"
   ]
  },
  {
   "cell_type": "code",
   "execution_count": 143,
   "metadata": {},
   "outputs": [],
   "source": [
    "res=getPCA(component, 2)\n",
    "X_=res[0].permute(1,0)"
   ]
  },
  {
   "cell_type": "code",
   "execution_count": 184,
   "metadata": {},
   "outputs": [
    {
     "data": {
      "text/plain": [
       "tensor([[0.1250],\n",
       "        [0.1250],\n",
       "        [0.1250],\n",
       "        [0.0000],\n",
       "        [0.1250],\n",
       "        [0.1250],\n",
       "        [0.1250],\n",
       "        [0.1250],\n",
       "        [0.0000],\n",
       "        [0.1250]])"
      ]
     },
     "execution_count": 184,
     "metadata": {},
     "output_type": "execute_result"
    }
   ],
   "source": [
    "norm_y"
   ]
  },
  {
   "cell_type": "code",
   "execution_count": 183,
   "metadata": {},
   "outputs": [
    {
     "data": {
      "text/plain": [
       "tensor([[-0.0193, -0.0006]])"
      ]
     },
     "execution_count": 183,
     "metadata": {},
     "output_type": "execute_result"
    }
   ],
   "source": [
    "norm_y=torch.nn.functional.normalize(y.unsqueeze(-1),p=1,dim=0)\n",
    "norm_y.permute(1,0).matmul(X_)"
   ]
  },
  {
   "cell_type": "code",
   "execution_count": 186,
   "metadata": {},
   "outputs": [
    {
     "data": {
      "text/plain": [
       "array([[-0.01929317, -0.00061701]])"
      ]
     },
     "execution_count": 186,
     "metadata": {},
     "output_type": "execute_result"
    }
   ],
   "source": [
    "res[1].transform(norm_y.permute(1,0).matmul(component.permute(1,0)))"
   ]
  },
  {
   "cell_type": "code",
   "execution_count": 148,
   "metadata": {},
   "outputs": [
    {
     "data": {
      "text/plain": [
       "torch.Size([10, 2])"
      ]
     },
     "execution_count": 148,
     "metadata": {},
     "output_type": "execute_result"
    }
   ],
   "source": [
    "X_.shape"
   ]
  },
  {
   "cell_type": "code",
   "execution_count": 57,
   "metadata": {},
   "outputs": [
    {
     "name": "stdout",
     "output_type": "stream",
     "text": [
      "bn1.weight torch.Size([64, 10])\n"
     ]
    },
    {
     "data": {
      "text/plain": [
       "(-0.03454196928068995,\n",
       " 0.09005712633952496,\n",
       " -0.05435667205601932,\n",
       " 0.05627617631107565)"
      ]
     },
     "execution_count": 57,
     "metadata": {},
     "output_type": "execute_result"
    },
    {
     "data": {
      "image/png": "[encoded data removed]",
      "text/plain": [
       "<Figure size 432x288 with 1 Axes>"
      ]
     },
     "metadata": {},
     "output_type": "display_data"
    }
   ],
   "source": [
    "i=1\n",
    "c_name,component= params[i],data[params[i]].cpu()\n",
    "print(c_name,component.shape)\n",
    "X_=getPCA(component, 2).permute(1,0)\n",
    "plt.scatter(X_[:,0],X_[:,1],c=y,cmap='copper')\n",
    "plt.axis('equal')"
   ]
  },
  {
   "cell_type": "code",
   "execution_count": 30,
   "metadata": {},
   "outputs": [
    {
     "data": {
      "text/plain": [
       "(10, 2)"
      ]
     },
     "execution_count": 30,
     "metadata": {},
     "output_type": "execute_result"
    }
   ],
   "source": [
    "X_.shape"
   ]
  },
  {
   "cell_type": "code",
   "execution_count": 31,
   "metadata": {},
   "outputs": [
    {
     "data": {
      "text/plain": [
       "torch.Size([10])"
      ]
     },
     "execution_count": 31,
     "metadata": {},
     "output_type": "execute_result"
    }
   ],
   "source": [
    "y.shape"
   ]
  },
  {
   "cell_type": "code",
   "execution_count": 59,
   "metadata": {},
   "outputs": [],
   "source": [
    "from utils import getFloatSubModules"
   ]
  },
  {
   "cell_type": "code",
   "execution_count": 64,
   "metadata": {},
   "outputs": [],
   "source": [
    "import copy\n",
    "def applyToEachSubmodule(Delta,f)->(dict):\n",
    "    '''\n",
    "    apply function `f` to each submodules of `Delta`\n",
    "    '''\n",
    "    param_float=getFloatSubModules(Delta)\n",
    "\n",
    "    result=dict(((k,f(Delta[k])) for k in param_float))\n",
    "    out=copy.deepcopy(Delta)\n",
    "    out.update(result)\n",
    "    \n",
    "    return out"
   ]
  },
  {
   "cell_type": "code",
   "execution_count": 75,
   "metadata": {},
   "outputs": [],
   "source": [
    "def net2vec(net)-> (torch.Tensor):\n",
    "    '''\n",
    "    convert state dict to a 1 dimension Tensor\n",
    "    \n",
    "    Delta : torch module state dict\n",
    "    \n",
    "    return\n",
    "    vec : torch vector with shape([d]), d is the number of Float elements in `Delta`\n",
    "    '''\n",
    "    param_float=getFloatSubModules(net)\n",
    "\n",
    "    components=[]\n",
    "    for param in param_float:\n",
    "        components.append(net[param])        \n",
    "    vec=torch.cat([component for component in components ])\n",
    "    return vec"
   ]
  },
  {
   "cell_type": "code",
   "execution_count": 76,
   "metadata": {},
   "outputs": [],
   "source": [
    "proj=applyToEachSubmodule(data,lambda x: getPCA(x.cpu(),6))\n",
    "proj_vec=net2vec(proj)"
   ]
  },
  {
   "cell_type": "code",
   "execution_count": 109,
   "metadata": {},
   "outputs": [],
   "source": [
    "?torch.save"
   ]
  },
  {
   "cell_type": "code",
   "execution_count": 122,
   "metadata": {},
   "outputs": [
    {
     "data": {
      "text/plain": [
       "'./AggData/train_noiid_cifar/backdoor_2/pca_FedAvg_0.pt'"
      ]
     },
     "execution_count": 122,
     "metadata": {},
     "output_type": "execute_result"
    }
   ],
   "source": [
    "sub=path_to_data.split(\"/\")\n",
    "sub[-1]=\"pca_\"+sub[-1]\n",
    "\"/\".join(sub)"
   ]
  },
  {
   "cell_type": "code",
   "execution_count": 120,
   "metadata": {},
   "outputs": [
    {
     "data": {
      "text/plain": [
       "['.', 'AggData', 'train_noiid_cifar', 'backdoor_2', 'pca', 'FedAvg_0.pt']"
      ]
     },
     "execution_count": 120,
     "metadata": {},
     "output_type": "execute_result"
    }
   ],
   "source": [
    "sub"
   ]
  },
  {
   "cell_type": "code",
   "execution_count": 132,
   "metadata": {},
   "outputs": [],
   "source": [
    "param_float=getFloatSubModules(data)\n"
   ]
  },
  {
   "cell_type": "code",
   "execution_count": 106,
   "metadata": {},
   "outputs": [
    {
     "data": {
      "text/plain": [
       "(-0.019103025086224076,\n",
       " 0.03734740708023309,\n",
       " -0.14818211272358894,\n",
       " 0.19549879804253573)"
      ]
     },
     "execution_count": 106,
     "metadata": {},
     "output_type": "execute_result"
    },
    {
     "data": {
      "image/png": "[encoded data removed]",
      "text/plain": [
       "<Figure size 432x288 with 1 Axes>"
      ]
     },
     "metadata": {},
     "output_type": "display_data"
    }
   ],
   "source": [
    "X_=proj_vec.T\n",
    "rand_index=torch.randint(proj_vec.shape[0],(2,)).numpy()\n",
    "plt.scatter(X_[:,rand_index[0]],X_[:,rand_index[1]],c=y,cmap='copper')\n",
    "plt.axis('equal')"
   ]
  },
  {
   "cell_type": "code",
   "execution_count": null,
   "metadata": {},
   "outputs": [],
   "source": []
  }
 ],
 "metadata": {
  "kernelspec": {
   "display_name": "Python 3",
   "language": "python",
   "name": "python3"
  },
  "language_info": {
   "codemirror_mode": {
    "name": "ipython",
    "version": 3
   },
   "file_extension": ".py",
   "mimetype": "text/x-python",
   "name": "python",
   "nbconvert_exporter": "python",
   "pygments_lexer": "ipython3",
   "version": "3.6.10"
  }
 },
 "nbformat": 4,
 "nbformat_minor": 4
}
