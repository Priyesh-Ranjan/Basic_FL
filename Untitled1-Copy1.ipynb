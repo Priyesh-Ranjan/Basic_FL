{
 "cells": [
  {
   "cell_type": "code",
   "execution_count": 1,
   "metadata": {},
   "outputs": [],
   "source": [
    "\n",
    "import torch\n",
    "import torch.utils.data\n",
    "import torch.nn as nn\n",
    "import torch.nn.functional as F\n",
    "import numpy as np\n",
    "np.random.seed(1)\n"
   ]
  },
  {
   "cell_type": "code",
   "execution_count": 42,
   "metadata": {},
   "outputs": [
    {
     "name": "stdout",
     "output_type": "stream",
     "text": [
      "Number of gpu avaliable:\t1\n",
      "Current GPU:\t0\n",
      "GPU name: \tGeForce RTX 2080 Ti\n",
      "Loaded 2580 training samples.\n",
      "Loaded 256068 validation samples.\n"
     ]
    },
    {
     "data": {
      "text/plain": [
       "IncompatibleKeys(missing_keys=[], unexpected_keys=[])"
      ]
     },
     "execution_count": 42,
     "metadata": {},
     "output_type": "execute_result"
    }
   ],
   "source": [
    "torch.manual_seed(0)\n",
    "num_epoch=200\n",
    "batch_size=8192\n",
    "device='cuda'\n",
    "data_root='./data'\n",
    "\n",
    "network='aggNetBlock'\n",
    "path_to_training_data='./AggData/iid/mnist'\n",
    "path_to_aggNet='./aggNet/aggNetBlock_data_augmented_dim1_37.pt'\n",
    "vector_dimension=1\n",
    "sample_fraction=0.05 #number of sample to draw in each experiments\n",
    "\n",
    "# path_to_aggNet='./aggNet/aggNetBlock_16_data_augmented_dim16_199.pt'\n",
    "# vector_dimension=16\n",
    "\n",
    "import allocateGPU\n",
    "allocateGPU.allocate_gpu()\n",
    "\n",
    "\n",
    "import baseline\n",
    "import aggNet\n",
    "import aggNet_Blocks\n",
    "import agg_Blocks_Multiple\n",
    "import rand_net\n",
    "import aggNet_noMedian\n",
    "import aggNet_Blocks_normalize\n",
    "import geometricMedian\n",
    "networks={'baseline'   :baseline.Net,\n",
    "            'aggNetRes'  :aggNet.Net,\n",
    "            'aggNetBlock':aggNet_Blocks.Net,\n",
    "            'aggNetBlockMultiple':agg_Blocks_Multiple.Net,\n",
    "            'random':rand_net.Net,\n",
    "            'aggNet_noMedian':aggNet_noMedian.Net  ,\n",
    "            'aggNetBlockNormalize':aggNet_Blocks_normalize.Net,\n",
    "            'gm':geometricMedian.Net,\n",
    "\n",
    "            }\n",
    "Net=networks[network]\n",
    "\n",
    "\n",
    "from tensorboardX import SummaryWriter\n",
    "def write(name,tag, scalar,i=0):\n",
    "    writer=SummaryWriter(f'./agg_logs/{name}')\n",
    "    writer.add_scalar(tag, scalar, i)\n",
    "    writer.close()\n",
    "\n",
    "import train_Nets\n",
    "train_Nets.sample_fraction=sample_fraction\n",
    "train_Nets.vector_dimension=vector_dimension\n",
    "train_Nets.batch_size=batch_size\n",
    "rounds=0\n",
    "train_loader, test_loaders=train_Nets.get_concat_loader(0.99,path=path_to_training_data,rounds=rounds)\n",
    "\n",
    "\n",
    "net=Net(vector_dimension,10)\n",
    "net.load_state_dict(torch.load(path_to_aggNet))\n",
    "\n"
   ]
  },
  {
   "cell_type": "code",
   "execution_count": 43,
   "metadata": {},
   "outputs": [],
   "source": [
    "for (data, target) in test_loaders:\n",
    "    break"
   ]
  },
  {
   "cell_type": "code",
   "execution_count": null,
   "metadata": {},
   "outputs": [],
   "source": []
  },
  {
   "cell_type": "code",
   "execution_count": 44,
   "metadata": {},
   "outputs": [
    {
     "name": "stdout",
     "output_type": "stream",
     "text": [
      "data\t tensor([[-4.4081, -4.4990, -4.4972, -4.5111, -4.4992, -4.5048, -4.4976, -4.4770,\n",
      "         -4.5036, -4.5048]])\n",
      "target\t tensor([0., 1., 1., 1., 1., 1., 1., 1., 1., 1.]) tensor([[-4.4994]])\n",
      "Median tensor(-4.4992)\n",
      "tensor([0.0082, 0.9923, 0.9923, 0.9923, 0.9923, 0.9923, 0.9923, 0.9923, 0.9923,\n",
      "        0.9923], grad_fn=<SelectBackward>)\n",
      "tensor([[-4.4957]], grad_fn=<SelectBackward>)\n",
      "tensor([[-4.4994]])\n"
     ]
    }
   ],
   "source": [
    "j=0\n",
    "print(\"data\\t\", data[j])\n",
    "print(\"target\\t\",target[0][j], target[1][j])\n",
    "print(\"Median\", data[j].median())\n",
    "\n",
    "for i in net(data):\n",
    "    print(i[0])\n"
   ]
  },
  {
   "cell_type": "code",
   "execution_count": 45,
   "metadata": {},
   "outputs": [],
   "source": [
    "# weight(torch.gather(y_pred[0],0,torch.argsort(y_hot[0],1)))[0]\n",
    "# target"
   ]
  },
  {
   "cell_type": "code",
   "execution_count": 46,
   "metadata": {},
   "outputs": [],
   "source": [
    "# name,loader=next(iter(test_loaders.items()))\n",
    "y_pred=[]\n",
    "y_pred_center=[]\n",
    "y_hot=[]\n",
    "y_center=[]\n",
    "input=[]\n",
    "\n",
    "for (data, target) in test_loaders:\n",
    "    y_pred.append(net(data)[0])\n",
    "    y_pred_center.append(net(data)[1])\n",
    "    y_hot.append(target[0])\n",
    "    y_center.append(target[1])\n",
    "    input.append(data)"
   ]
  },
  {
   "cell_type": "code",
   "execution_count": 47,
   "metadata": {},
   "outputs": [],
   "source": [
    "def n(tensor):\n",
    "    return torch.cat(tensor).detach().numpy()"
   ]
  },
  {
   "cell_type": "code",
   "execution_count": 48,
   "metadata": {},
   "outputs": [],
   "source": [
    "from sklearn.metrics import classification_report"
   ]
  },
  {
   "cell_type": "code",
   "execution_count": 49,
   "metadata": {},
   "outputs": [],
   "source": [
    "def mean_relative_error(y_true, y_pred): \n",
    "    y_true, y_pred = np.array(y_true), np.array(y_pred)\n",
    "    return np.mean(np.abs((y_true - y_pred) / ((y_true + y_pred)))) "
   ]
  },
  {
   "cell_type": "code",
   "execution_count": 50,
   "metadata": {},
   "outputs": [],
   "source": [
    "def get_pred(input,x,thres): \n",
    "    input=torch.cat(input)\n",
    "    x=torch.cat(x)\n",
    "    x3 = (x>thres).float().to(input)\n",
    "    x3 = x3/(torch.sum(x3,-1).view(-1,1)+1e-14)\n",
    "    pred_binary = torch.sum(x3.view(-1,1,x.shape[1])*input,dim=-1).unsqueeze(-1)\n",
    "    return pred_binary"
   ]
  },
  {
   "cell_type": "code",
   "execution_count": 51,
   "metadata": {},
   "outputs": [],
   "source": [
    "def get_onehot(input,x,thres): \n",
    "    input=torch.cat(input)\n",
    "    x=torch.cat(x)\n",
    "    x3 = (x>thres).float().to(input)\n",
    "    return x3"
   ]
  },
  {
   "cell_type": "code",
   "execution_count": 52,
   "metadata": {},
   "outputs": [],
   "source": [
    "# n(y_pred_center).ravel()"
   ]
  },
  {
   "cell_type": "code",
   "execution_count": null,
   "metadata": {},
   "outputs": [],
   "source": []
  },
  {
   "cell_type": "code",
   "execution_count": 53,
   "metadata": {},
   "outputs": [
    {
     "name": "stdout",
     "output_type": "stream",
     "text": [
      "MAE      \t 0.0039604255\n",
      "vs mean  \t 0.0076456196\n",
      "vs median\t 0.0017976406\n"
     ]
    }
   ],
   "source": [
    "distance=[]\n",
    "import matplotlib.pyplot as plt\n",
    "mae=np.abs(n(y_center).ravel()-n(y_pred_center).ravel())\n",
    "dist_mean=np.mean(np.abs(torch.cat(y_center)-torch.mean(torch.cat(input),2,keepdim=True)).numpy().ravel())\n",
    "dist_median=np.mean(np.abs(torch.cat(y_center)-torch.median(torch.cat(input),2,keepdim=True)[0]).numpy().ravel())\n",
    "print(\"MAE      \\t\",np.mean(mae))\n",
    "print('vs mean  \\t',dist_mean)\n",
    "print('vs median\\t',dist_median)"
   ]
  },
  {
   "cell_type": "code",
   "execution_count": 54,
   "metadata": {},
   "outputs": [],
   "source": [
    "def weight(x):\n",
    "    a=x\n",
    "    d=a.size(0)\n",
    "    a=(torch.std(a,1)@a)\n",
    "    a=a/torch.sum(a)\n",
    "    return a.repeat(d,1)"
   ]
  },
  {
   "cell_type": "code",
   "execution_count": 55,
   "metadata": {},
   "outputs": [],
   "source": [
    "from sklearn.metrics import roc_curve,mean_absolute_error"
   ]
  },
  {
   "cell_type": "code",
   "execution_count": 56,
   "metadata": {},
   "outputs": [],
   "source": [
    "import numpy as np\n",
    "thresholds=np.linspace(0,1,40)\n",
    "err=[]\n",
    "abserr=[]\n",
    "bceloss=[]\n",
    "# y_pred=[weight(i) for i in y_pred]\n",
    "for t in thresholds:\n",
    "    abserr.append(mean_absolute_error(n(y_center).ravel(),get_pred(input,y_pred,t).numpy().ravel()))\n",
    "    err.append(mean_relative_error(n(y_center).ravel(),get_pred(input,y_pred,t).numpy().ravel()))\n",
    "    pred=get_onehot(input,y_pred,t).numpy().ravel().astype(float)\n",
    "    gt=n(y_hot).ravel().astype(float)\n",
    "    bceloss.append(nn.BCELoss(reduction='sum')(torch.tensor(pred),torch.tensor(gt)).item()/pred.size)"
   ]
  },
  {
   "cell_type": "code",
   "execution_count": 57,
   "metadata": {},
   "outputs": [],
   "source": [
    "# max_pt"
   ]
  },
  {
   "cell_type": "code",
   "execution_count": null,
   "metadata": {},
   "outputs": [],
   "source": []
  },
  {
   "cell_type": "code",
   "execution_count": 65,
   "metadata": {},
   "outputs": [
    {
     "data": {
      "text/plain": [
       "<matplotlib.legend.Legend at 0x7f2f838b62e8>"
      ]
     },
     "execution_count": 65,
     "metadata": {},
     "output_type": "execute_result"
    },
    {
     "data": {
      "image/png": "[encoded data removed]",
      "text/plain": [
       "<Figure size 432x288 with 1 Axes>"
      ]
     },
     "metadata": {
      "needs_background": "light"
     },
     "output_type": "display_data"
    }
   ],
   "source": [
    "import matplotlib.pyplot as plt\n",
    "plt.plot(thresholds,abserr,linestyle='dashed')\n",
    "plt.hlines(np.mean(np.abs(torch.cat(y_center)-torch.mean(torch.cat(input),2,keepdim=True)).numpy().ravel()),0,1,linestyle='solid')\n",
    "plt.hlines(np.mean(np.abs(torch.cat(y_center)-torch.median(torch.cat(input),2,keepdim=True)[0]).numpy().ravel()),0,1,color='r',linestyle='dashdot')\n",
    "plt.ylim(0,0.01)\n",
    "plt.legend([\"aggNet Block\",\"mean\",\"median\"], loc=1)\n",
    "# plt.ylim(0,0.02)\n"
   ]
  },
  {
   "cell_type": "code",
   "execution_count": 59,
   "metadata": {},
   "outputs": [
    {
     "data": {
      "text/plain": [
       "(0, 0.002)"
      ]
     },
     "execution_count": 59,
     "metadata": {},
     "output_type": "execute_result"
    },
    {
     "data": {
      "image/png": "[encoded data removed]",
      "text/plain": [
       "<Figure size 432x288 with 1 Axes>"
      ]
     },
     "metadata": {
      "needs_background": "light"
     },
     "output_type": "display_data"
    }
   ],
   "source": [
    "import matplotlib.pyplot as plt\n",
    "plt.plot(thresholds,err,linestyle='dashed')\n",
    "mean_=mean_relative_error(n(y_center).ravel(),n([torch.mean(i,2,keepdim=True) for i in input]).ravel())\n",
    "plt.hlines(mean_,0,1,linestyle='solid')\n",
    "median_=mean_relative_error(n(y_center).ravel(),n([torch.median(i,2,keepdim=True)[0] for i in input]).ravel())\n",
    "plt.hlines(median_,0,1,color='r',linestyle='dashdot')\n",
    "plt.ylim(0,0.002)\n"
   ]
  },
  {
   "cell_type": "code",
   "execution_count": 60,
   "metadata": {},
   "outputs": [
    {
     "data": {
      "text/plain": [
       "(0, 0.0005)"
      ]
     },
     "execution_count": 60,
     "metadata": {},
     "output_type": "execute_result"
    },
    {
     "data": {
      "image/png": "[encoded data removed]",
      "text/plain": [
       "<Figure size 432x288 with 1 Axes>"
      ]
     },
     "metadata": {
      "needs_background": "light"
     },
     "output_type": "display_data"
    }
   ],
   "source": [
    "import matplotlib.pyplot as plt\n",
    "plt.plot(thresholds,err,linestyle='dashed')\n",
    "mean_=mean_relative_error(n(y_center).ravel(),n([torch.mean(i,2,keepdim=True) for i in input]).ravel())\n",
    "plt.hlines(mean_,0,1,linestyle='solid')\n",
    "median_=mean_relative_error(n(y_center).ravel(),n([torch.median(i,2,keepdim=True)[0] for i in input]).ravel())\n",
    "plt.hlines(median_,0,1,color='r',linestyle='dashdot')\n",
    "plt.ylim(0,0.0005)\n"
   ]
  },
  {
   "cell_type": "code",
   "execution_count": 21,
   "metadata": {},
   "outputs": [],
   "source": [
    "\n",
    "    \n",
    "\n",
    "fpr,tpr,thres=roc_curve(n(y_hot).ravel().astype(int),n(y_pred).ravel())"
   ]
  },
  {
   "cell_type": "code",
   "execution_count": 22,
   "metadata": {},
   "outputs": [],
   "source": [
    "import pandas as pd\n",
    "df=pd.DataFrame()\n",
    "df['tpr']=tpr\n",
    "df['fpr']=fpr\n",
    "df['threshold']=thres"
   ]
  },
  {
   "cell_type": "code",
   "execution_count": 23,
   "metadata": {},
   "outputs": [],
   "source": [
    "# import plotly.express as px\n",
    "# fig = px.scatter(df, x=\"fpr\", y=\"tpr\", color=\"threshold\", title='roc')\n",
    "# fig.show()"
   ]
  },
  {
   "cell_type": "code",
   "execution_count": 24,
   "metadata": {},
   "outputs": [
    {
     "data": {
      "text/plain": [
       "Text(0.5215122545573831, 0.47874033459862225, '0.8552058')"
      ]
     },
     "execution_count": 24,
     "metadata": {},
     "output_type": "execute_result"
    },
    {
     "data": {
      "image/png": "[encoded data removed]",
      "text/plain": [
       "<Figure size 360x360 with 1 Axes>"
      ]
     },
     "metadata": {
      "needs_background": "light"
     },
     "output_type": "display_data"
    }
   ],
   "source": [
    "plt.figure(figsize=(5,5))\n",
    "plt.plot(fpr,tpr)\n",
    "plt.axis('equal')\n",
    "plt.xlim(0,1)\n",
    "plt.ylim(0,1)\n",
    "plt.plot([0, 1], [0, 1], ls = \"--\",c =\".3\")\n",
    "\n",
    "max_pt=np.argmax(tpr*(1-fpr))\n",
    "plt.plot(fpr[max_pt],tpr[max_pt],'r*')\n",
    "plt.annotate(thres[max_pt],(fpr[max_pt],tpr[max_pt]))"
   ]
  },
  {
   "cell_type": "code",
   "execution_count": 25,
   "metadata": {},
   "outputs": [
    {
     "data": {
      "text/plain": [
       "[<matplotlib.lines.Line2D at 0x7f2ed9477a58>]"
      ]
     },
     "execution_count": 25,
     "metadata": {},
     "output_type": "execute_result"
    },
    {
     "data": {
      "image/png": "[encoded data removed]",
      "text/plain": [
       "<Figure size 432x288 with 1 Axes>"
      ]
     },
     "metadata": {
      "needs_background": "light"
     },
     "output_type": "display_data"
    }
   ],
   "source": [
    "plt.plot(thres,fpr)"
   ]
  },
  {
   "cell_type": "code",
   "execution_count": 26,
   "metadata": {},
   "outputs": [
    {
     "data": {
      "text/plain": [
       "[<matplotlib.lines.Line2D at 0x7f2ed93dec50>]"
      ]
     },
     "execution_count": 26,
     "metadata": {},
     "output_type": "execute_result"
    },
    {
     "data": {
      "image/png": "[encoded data removed]",
      "text/plain": [
       "<Figure size 432x288 with 1 Axes>"
      ]
     },
     "metadata": {
      "needs_background": "light"
     },
     "output_type": "display_data"
    }
   ],
   "source": [
    "plt.plot(thres,tpr)"
   ]
  },
  {
   "cell_type": "code",
   "execution_count": 27,
   "metadata": {},
   "outputs": [],
   "source": [
    "# # name,loader=next(iter(test_loaders.items()))\n",
    "# y_pred=[]\n",
    "# y_hot=[]\n",
    "# y_center=[]\n",
    "# input=[]\n",
    "\n",
    "# for (data, target) in test_loaders:\n",
    "#     y_pred.append(net(data)[0])\n",
    "#     y_hot.append(target[0])\n",
    "#     y_center.append(target[1])\n",
    "#     input.append(data)"
   ]
  },
  {
   "cell_type": "code",
   "execution_count": 28,
   "metadata": {},
   "outputs": [
    {
     "data": {
      "text/plain": [
       "Text(0.8461538461538461, 14.229631502649863, '0.8552058')"
      ]
     },
     "execution_count": 28,
     "metadata": {},
     "output_type": "execute_result"
    },
    {
     "data": {
      "image/png": "[encoded data removed]",
      "text/plain": [
       "<Figure size 432x288 with 1 Axes>"
      ]
     },
     "metadata": {
      "needs_background": "light"
     },
     "output_type": "display_data"
    }
   ],
   "source": [
    "plt.plot(thresholds,bceloss,linestyle='dashed')\n",
    "idx=np.argmin(np.abs(thresholds-thres[max_pt]))\n",
    "plt.plot(thresholds[idx],bceloss[idx],'r*')\n",
    "plt.annotate(thres[max_pt],(thresholds[idx],bceloss[idx]))\n",
    "# plt.ylim(2,10)"
   ]
  },
  {
   "cell_type": "code",
   "execution_count": 29,
   "metadata": {},
   "outputs": [
    {
     "data": {
      "image/png": "[encoded data removed]",
      "text/plain": [
       "<Figure size 432x288 with 1 Axes>"
      ]
     },
     "metadata": {
      "needs_background": "light"
     },
     "output_type": "display_data"
    }
   ],
   "source": [
    "plt.plot(thres,tpr*(1-fpr))\n",
    "plt.xlim(0,1)\n",
    "plt.grid(alpha=1)"
   ]
  },
  {
   "cell_type": "code",
   "execution_count": null,
   "metadata": {},
   "outputs": [],
   "source": []
  },
  {
   "cell_type": "code",
   "execution_count": null,
   "metadata": {},
   "outputs": [],
   "source": []
  },
  {
   "cell_type": "code",
   "execution_count": null,
   "metadata": {},
   "outputs": [],
   "source": []
  },
  {
   "cell_type": "code",
   "execution_count": null,
   "metadata": {},
   "outputs": [],
   "source": []
  },
  {
   "cell_type": "code",
   "execution_count": null,
   "metadata": {},
   "outputs": [],
   "source": []
  },
  {
   "cell_type": "code",
   "execution_count": null,
   "metadata": {},
   "outputs": [],
   "source": []
  },
  {
   "cell_type": "code",
   "execution_count": null,
   "metadata": {},
   "outputs": [],
   "source": []
  },
  {
   "cell_type": "code",
   "execution_count": null,
   "metadata": {},
   "outputs": [],
   "source": []
  },
  {
   "cell_type": "code",
   "execution_count": null,
   "metadata": {},
   "outputs": [],
   "source": []
  },
  {
   "cell_type": "code",
   "execution_count": null,
   "metadata": {},
   "outputs": [],
   "source": []
  },
  {
   "cell_type": "code",
   "execution_count": null,
   "metadata": {},
   "outputs": [],
   "source": []
  },
  {
   "cell_type": "code",
   "execution_count": null,
   "metadata": {},
   "outputs": [],
   "source": []
  },
  {
   "cell_type": "code",
   "execution_count": null,
   "metadata": {},
   "outputs": [],
   "source": []
  },
  {
   "cell_type": "code",
   "execution_count": null,
   "metadata": {},
   "outputs": [],
   "source": []
  },
  {
   "cell_type": "code",
   "execution_count": null,
   "metadata": {},
   "outputs": [],
   "source": []
  },
  {
   "cell_type": "code",
   "execution_count": null,
   "metadata": {},
   "outputs": [],
   "source": []
  },
  {
   "cell_type": "code",
   "execution_count": null,
   "metadata": {},
   "outputs": [],
   "source": []
  },
  {
   "cell_type": "code",
   "execution_count": null,
   "metadata": {},
   "outputs": [],
   "source": []
  },
  {
   "cell_type": "code",
   "execution_count": null,
   "metadata": {},
   "outputs": [],
   "source": []
  },
  {
   "cell_type": "code",
   "execution_count": null,
   "metadata": {},
   "outputs": [],
   "source": []
  },
  {
   "cell_type": "code",
   "execution_count": null,
   "metadata": {},
   "outputs": [],
   "source": []
  },
  {
   "cell_type": "code",
   "execution_count": null,
   "metadata": {},
   "outputs": [],
   "source": []
  },
  {
   "cell_type": "code",
   "execution_count": null,
   "metadata": {},
   "outputs": [],
   "source": []
  },
  {
   "cell_type": "code",
   "execution_count": null,
   "metadata": {},
   "outputs": [],
   "source": []
  },
  {
   "cell_type": "code",
   "execution_count": null,
   "metadata": {},
   "outputs": [],
   "source": []
  },
  {
   "cell_type": "code",
   "execution_count": null,
   "metadata": {},
   "outputs": [],
   "source": []
  }
 ],
 "metadata": {
  "kernelspec": {
   "display_name": "Python 3",
   "language": "python",
   "name": "python3"
  },
  "language_info": {
   "codemirror_mode": {
    "name": "ipython",
    "version": 3
   },
   "file_extension": ".py",
   "mimetype": "text/x-python",
   "name": "python",
   "nbconvert_exporter": "python",
   "pygments_lexer": "ipython3",
   "version": "3.7.3"
  }
 },
 "nbformat": 4,
 "nbformat_minor": 2
}
