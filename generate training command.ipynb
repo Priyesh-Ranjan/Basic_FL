{
 "cells": [
  {
   "cell_type": "markdown",
   "metadata": {},
   "source": [
    "Run multple exp and save model as pca's vector for clustering\n",
    "\n",
    "to run jobs in parallel:\n",
    "\n",
    "``` parallel --progress --tmux --jobs 2 --delay 10 <batchjobs.sh```\n",
    "\n",
    "to switch betwenn tmux: `ctrl+b`+`n`"
   ]
  },
  {
   "cell_type": "code",
   "execution_count": null,
   "metadata": {},
   "outputs": [],
   "source": []
  },
  {
   "cell_type": "code",
   "execution_count": 9,
   "metadata": {},
   "outputs": [],
   "source": [
    "#for semantic backdoor\n",
    "GARs=[\"fedavg\",\"median\",\"gm\",\"mkrum\"]\n",
    "filename=\"batchjobs_all_attacks2.sh\"\n",
    "print(\"\",file=open(filename,\"w\"))\n",
    "attack = [\\\n",
    "#           \"n_attacker_semanticBackdoor\",\n",
    "          \"n_attacker_backdoor\", \n",
    "          \"n_attacker_labelFlippingDirectional\",\n",
    "          \"n_attacker_omniscient\"\n",
    "         ]\n",
    "n_attackers=[\\\n",
    "             1,2,3,4,]\n",
    "dataset='mnist'\n",
    "loader_type='dirichlet'\n",
    "epochs=30\n",
    "outfolder='compareAllAttacks'\n",
    "save_model_weights=True\n",
    "    \n",
    "# repeat=0\n",
    "for gar in GARs:\n",
    "    for repeat in [0,1,2]:\n",
    "        name=f\"No_Attack({repeat})\"\n",
    "        out = f\"python main.py --GAR {gar:<15} --attacks \\\"{name}\\\" \\\n",
    "        --loader_type {loader_type} --output_folder {outfolder} \\\n",
    "        --experiment_name \\\"{dataset}_{loader_type}/{name}/{gar}\\\" \\\n",
    "        --dataset {dataset} --epochs {epochs} \"\n",
    "        if save_model_weights:\n",
    "            out+=\"--save_model_weights\"\n",
    "        print(out,file=open(filename,\"a\"))\n",
    "\n",
    "\n",
    "    for i in attack:\n",
    "        for j in n_attackers:\n",
    "            for repeat in [0,1,2]:\n",
    "                name=i.split(\"_\")[-1]+\"_\"+str(j)+f\"({repeat})\"\n",
    "                out = f\"python main.py --GAR {gar:<15} --attacks \\\"{name}\\\" \\\n",
    "            --{i} {j} --loader_type {loader_type} --output_folder {outfolder} \\\n",
    "            --experiment_name \\\"{dataset}_{loader_type}/{name}/{gar}\\\" \\\n",
    "            --dataset {dataset} --epochs {epochs} \"\n",
    "                if save_model_weights:\n",
    "                    out+=\"--save_model_weights\"\n",
    "\n",
    "                print(out,file=open(filename,\"a\"))"
   ]
  },
  {
   "cell_type": "code",
   "execution_count": null,
   "metadata": {},
   "outputs": [],
   "source": []
  }
 ],
 "metadata": {
  "kernelspec": {
   "display_name": "Python 3",
   "language": "python",
   "name": "python3"
  },
  "language_info": {
   "codemirror_mode": {
    "name": "ipython",
    "version": 3
   },
   "file_extension": ".py",
   "mimetype": "text/x-python",
   "name": "python",
   "nbconvert_exporter": "python",
   "pygments_lexer": "ipython3",
   "version": "3.7.9"
  }
 },
 "nbformat": 4,
 "nbformat_minor": 4
}
