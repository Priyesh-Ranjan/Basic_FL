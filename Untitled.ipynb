{
 "cells": [
  {
   "cell_type": "code",
   "execution_count": 11,
   "metadata": {},
   "outputs": [],
   "source": [
    "from __future__ import print_function\n",
    "from random import Random\n",
    "\n",
    "import argparse\n",
    "import torch\n",
    "import torch.nn as nn\n",
    "import torch.nn.functional as F\n",
    "import torch.optim as optim\n",
    "from torchvision import datasets, transforms\n",
    "from tensorboardX import SummaryWriter\n",
    "\n",
    "\n",
    "import mnist, cifar\n",
    "from server import Server\n",
    "from clients import Client\n",
    "from modules import Net\n",
    "from allocateGPU import *\n",
    "from clients_attackers import *"
   ]
  },
  {
   "cell_type": "code",
   "execution_count": 12,
   "metadata": {},
   "outputs": [
    {
     "data": {
      "text/plain": [
       "torch.Size([8192, 1, 1])"
      ]
     },
     "execution_count": 12,
     "metadata": {},
     "output_type": "execute_result"
    }
   ],
   "source": [
    "a=torch.rand(8192,1,1)\n",
    "b=torch.rand(8192,1,10,1)\n",
    "a.shape"
   ]
  },
  {
   "cell_type": "code",
   "execution_count": 13,
   "metadata": {},
   "outputs": [
    {
     "data": {
      "text/plain": [
       "8192"
      ]
     },
     "execution_count": 13,
     "metadata": {},
     "output_type": "execute_result"
    }
   ],
   "source": [
    "len(a)"
   ]
  },
  {
   "cell_type": "code",
   "execution_count": 6,
   "metadata": {},
   "outputs": [
    {
     "data": {
      "text/plain": [
       "torch.Size([8192, 1, 1, 1])"
      ]
     },
     "execution_count": 6,
     "metadata": {},
     "output_type": "execute_result"
    }
   ],
   "source": [
    "a[:,:,None,:].shape"
   ]
  },
  {
   "cell_type": "code",
   "execution_count": 10,
   "metadata": {},
   "outputs": [
    {
     "data": {
      "text/plain": [
       "torch.Size([8192, 1, 10, 1])"
      ]
     },
     "execution_count": 10,
     "metadata": {},
     "output_type": "execute_result"
    }
   ],
   "source": [
    "(b-a[:,:,None,:]).shape"
   ]
  },
  {
   "cell_type": "code",
   "execution_count": null,
   "metadata": {},
   "outputs": [],
   "source": [
    "num_clients=10\n",
    "trainData=cifar.train_dataloader(num_clients,loader_type='iid',path='./data/loader.pk', store=False)\n",
    "testData=cifar.test_dataloader(test_batch_size=1000)"
   ]
  },
  {
   "cell_type": "code",
   "execution_count": null,
   "metadata": {},
   "outputs": [],
   "source": [
    "data=next(iter(testData))\n",
    "pred=cifar.Net()(data[0]).argmax(dim=1, keepdim=True)\n",
    "out=pred.eq(data[1].view_as(pred)).sum().item()"
   ]
  },
  {
   "cell_type": "code",
   "execution_count": null,
   "metadata": {},
   "outputs": [],
   "source": [
    "len(pred)"
   ]
  },
  {
   "cell_type": "code",
   "execution_count": null,
   "metadata": {},
   "outputs": [],
   "source": []
  },
  {
   "cell_type": "code",
   "execution_count": null,
   "metadata": {},
   "outputs": [],
   "source": [
    "model0 = Net().cuda()\n",
    "server=Server(model0,testData,'cuda')\n",
    "server.set_GAR('deepGARNbh')\n",
    "for i in range(num_clients):\n",
    "    model = Net().cuda()\n",
    "    optimizer = optim.SGD(model.parameters(), lr=0.01, momentum=0.5)\n",
    "    client_i=Client(i,model,trainData[i],optimizer,'cuda')\n",
    "    server.attach(client_i)\n",
    "        \n",
    "loss,accuracy=server.test()\n"
   ]
  },
  {
   "cell_type": "code",
   "execution_count": null,
   "metadata": {},
   "outputs": [],
   "source": [
    "server.distribute()\n"
   ]
  },
  {
   "cell_type": "code",
   "execution_count": null,
   "metadata": {},
   "outputs": [],
   "source": [
    "server.train(range(num_clients))"
   ]
  },
  {
   "cell_type": "code",
   "execution_count": null,
   "metadata": {},
   "outputs": [],
   "source": [
    "loss,accuracy=server.test()"
   ]
  },
  {
   "cell_type": "code",
   "execution_count": null,
   "metadata": {},
   "outputs": [],
   "source": [
    "self=server"
   ]
  },
  {
   "cell_type": "code",
   "execution_count": null,
   "metadata": {},
   "outputs": [],
   "source": [
    "Delta=deepcopy(self.emptyStates)"
   ]
  },
  {
   "cell_type": "code",
   "execution_count": null,
   "metadata": {},
   "outputs": [],
   "source": [
    "deltas=[c.getDelta() for c in self.clients]"
   ]
  },
  {
   "cell_type": "code",
   "execution_count": null,
   "metadata": {},
   "outputs": [],
   "source": [
    "clients=self.clients"
   ]
  },
  {
   "cell_type": "code",
   "execution_count": null,
   "metadata": {},
   "outputs": [],
   "source": [
    "def getNbh(t1,vd):\n",
    "    '''\n",
    "    -in\n",
    "    t1: tensor with shape d1 x 1 x num clients\n",
    "    vd: the dimension of the vector to be fed to deep GAR, equals to the number of nbh  to be sampled\n",
    "    -out\n",
    "    entriesWithNbh: tensor with shape d1 x vd x num clients, with entriesWithNbh[:,0,:] being the original entry \n",
    "    '''\n",
    "    d1=t1.size(0)\n",
    "    num_clients=t1.size(2)\n",
    "    randperms=[torch.tensor(range(d1))]+[torch.randperm(t1.size(0)) for i in range(vd-1)]\n",
    "    randperms_index=torch.stack(randperms,dim=1)\n",
    "    entriesWithNbh=t1[randperms_index].view(-1,vd,num_clients)\n",
    "    return entriesWithNbh"
   ]
  },
  {
   "cell_type": "code",
   "execution_count": null,
   "metadata": {},
   "outputs": [],
   "source": [
    "param=next(iter(Delta))\n",
    "vd=64\n",
    "param_stack=torch.stack([delta[param] for delta in deltas],-1) # d1 x d2 x d3 x... xnum clients\n",
    "shaped=param_stack.view(-1,1,len(clients)) #d1*d2*d3*... x 1 x num clients\n",
    "dset=torch.utils.data.TensorDataset(getNbh(shaped,vd))\n",
    "dloader=torch.utils.data.DataLoader(dset,batch_size=25000)"
   ]
  },
  {
   "cell_type": "code",
   "execution_count": null,
   "metadata": {},
   "outputs": [],
   "source": [
    "next(iter(dloader))[0].shape"
   ]
  },
  {
   "cell_type": "code",
   "execution_count": null,
   "metadata": {},
   "outputs": [],
   "source": [
    "net=self.load_deep_net_nbh().cuda()"
   ]
  },
  {
   "cell_type": "code",
   "execution_count": null,
   "metadata": {},
   "outputs": [],
   "source": [
    "x,hard,soft=net(next(iter(dloader))[0].cuda())"
   ]
  },
  {
   "cell_type": "code",
   "execution_count": null,
   "metadata": {},
   "outputs": [],
   "source": [
    "hard.shape"
   ]
  },
  {
   "cell_type": "code",
   "execution_count": null,
   "metadata": {},
   "outputs": [],
   "source": [
    "    def FedFuncNbhPerLayer(self,clients,func=torch.mean,vd=1):\n",
    "        '''\n",
    "        apply func to each layer across clients\n",
    "        for each entry in the layer, sample (vd-1) other entries in the layer with that entry,\n",
    "        feed it to the GAR\n",
    "        '''\n",
    "        Delta=deepcopy(self.emptyStates)\n",
    "        deltas=[c.getDelta() for c in clients]\n",
    "        \n",
    "        def getNbh(t1,vd):\n",
    "            '''\n",
    "            -in\n",
    "            t1: tensor with shape d1 x 1 x num clients\n",
    "            vd: the dimension of the vector to be fed to deep GAR, equals to the number of nbh  to be sampled\n",
    "            -out\n",
    "            entriesWithNbh: tensor with shape d1 x vd x num clients, with entriesWithNbh[:,0,:] being the original entry \n",
    "            '''\n",
    "            d1=t1.size(0)\n",
    "            num_clients=t1.size(2)\n",
    "            randperms=[torch.tensor(range(d1))]+[torch.randperm(t1.size(0)) for i in range(vd-1)]\n",
    "            randperms_index=torch.stack(randperms,dim=1)\n",
    "            entriesWithNbh=t1[randperms_index].view(-1,vd,num_clients)\n",
    "            return entriesWithNbh\n",
    "            \n",
    "        for param in Delta:\n",
    "            \n",
    "            ##stacking the weight in the innerest dimension\n",
    "            ## size of layer x1x number of clients\n",
    "            param_stack=torch.stack([delta[param] for delta in deltas],-1) # d1 x d2 x d3 x... xnum clients\n",
    "            shaped=param_stack.view(-1,1,len(clients)) #d1*d2*d3*... x 1 x num clients\n",
    "            dset=torch.utils.data.TensorDataset(getNbh(shaped,vd))\n",
    "            dloader=torch.utils.data.DataLoader(dset,batch_size=25000)\n",
    "            result=[]\n",
    "            for data in dloader:\n",
    "                result.append(func(data[0]))\n",
    "            result_tensor=torch.stack(result)\n",
    "            buffer=result_tensor.reshape(Delta[param].shape)\n",
    "            ##applying `func` to the [n by params] tensor in the innerest dimension\n",
    "#             buffer=func(shaped).reshape(Delta[param].shape)\n",
    "            Delta[param]=buffer\n",
    "        return Delta"
   ]
  }
 ],
 "metadata": {
  "kernelspec": {
   "display_name": "Python 3",
   "language": "python",
   "name": "python3"
  },
  "language_info": {
   "codemirror_mode": {
    "name": "ipython",
    "version": 3
   },
   "file_extension": ".py",
   "mimetype": "text/x-python",
   "name": "python",
   "nbconvert_exporter": "python",
   "pygments_lexer": "ipython3",
   "version": "3.7.3"
  }
 },
 "nbformat": 4,
 "nbformat_minor": 2
}
