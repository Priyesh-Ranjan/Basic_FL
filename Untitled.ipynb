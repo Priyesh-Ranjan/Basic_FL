{
 "cells": [
  {
   "cell_type": "code",
   "execution_count": 26,
   "metadata": {},
   "outputs": [],
   "source": [
    "import torch\n",
    "\n",
    "import torch.nn.functional as F\n",
    "import aggregator.attention as attention\n",
    "import aggregator.train_attention as train_attention\n"
   ]
  },
  {
   "cell_type": "code",
   "execution_count": 2,
   "metadata": {},
   "outputs": [],
   "source": [
    "path_to_aggNet='./aggregator/attention_499.pt'"
   ]
  },
  {
   "cell_type": "code",
   "execution_count": 4,
   "metadata": {},
   "outputs": [
    {
     "data": {
      "text/plain": [
       "<All keys matched successfully>"
      ]
     },
     "execution_count": 4,
     "metadata": {},
     "output_type": "execute_result"
    }
   ],
   "source": [
    "model = attention.AttentionLoop(60, 21 ,bias=False, nloop=5, eps=0.05, scale=10)\n",
    "model.load_state_dict(torch.load(path_to_aggNet))"
   ]
  },
  {
   "cell_type": "code",
   "execution_count": 5,
   "metadata": {},
   "outputs": [
    {
     "data": {
      "text/plain": [
       "AttentionLoop(\n",
       "  (attention): AttentionConv(\n",
       "    (affinity): Affinity(\n",
       "      (key_conv): nonLinearity(\n",
       "        (main): Sequential(\n",
       "          (0): Conv1d(60, 120, kernel_size=(1,), stride=(1,), bias=False)\n",
       "          (1): LeakyReLU(negative_slope=0.01)\n",
       "          (2): Conv1d(120, 21, kernel_size=(1,), stride=(1,), bias=False)\n",
       "        )\n",
       "      )\n",
       "      (query_conv): nonLinearity(\n",
       "        (main): Sequential(\n",
       "          (0): Conv1d(60, 120, kernel_size=(1,), stride=(1,), bias=False)\n",
       "          (1): LeakyReLU(negative_slope=0.01)\n",
       "          (2): Conv1d(120, 21, kernel_size=(1,), stride=(1,), bias=False)\n",
       "        )\n",
       "      )\n",
       "      (Threshold): Threshold(threshold=0.05, value=0)\n",
       "    )\n",
       "  )\n",
       ")"
      ]
     },
     "execution_count": 5,
     "metadata": {},
     "output_type": "execute_result"
    }
   ],
   "source": [
    "model"
   ]
  },
  {
   "cell_type": "code",
   "execution_count": 15,
   "metadata": {},
   "outputs": [],
   "source": [
    "\n",
    "def getTensorData(path_to_folder,idx):\n",
    "\n",
    "    data = torch.load(f'{path_to_folder}/pca_{idx}.pt')\n",
    "    label = torch.load(f'{path_to_folder}/label.pt') \n",
    "\n",
    "    x = data.unsqueeze(0)\n",
    "    y = label\n",
    "    return x,y"
   ]
  },
  {
   "cell_type": "code",
   "execution_count": 19,
   "metadata": {},
   "outputs": [],
   "source": [
    "data,label=getTensorData('./AggData/dirichlet/mnist/backdoor_4(0)/attention',0)"
   ]
  },
  {
   "cell_type": "code",
   "execution_count": 20,
   "metadata": {},
   "outputs": [
    {
     "data": {
      "text/plain": [
       "tensor([0., 1., 1., 0., 1., 1., 0., 0., 1., 1.])"
      ]
     },
     "execution_count": 20,
     "metadata": {},
     "output_type": "execute_result"
    }
   ],
   "source": [
    "label"
   ]
  },
  {
   "cell_type": "code",
   "execution_count": 27,
   "metadata": {},
   "outputs": [],
   "source": [
    "beta=data.median(dim=-1,keepdims=True)[0]\n",
    "pred=model.getWeight(beta,data)\n",
    "pred = F.normalize(pred,p=1,dim=-1)\n"
   ]
  },
  {
   "cell_type": "code",
   "execution_count": 31,
   "metadata": {},
   "outputs": [],
   "source": [
    "avgWbenign=(pred*label).sum()/label.sum()\n",
    "avgWattack=(pred*(1-label)).sum()/(1-label).sum()"
   ]
  },
  {
   "cell_type": "code",
   "execution_count": 38,
   "metadata": {},
   "outputs": [],
   "source": [
    "Wbenign=[]\n",
    "Wattack=[]\n",
    "predEpoch=[]"
   ]
  },
  {
   "cell_type": "code",
   "execution_count": 39,
   "metadata": {},
   "outputs": [],
   "source": [
    "for i in range(30):\n",
    "    data,label=getTensorData('./AggData/dirichlet/mnist/backdoor_4(0)/attention',i)\n",
    "    beta=data.median(dim=-1,keepdims=True)[0]\n",
    "    pred=model.getWeight(beta,data)\n",
    "    pred = F.normalize(pred,p=1,dim=-1)\n",
    "    avgWbenign=(pred*label).sum()/label.sum()\n",
    "    avgWattack=(pred*(1-label)).sum()/(1-label).sum()\n",
    "    Wbenign.append(avgWbenign)\n",
    "    Wattack.append(avgWattack)\n",
    "    predEpoch.append(pred)"
   ]
  },
  {
   "cell_type": "code",
   "execution_count": 35,
   "metadata": {},
   "outputs": [
    {
     "data": {
      "text/plain": [
       "[tensor(0.1667, grad_fn=<DivBackward0>),\n",
       " tensor(0.1536, grad_fn=<DivBackward0>),\n",
       " tensor(0.1322, grad_fn=<DivBackward0>),\n",
       " tensor(0.1667, grad_fn=<DivBackward0>),\n",
       " tensor(0.1667, grad_fn=<DivBackward0>),\n",
       " tensor(0.1667, grad_fn=<DivBackward0>),\n",
       " tensor(0.1667, grad_fn=<DivBackward0>),\n",
       " tensor(0.1667, grad_fn=<DivBackward0>),\n",
       " tensor(0.1667, grad_fn=<DivBackward0>),\n",
       " tensor(0.1667, grad_fn=<DivBackward0>),\n",
       " tensor(0.1667, grad_fn=<DivBackward0>),\n",
       " tensor(0.1667, grad_fn=<DivBackward0>),\n",
       " tensor(0.1667, grad_fn=<DivBackward0>),\n",
       " tensor(0.1667, grad_fn=<DivBackward0>),\n",
       " tensor(0.1667, grad_fn=<DivBackward0>),\n",
       " tensor(0.1667, grad_fn=<DivBackward0>),\n",
       " tensor(0.1667, grad_fn=<DivBackward0>),\n",
       " tensor(0.1667, grad_fn=<DivBackward0>),\n",
       " tensor(0.1667, grad_fn=<DivBackward0>),\n",
       " tensor(0.1667, grad_fn=<DivBackward0>),\n",
       " tensor(0.1667, grad_fn=<DivBackward0>),\n",
       " tensor(0.1667, grad_fn=<DivBackward0>),\n",
       " tensor(0.1667, grad_fn=<DivBackward0>),\n",
       " tensor(0.1667, grad_fn=<DivBackward0>),\n",
       " tensor(0.1667, grad_fn=<DivBackward0>),\n",
       " tensor(0.1667, grad_fn=<DivBackward0>),\n",
       " tensor(0.1667, grad_fn=<DivBackward0>),\n",
       " tensor(0.1667, grad_fn=<DivBackward0>),\n",
       " tensor(0.1667, grad_fn=<DivBackward0>),\n",
       " tensor(0.1667, grad_fn=<DivBackward0>)]"
      ]
     },
     "execution_count": 35,
     "metadata": {},
     "output_type": "execute_result"
    }
   ],
   "source": [
    "Wbenign"
   ]
  },
  {
   "cell_type": "code",
   "execution_count": 36,
   "metadata": {},
   "outputs": [
    {
     "data": {
      "text/plain": [
       "[tensor(0., grad_fn=<DivBackward0>),\n",
       " tensor(0.0196, grad_fn=<DivBackward0>),\n",
       " tensor(0.0517, grad_fn=<DivBackward0>),\n",
       " tensor(0., grad_fn=<DivBackward0>),\n",
       " tensor(0., grad_fn=<DivBackward0>),\n",
       " tensor(0., grad_fn=<DivBackward0>),\n",
       " tensor(0., grad_fn=<DivBackward0>),\n",
       " tensor(0., grad_fn=<DivBackward0>),\n",
       " tensor(0., grad_fn=<DivBackward0>),\n",
       " tensor(0., grad_fn=<DivBackward0>),\n",
       " tensor(0., grad_fn=<DivBackward0>),\n",
       " tensor(0., grad_fn=<DivBackward0>),\n",
       " tensor(0., grad_fn=<DivBackward0>),\n",
       " tensor(0., grad_fn=<DivBackward0>),\n",
       " tensor(0., grad_fn=<DivBackward0>),\n",
       " tensor(0., grad_fn=<DivBackward0>),\n",
       " tensor(0., grad_fn=<DivBackward0>),\n",
       " tensor(0., grad_fn=<DivBackward0>),\n",
       " tensor(0., grad_fn=<DivBackward0>),\n",
       " tensor(0., grad_fn=<DivBackward0>),\n",
       " tensor(0., grad_fn=<DivBackward0>),\n",
       " tensor(0., grad_fn=<DivBackward0>),\n",
       " tensor(0., grad_fn=<DivBackward0>),\n",
       " tensor(0., grad_fn=<DivBackward0>),\n",
       " tensor(0., grad_fn=<DivBackward0>),\n",
       " tensor(0., grad_fn=<DivBackward0>),\n",
       " tensor(0., grad_fn=<DivBackward0>),\n",
       " tensor(0., grad_fn=<DivBackward0>),\n",
       " tensor(0., grad_fn=<DivBackward0>),\n",
       " tensor(0., grad_fn=<DivBackward0>)]"
      ]
     },
     "execution_count": 36,
     "metadata": {},
     "output_type": "execute_result"
    }
   ],
   "source": [
    "Wattack"
   ]
  },
  {
   "cell_type": "code",
   "execution_count": 81,
   "metadata": {},
   "outputs": [],
   "source": [
    "import matplotlib.pyplot as plt\n",
    "plt.rc('font', family='serif')\n",
    "from matplotlib import rcParams\n",
    "rcParams['axes.labelsize'] = 9\n",
    "rcParams['xtick.labelsize'] = 9\n",
    "rcParams['ytick.labelsize'] = 9\n",
    "rcParams['legend.fontsize'] = 9\n",
    "import numpy as np\n",
    "WIDTH = 487.0  # the number latex spits out\n",
    "FACTOR = 0.5  # the fraction of the width you'd like the figure to occupy\n",
    "figwidthpt  = WIDTH * FACTOR\n",
    "\n",
    "inchesperpt = 1.0 / 72.27\n",
    "golden_ratio  = (np.sqrt(5) - 1.0) / 2.0  # because it looks good\n",
    "\n",
    "figwidthin  = figwidthpt * inchesperpt  # figure width in inches\n",
    "figheightin = figwidthin * golden_ratio   # figure height in inches\n",
    "fig_dims    = [figwidthin, figheightin] # fig dims as a list"
   ]
  },
  {
   "cell_type": "code",
   "execution_count": 61,
   "metadata": {},
   "outputs": [],
   "source": [
    "result=np.array([pred.detach().numpy() for pred in predEpoch]).squeeze()"
   ]
  },
  {
   "cell_type": "code",
   "execution_count": 73,
   "metadata": {},
   "outputs": [],
   "source": [
    "color=['r','b']"
   ]
  },
  {
   "cell_type": "code",
   "execution_count": 91,
   "metadata": {},
   "outputs": [
    {
     "data": {
      "image/png": "[encoded data removed]",
      "text/plain": [
       "<Figure size 242.59x149.929 with 1 Axes>"
      ]
     },
     "metadata": {
      "needs_background": "light"
     },
     "output_type": "display_data"
    }
   ],
   "source": [
    "fig,ax=plt.subplots(1,1,figsize=fig_dims)\n",
    "for i in range(result.shape[1]):\n",
    "    plt.plot(result[:,i],c=color[int(label.numpy()[i])],marker='+',alpha=0.5)\n",
    "ax.set_ylabel(\"Weight\")\n",
    "ax.legend(['attacker','benign client'])\n",
    "fig.tight_layout(pad=0.1)\n",
    "plt.savefig('weight.pdf',format='pdf')\n",
    "plt.savefig('weight.png',format='png')\n"
   ]
  },
  {
   "cell_type": "code",
   "execution_count": 76,
   "metadata": {},
   "outputs": [
    {
     "data": {
      "text/plain": [
       "array([0., 1., 1., 0., 1., 1., 0., 0., 1., 1.], dtype=float32)"
      ]
     },
     "execution_count": 76,
     "metadata": {},
     "output_type": "execute_result"
    }
   ],
   "source": [
    "label.numpy()"
   ]
  },
  {
   "cell_type": "code",
   "execution_count": null,
   "metadata": {},
   "outputs": [],
   "source": []
  }
 ],
 "metadata": {
  "kernelspec": {
   "display_name": "Python 3",
   "language": "python",
   "name": "python3"
  },
  "language_info": {
   "codemirror_mode": {
    "name": "ipython",
    "version": 3
   },
   "file_extension": ".py",
   "mimetype": "text/x-python",
   "name": "python",
   "nbconvert_exporter": "python",
   "pygments_lexer": "ipython3",
   "version": "3.7.9"
  }
 },
 "nbformat": 4,
 "nbformat_minor": 4
}
