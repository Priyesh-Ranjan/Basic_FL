{
 "cells": [
  {
   "cell_type": "markdown",
   "metadata": {},
   "source": [
    "# WAN Ching Pui,  20349359"
   ]
  },
  {
   "cell_type": "markdown",
   "metadata": {
    "colab_type": "text",
    "id": "Fllv4OqSisBH"
   },
   "source": [
    "# MNIST (100 points)\n",
    "In this problem, we will implement a model to classify digits using the MNIST\n",
    "dataset. The dataset is available at http://yann.lecun.com/exdb/mnist/.\n",
    "Please download both training and test sets. You can train your model for 20\n",
    "epochs. Use a batch size of 64 to train the model. Please submit a report\n",
    "and code for this assignment. You can use Tensorflow and Pytorch in this\n",
    "assignment."
   ]
  },
  {
   "cell_type": "code",
   "execution_count": 1,
   "metadata": {
    "colab": {
     "base_uri": "https://localhost:8080/",
     "height": 266
    },
    "colab_type": "code",
    "id": "kwl0ysQdqEKg",
    "outputId": "77085b7d-7785-41ce-9f64-3706348cb020"
   },
   "outputs": [],
   "source": [
    "import torchvision.datasets as dsets\n",
    "from torchvision import transforms\n",
    "import torch\n",
    "import numpy as np\n",
    "import matplotlib.pyplot as plt\n",
    "torch.manual_seed(0)\n",
    "num_epoch=20\n",
    "batch_size=64\n",
    "device='cuda'\n",
    "data_root='./data'\n",
    "train_set=dsets.MNIST(data_root,train=True,download=True,transform=transforms.ToTensor())\n",
    "test_set=dsets.MNIST(data_root,train=False,download=True,transform=transforms.ToTensor())\n",
    "\n",
    "train_loader = torch.utils.data.DataLoader(train_set, batch_size=batch_size, shuffle=True)\n",
    "test_loader = torch.utils.data.DataLoader(test_set, batch_size=batch_size, shuffle=True)\n"
   ]
  },
  {
   "cell_type": "code",
   "execution_count": 2,
   "metadata": {
    "colab": {},
    "colab_type": "code",
    "id": "iCkx61bK7ODH"
   },
   "outputs": [],
   "source": [
    "#helper function\n",
    "import time\n",
    "class Timer(object):\n",
    "    def __init__(self, name=None):\n",
    "        self.name = name\n",
    "\n",
    "    def __enter__(self):\n",
    "        self.tstart = time.time()\n",
    "\n",
    "    def __exit__(self, type, value, traceback):\n",
    "        if self.name:\n",
    "            print('[%s]' % self.name,)\n",
    "        print('Elapsed: %s' % (time.time() - self.tstart))"
   ]
  },
  {
   "cell_type": "markdown",
   "metadata": {
    "colab_type": "text",
    "id": "YloEKxxMi5Th"
   },
   "source": [
    "## K Nearest Neighbors (KNN) (25 points)\n",
    "We will implement a K-nearest neighbor model that finds the most similar image\n",
    "given a test image. We can use the scikit-learn Python library to find the KNN.\n",
    "We will use the sum of absolute difference (SAD) on all the pixels to measure\n",
    "the similarity between two images. What will be the accuracy if we find the\n",
    "nearest neighbor? What will be the accuracy if we find K neighbors? When\n",
    "we find K, we choose the label that appears most among the KNN images (if\n",
    "there is a tie, we pick the one with the smallest aggregated SAD). Plot a curve\n",
    "of accuracy versus K from 1 to 10.\n"
   ]
  },
  {
   "cell_type": "code",
   "execution_count": 0,
   "metadata": {
    "colab": {},
    "colab_type": "code",
    "id": "rZ_lY_PNtagk"
   },
   "outputs": [],
   "source": [
    "from sklearn.neighbors import KNeighborsClassifier as KNN"
   ]
  },
  {
   "cell_type": "code",
   "execution_count": 0,
   "metadata": {
    "colab": {},
    "colab_type": "code",
    "id": "_n78_M7nuAZl"
   },
   "outputs": [],
   "source": [
    "X_=train_set.data.numpy()\n",
    "X=X_.reshape([-1,28*28])\n",
    "np.testing.assert_array_equal(X_[0],(X[0].reshape([28,28])))\n",
    "y=train_set.targets.numpy()\n",
    "\n",
    "X_test=test_set.data.numpy().reshape([-1,28*28])\n",
    "y_test=test_set.targets.numpy()"
   ]
  },
  {
   "cell_type": "code",
   "execution_count": 56,
   "metadata": {
    "colab": {
     "base_uri": "https://localhost:8080/",
     "height": 408
    },
    "colab_type": "code",
    "id": "GTrsLnC6yYXS",
    "outputId": "5d306215-554f-4a45-9f56-e000113178e7"
   },
   "outputs": [
    {
     "name": "stdout",
     "output_type": "stream",
     "text": [
      "K=1,\t accuracy=0.96\n",
      "Elapsed: 802.2946751117706\n",
      "K=2,\t accuracy=0.95\n",
      "Elapsed: 803.3404867649078\n",
      "K=3,\t accuracy=0.96\n",
      "Elapsed: 804.2315666675568\n",
      "K=4,\t accuracy=0.96\n",
      "Elapsed: 799.2401945590973\n",
      "K=5,\t accuracy=0.96\n",
      "Elapsed: 801.9481177330017\n",
      "K=6,\t accuracy=0.96\n",
      "Elapsed: 799.5685656070709\n",
      "K=7,\t accuracy=0.96\n",
      "Elapsed: 816.9312310218811\n",
      "K=8,\t accuracy=0.96\n",
      "Elapsed: 840.5349388122559\n",
      "K=9,\t accuracy=0.96\n",
      "Elapsed: 856.0809323787689\n",
      "K=10,\t accuracy=0.96\n",
      "Elapsed: 852.5900988578796\n",
      "CPU times: user 2h 16min 4s, sys: 2.65 s, total: 2h 16min 7s\n",
      "Wall time: 2h 16min 16s\n"
     ]
    }
   ],
   "source": [
    "%%time\n",
    "\n",
    "accuracy=[]\n",
    "K=list(range(1,11))\n",
    "for k in K:\n",
    "  with Timer():\n",
    "    classifier=KNN(n_neighbors=k,p=1).fit(X,y)\n",
    "    score=classifier.score(X_test,y_test)\n",
    "    accuracy.append(score)\n",
    "    print('K=%d,\\t accuracy=%.2f'%(k,score))"
   ]
  },
  {
   "cell_type": "code",
   "execution_count": 57,
   "metadata": {
    "colab": {
     "base_uri": "https://localhost:8080/",
     "height": 283
    },
    "colab_type": "code",
    "id": "mz7rACXPASyc",
    "outputId": "44caba82-be69-488d-d6f2-8c7116390caf"
   },
   "outputs": [
    {
     "data": {
      "image/png": "[encoded data removed]",
      "text/plain": [
       "<Figure size 432x288 with 1 Axes>"
      ]
     },
     "metadata": {
      "tags": []
     },
     "output_type": "display_data"
    }
   ],
   "source": [
    "plt.plot(K,accuracy)\n",
    "plt.xlabel('K')\n",
    "plt.ylabel('Accuracy')\n",
    "plt.xticks(K)\n",
    "plt.show()"
   ]
  },
  {
   "cell_type": "markdown",
   "metadata": {
    "colab_type": "text",
    "id": "sTtbtHI4jGCk"
   },
   "source": [
    "## Multilayer Perceptron (MLP) (25 points)\n",
    "Treat each image as a 784d (28 × 28) vector. Train a multilayer perceptron\n",
    "model to classify images. Use two hidden layers (not including the input layer\n",
    "and the output layers). Each hidden layer is a fully connected layer followed by\n",
    "ReLU (Rectified Linear Unit f(x) = max(0, x)). The final layer should output\n",
    "10 numbers indicating the scores of the 10 classes. Try cross-entropy loss for\n",
    "the classification<sup>1</sup>\n",
    ". We can experiment with different neurons in the hidden\n",
    "layers. What is the accuracy of such a model? Plot a curve of accuracy versus\n",
    "the number of neurons: 4, 8, 16, 32, 64, 128, and 256. We assume both hidden\n",
    "layers have the same neurons.\n",
    "\n",
    "---\n",
    "<sup>1</sup>\n",
    "In Tensorflow, we can use https://www.tensorflow.org/api_docs/python/tf/nn/softmax_cross_entropy_with_logits"
   ]
  },
  {
   "cell_type": "code",
   "execution_count": 0,
   "metadata": {
    "colab": {},
    "colab_type": "code",
    "id": "PR2uE2RLqXo7"
   },
   "outputs": [],
   "source": [
    "def train(net,train_loader,criterion,optimizer,device):\n",
    "    net.to(device)\n",
    "    for idx, (data,target) in enumerate(train_loader):\n",
    "        data = data.to(device)\n",
    "        target = target.to(device)\n",
    "        optimizer.zero_grad()   \n",
    "        output = net(data)\n",
    "        loss = criterion(output, target)\n",
    "        loss.backward()\n",
    "        optimizer.step()\n",
    "    \n",
    "def test(net,test_loader,device,message_prefix):\n",
    "    net.to(device)\n",
    "    correct = 0\n",
    "    total = 0\n",
    "    with torch.no_grad():\n",
    "        for data, target in test_loader:\n",
    "            data = data.to(device)\n",
    "            target = target.to(device)\n",
    "            outputs = net(data)\n",
    "            _, predicted = torch.max(outputs.data, 1)\n",
    "            total += target.size(0)\n",
    "            correct += (predicted == target).sum().item()\n",
    "    accuracy=correct / total\n",
    "    print('%s\\tAccuracy: %.2f' % (message_prefix,accuracy))\n",
    "    return accuracy"
   ]
  },
  {
   "cell_type": "code",
   "execution_count": 0,
   "metadata": {
    "colab": {},
    "colab_type": "code",
    "id": "5BuzrNfzxst3"
   },
   "outputs": [],
   "source": [
    "import torch.nn as nn\n",
    "import torch.nn.functional as F\n",
    "import torch.optim as optim\n",
    "\n",
    "class Mlp(nn.Module):\n",
    "    def __init__(self,n):\n",
    "        super(Mlp, self).__init__()\n",
    "        self.fc1 = nn.Linear(28*28, n)\n",
    "        self.fc2 = nn.Linear(n, n)\n",
    "        self.fc3 = nn.Linear(n, 10)\n",
    "\n",
    "    def forward(self, x):\n",
    "        x = x.view(-1, 28*28)\n",
    "        x = F.relu(self.fc1(x))\n",
    "        x = F.relu(self.fc2(x))\n",
    "        x = F.relu(self.fc3(x))\n",
    "        return x"
   ]
  },
  {
   "cell_type": "code",
   "execution_count": 8,
   "metadata": {
    "colab": {
     "base_uri": "https://localhost:8080/",
     "height": 390
    },
    "colab_type": "code",
    "id": "J8RueHY9sN_W",
    "outputId": "b09eb544-28e1-499d-ab78-f0ab1d32d10a"
   },
   "outputs": [
    {
     "name": "stdout",
     "output_type": "stream",
     "text": [
      "[Number of neurons =4]\tAccuracy: 0.47\n",
      "0.4745\n",
      "Elapsed: 146.32275795936584\n",
      "[Number of neurons =8]\tAccuracy: 0.83\n",
      "0.8281\n",
      "Elapsed: 139.607031583786\n",
      "[Number of neurons =16]\tAccuracy: 0.73\n",
      "0.7332\n",
      "Elapsed: 140.1396040916443\n",
      "[Number of neurons =32]\tAccuracy: 0.94\n",
      "0.9415\n",
      "Elapsed: 140.62085556983948\n",
      "[Number of neurons =64]\tAccuracy: 0.95\n",
      "0.9545\n",
      "Elapsed: 141.40154314041138\n",
      "[Number of neurons =128]\tAccuracy: 0.86\n",
      "0.8643\n",
      "Elapsed: 141.05031609535217\n",
      "[Number of neurons =256]\tAccuracy: 0.87\n",
      "0.866\n",
      "Elapsed: 141.4726049900055\n"
     ]
    }
   ],
   "source": [
    "num_neurons=[4,8,16,32,64,128,256]\n",
    "accuracy=[]\n",
    "for n in num_neurons:\n",
    "  with Timer():\n",
    "\n",
    "    net=Mlp(n)\n",
    "    optimizer = optim.SGD(net.parameters(), lr=0.001, momentum=0.9)\n",
    "    criterion = nn.CrossEntropyLoss()\n",
    "    for epoch in range(num_epoch):\n",
    "      train(net,train_loader,criterion,optimizer,device)\n",
    "    score=test(net,test_loader,device,'[Number of neurons =%d]'%n)\n",
    "    accuracy.append(score)\n",
    "    print(score)\n"
   ]
  },
  {
   "cell_type": "code",
   "execution_count": 10,
   "metadata": {
    "colab": {
     "base_uri": "https://localhost:8080/",
     "height": 283
    },
    "colab_type": "code",
    "id": "kXBkhr3kxmwH",
    "outputId": "e237d0ee-a53d-4d7e-e69e-e786b97ba633"
   },
   "outputs": [
    {
     "data": {
      "image/png": "[encoded data removed]",
      "text/plain": [
       "<Figure size 432x288 with 1 Axes>"
      ]
     },
     "metadata": {
      "tags": []
     },
     "output_type": "display_data"
    }
   ],
   "source": [
    "plt.plot(num_neurons,accuracy)\n",
    "plt.xlabel('Number of Neurons')\n",
    "plt.ylabel('Accuracy')\n",
    "plt.xticks(num_neurons)\n",
    "plt.show()"
   ]
  },
  {
   "cell_type": "markdown",
   "metadata": {
    "colab_type": "text",
    "id": "Idh4FRzijpDS"
   },
   "source": [
    "## Convolutional Neural Networks (CNN) (25 points)\n",
    "Implement the LeNet-5 convolutional neural network. You can follow this tutorial for the details of the LeNet: https://engmrk.com/lenet-5-a-classic-cnn-architecture/.\n",
    "Please use input image size 28×28 in your model, although the input image size\n",
    "in the original LeNet-5 model is 32 × 32. What is the accuracy of the LeNet-5\n",
    "model?\n"
   ]
  },
  {
   "cell_type": "code",
   "execution_count": 0,
   "metadata": {
    "colab": {},
    "colab_type": "code",
    "id": "hkVUp7c4xKGH"
   },
   "outputs": [],
   "source": [
    "import torch.nn as nn\n",
    "import torch.nn.functional as F\n",
    "import torch.optim as optim\n",
    "\n",
    "#torch.nn.Conv2d(in_channels, out_channels, kernel_size, stride=1, padding=0,\n",
    "#dilation=1, groups=1, bias=True, padding_mode='zeros')\n",
    "\n",
    "class CNN(nn.Module):\n",
    "    def __init__(self):\n",
    "        super(CNN, self).__init__()\n",
    "        self.layer1 = nn.Conv2d(1, 6, kernel_size=5, stride=1,padding=2)\n",
    "        self.layer2 = nn.AvgPool2d(2)\n",
    "        self.layer3 = nn.Conv2d(6, 16, kernel_size=5, stride=1)\n",
    "        self.layer4 = nn.AvgPool2d(2)\n",
    "        self.layer5 = nn.Conv2d(16, 120, kernel_size=5, stride=1)\n",
    "        self.layer6 = nn.Linear(120, 84)\n",
    "        self.layer_out = nn.Linear(84, 10)\n",
    "\n",
    "    def forward(self, x):\n",
    "        x = torch.tanh(self.layer1(x))\n",
    "        x = torch.tanh(self.layer2(x))\n",
    "        x = torch.tanh(self.layer3(x))\n",
    "        x = torch.tanh(self.layer4(x))\n",
    "        x = torch.tanh(self.layer5(x))\n",
    "        x = x.view(x.size(0), -1)\n",
    "        x = torch.tanh(self.layer6(x))\n",
    "        x = self.layer_out(x)\n",
    "        return x"
   ]
  },
  {
   "cell_type": "code",
   "execution_count": 13,
   "metadata": {
    "colab": {
     "base_uri": "https://localhost:8080/",
     "height": 444
    },
    "colab_type": "code",
    "id": "sXGwYZ67z2M5",
    "outputId": "0dad2962-a7a1-4522-a8ab-213b900a2286"
   },
   "outputs": [
    {
     "name": "stdout",
     "output_type": "stream",
     "text": [
      "[Epoch #0]\tAccuracy: 0.72\n",
      "[Epoch #1]\tAccuracy: 0.87\n",
      "[Epoch #2]\tAccuracy: 0.90\n",
      "[Epoch #3]\tAccuracy: 0.91\n",
      "[Epoch #4]\tAccuracy: 0.93\n",
      "[Epoch #5]\tAccuracy: 0.94\n",
      "[Epoch #6]\tAccuracy: 0.94\n",
      "[Epoch #7]\tAccuracy: 0.95\n",
      "[Epoch #8]\tAccuracy: 0.96\n",
      "[Epoch #9]\tAccuracy: 0.96\n",
      "[Epoch #10]\tAccuracy: 0.96\n",
      "[Epoch #11]\tAccuracy: 0.97\n",
      "[Epoch #12]\tAccuracy: 0.97\n",
      "[Epoch #13]\tAccuracy: 0.97\n",
      "[Epoch #14]\tAccuracy: 0.97\n",
      "[Epoch #15]\tAccuracy: 0.97\n",
      "[Epoch #16]\tAccuracy: 0.98\n",
      "[Epoch #17]\tAccuracy: 0.98\n",
      "[Epoch #18]\tAccuracy: 0.98\n",
      "[Epoch #19]\tAccuracy: 0.98\n",
      "0.9801\n",
      "Elapsed: 184.1438353061676\n",
      "CPU times: user 3min, sys: 2.36 s, total: 3min 3s\n",
      "Wall time: 3min 4s\n"
     ]
    }
   ],
   "source": [
    "%%time\n",
    "with Timer():\n",
    "  net=CNN()\n",
    "  optimizer = optim.SGD(net.parameters(), lr=0.001, momentum=0.9)\n",
    "  criterion = nn.CrossEntropyLoss()\n",
    "  for epoch in range(num_epoch):\n",
    "    train(net,train_loader,criterion,optimizer,device)\n",
    "    score=test(net,test_loader,device,'[Epoch #%d]'%epoch)\n",
    "  accuracy.append(score)\n",
    "  print(score)\n"
   ]
  },
  {
   "cell_type": "markdown",
   "metadata": {
    "colab_type": "text",
    "id": "SwJRQV1ojtiu"
   },
   "source": [
    "## Context Aggregation Networks (CAN) (25 points)\n",
    "We can also implement a simple CNN model with dilated convolutions. We can\n",
    "have a model with a large receptive field with the same spatial resolution in the\n",
    "hidden layers. See the network architecture in the Table 1. For your information,\n",
    "the dilated residual network <sup>2</sup>\n",
    "is a similar model for image classification.\n",
    "What is the accuracy of such a CAN model? What will be the accuracy if\n",
    "we use a different number of feature channels instead of 32?\n",
    "\n",
    "\n",
    "\n",
    "\n",
    "\n",
    "\n",
    "\n",
    "\n",
    "|Operation |3 × 3 conv |3 × 3 conv |3 × 3 conv |3 × 3 conv |3 × 3 conv |Avg pool|\n",
    "|:---------|:---------:|:---------:|:---------:|:---------:|:---------:|:------:|\n",
    "|Activation |LReLU |LReLU |LReLU |LReLU |LRelU |N/A|\n",
    "|Dilation |1 |2 |4 |8 |1 |N/A|\n",
    "|Receptive field |3 × 3 |7 × 7 |15 × 15 |31 × 31 |33 × 33 |N/A|\n",
    "|Feature channels |32 |32 |32 |32 |10 |10|\n",
    "\n",
    "Table 1: The CAN model. The average pooling is a global average pooling that outputs a 10-dimensional vector.\n",
    "\n",
    "\n",
    "---\n",
    "<sup>2</sup> Fisher Yu, Vladlen Koltun, and Thomas A. Funkhouser, ”Dilated Residual Networks,”\n",
    "CVPR 2017\n"
   ]
  },
  {
   "cell_type": "code",
   "execution_count": 0,
   "metadata": {
    "colab": {},
    "colab_type": "code",
    "id": "4ZAYOrq_1ZaI"
   },
   "outputs": [],
   "source": [
    "import torch.nn as nn\n",
    "import torch.nn.functional as F\n",
    "import torch.optim as optim\n",
    "\n",
    "#torch.nn.Conv2d(in_channels, out_channels, kernel_size, stride=1, padding=0,\n",
    "#dilation=1, groups=1, bias=True, padding_mode='zeros')\n",
    "\n",
    "class CAN(nn.Module):\n",
    "    def __init__(self,c=32):\n",
    "        super(CAN, self).__init__()\n",
    "        self.layer1 = nn.Conv2d(1, c, 3, dilation=1, padding=3)\n",
    "        self.layer2 = nn.Conv2d(c, c, 3, dilation=2, )\n",
    "        self.layer3 = nn.Conv2d(c, c, 3, dilation=4, )\n",
    "        self.layer4 = nn.Conv2d(c, c, 3, dilation=8, )\n",
    "        self.layer5 = nn.Conv2d(c, 10, 3, dilation=1, )\n",
    "        self.layer6 = nn.AdaptiveAvgPool2d(1)\n",
    "        \n",
    "    def forward(self, x):\n",
    "        x = nn.LeakyReLU()(self.layer1(x))\n",
    "        x = nn.LeakyReLU()(self.layer2(x))\n",
    "        x = nn.LeakyReLU()(self.layer3(x))\n",
    "        x = nn.LeakyReLU()(self.layer4(x))\n",
    "        x = nn.LeakyReLU()(self.layer5(x))\n",
    "        x = self.layer6(x)\n",
    "        x = x.view(x.size(0),-1)\n",
    "        return x"
   ]
  },
  {
   "cell_type": "code",
   "execution_count": 51,
   "metadata": {
    "colab": {
     "base_uri": "https://localhost:8080/",
     "height": 319
    },
    "colab_type": "code",
    "id": "tNtkswAu2igl",
    "outputId": "538ac9f3-dc5b-4243-ddaa-a837ba68848e"
   },
   "outputs": [
    {
     "name": "stdout",
     "output_type": "stream",
     "text": [
      "[Number of fearture channels =1]\tAccuracy: 0.11\n",
      "0.1135\n",
      "Elapsed: 169.43554782867432\n",
      "[Number of fearture channels =4]\tAccuracy: 0.91\n",
      "0.91\n",
      "Elapsed: 170.2195165157318\n",
      "[Number of fearture channels =16]\tAccuracy: 0.98\n",
      "0.977\n",
      "Elapsed: 247.53215074539185\n",
      "[Number of fearture channels =32]\tAccuracy: 0.98\n",
      "0.9803\n",
      "Elapsed: 629.4414234161377\n",
      "[Number of fearture channels =64]\tAccuracy: 0.98\n",
      "0.9846\n",
      "Elapsed: 2274.0257329940796\n",
      "CPU times: user 38min 20s, sys: 19min 40s, total: 58min\n",
      "Wall time: 58min 10s\n"
     ]
    }
   ],
   "source": [
    "%%time\n",
    "number_of_channels=[1,4,16,32,64]\n",
    "accuracy=[]\n",
    "for c in number_of_channels:\n",
    "  with Timer():\n",
    "    net=CAN(c)\n",
    "    optimizer = optim.SGD(net.parameters(), lr=0.001, momentum=0.9)\n",
    "    criterion = nn.CrossEntropyLoss()\n",
    "    for epoch in range(num_epoch):\n",
    "      train(net,train_loader,criterion,optimizer,device)\n",
    "    score=test(net,test_loader,device,'[Number of fearture channels =%d]'%c)\n",
    "    accuracy.append(score)\n",
    "    print(score)\n"
   ]
  },
  {
   "cell_type": "code",
   "execution_count": 53,
   "metadata": {
    "colab": {
     "base_uri": "https://localhost:8080/",
     "height": 283
    },
    "colab_type": "code",
    "id": "q_76xjcr9QJD",
    "outputId": "9d6a8d69-9b72-41bd-8db1-f82373491d86"
   },
   "outputs": [
    {
     "data": {
      "image/png": "[encoded data removed]",
      "text/plain": [
       "<Figure size 432x288 with 1 Axes>"
      ]
     },
     "metadata": {
      "tags": []
     },
     "output_type": "display_data"
    }
   ],
   "source": [
    "plt.plot(number_of_channels,accuracy)\n",
    "plt.xlabel('Number of fearture channels')\n",
    "plt.ylabel('Accuracy')\n",
    "plt.xticks(number_of_channels)\n",
    "plt.show()"
   ]
  },
  {
   "cell_type": "code",
   "execution_count": 0,
   "metadata": {
    "colab": {},
    "colab_type": "code",
    "id": "R2DauGrZfw0O"
   },
   "outputs": [],
   "source": []
  }
 ],
 "metadata": {
  "accelerator": "GPU",
  "author": "WAN Ching Pui",
  "colab": {
   "name": "Assignment1.ipynb",
   "provenance": []
  },
  "kernelspec": {
   "display_name": "Python 3",
   "language": "python",
   "name": "python3"
  },
  "language_info": {
   "codemirror_mode": {
    "name": "ipython",
    "version": 3
   },
   "file_extension": ".py",
   "mimetype": "text/x-python",
   "name": "python",
   "nbconvert_exporter": "python",
   "pygments_lexer": "ipython3",
   "version": "3.7.3"
  }
 },
 "nbformat": 4,
 "nbformat_minor": 1
}
