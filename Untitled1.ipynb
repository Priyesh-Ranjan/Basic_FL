{
 "cells": [
  {
   "cell_type": "code",
   "execution_count": null,
   "metadata": {},
   "outputs": [],
   "source": [
    "import validate_Nets\n",
    "\n",
    "import torch\n",
    "import torch.utils.data\n",
    "import torch.nn as nn\n",
    "import torch.nn.functional as F\n",
    "import numpy as np\n",
    "np.random.seed(1)\n"
   ]
  },
  {
   "cell_type": "code",
   "execution_count": 67,
   "metadata": {},
   "outputs": [
    {
     "name": "stdout",
     "output_type": "stream",
     "text": [
      "Number of gpu avaliable:\t1\n",
      "Current GPU:\t0\n",
      "GPU name: \tGeForce RTX 2080 Ti\n",
      "Loaded 2580 training samples.\n",
      "Loaded 256068 validation samples.\n"
     ]
    },
    {
     "data": {
      "text/plain": [
       "IncompatibleKeys(missing_keys=[], unexpected_keys=[])"
      ]
     },
     "execution_count": 67,
     "metadata": {},
     "output_type": "execute_result"
    }
   ],
   "source": [
    "torch.manual_seed(0)\n",
    "num_epoch=200\n",
    "batch_size=8192\n",
    "device='cuda'\n",
    "data_root='./data'\n",
    "\n",
    "\n",
    "network='aggNetBlock'\n",
    "path_to_training_data='./AggData/iid/mnist'\n",
    "path_to_aggNet='./aggNet/aggNetBlock_dim1_199.pt'\n",
    "rounds=0\n",
    "vector_dimension=1\n",
    "sample_fraction=0.05 #number of sample to draw in each experiments\n",
    "\n",
    "path_to_aggNet='./aggNet/aggNetBlock_16_data_augmented_dim16_199.pt'\n",
    "vector_dimension=16\n",
    "\n",
    "import allocateGPU\n",
    "allocateGPU.allocate_gpu()\n",
    "\n",
    "\n",
    "import baseline\n",
    "import aggNet\n",
    "import aggNet_Blocks\n",
    "import agg_Blocks_Multiple\n",
    "import rand_net\n",
    "networks={'baseline'   :baseline.Net,\n",
    "          'aggNetRes'  :aggNet.Net,\n",
    "          'aggNetBlock':aggNet_Blocks.Net,\n",
    "          'aggNetBlockMultiple':agg_Blocks_Multiple.Net,\n",
    "          'random':rand_net.Net\n",
    "\n",
    "         }\n",
    "\n",
    "Net=networks[network]\n",
    "\n",
    "\n",
    "from tensorboardX import SummaryWriter\n",
    "def write(name,tag, scalar,i=0):\n",
    "    writer=SummaryWriter(f'./agg_logs/{name}')\n",
    "    writer.add_scalar(tag, scalar, i)\n",
    "    writer.close()\n",
    "\n",
    "validate_Nets.sample_fraction=sample_fraction\n",
    "validate_Nets.vector_dimension=vector_dimension\n",
    "validate_Nets.batch_size=batch_size\n",
    "train_loader, test_loaders=validate_Nets.get_concat_loader(0.99,path=path_to_training_data,rounds=rounds)\n",
    "\n",
    "\n",
    "net=Net(vector_dimension,10)\n",
    "net.load_state_dict(torch.load(path_to_aggNet))\n",
    "\n"
   ]
  },
  {
   "cell_type": "code",
   "execution_count": 68,
   "metadata": {},
   "outputs": [],
   "source": [
    "# for name,loader in test_loaders.items():\n",
    "name,loader=next(iter(test_loaders.items()))\n",
    "y_pred=[]\n",
    "y_hot=[]\n",
    "y_center=[]\n",
    "\n",
    "for (data, target) in loader:\n",
    "    y_pred.append(net(data)[0])\n",
    "    y_hot.append(target[0])\n",
    "    y_center.append(target[1])"
   ]
  },
  {
   "cell_type": "code",
   "execution_count": 69,
   "metadata": {},
   "outputs": [
    {
     "data": {
      "text/plain": [
       "torch.Size([21339, 10])"
      ]
     },
     "execution_count": 69,
     "metadata": {},
     "output_type": "execute_result"
    }
   ],
   "source": [
    "torch.cat(y_pred).shape"
   ]
  },
  {
   "cell_type": "code",
   "execution_count": 70,
   "metadata": {},
   "outputs": [
    {
     "data": {
      "text/plain": [
       "[tensor([[1., 0., 1.,  ..., 1., 0., 1.],\n",
       "         [1., 1., 0.,  ..., 0., 0., 1.],\n",
       "         [1., 1., 1.,  ..., 1., 0., 0.],\n",
       "         ...,\n",
       "         [1., 0., 0.,  ..., 1., 0., 1.],\n",
       "         [1., 0., 0.,  ..., 1., 1., 1.],\n",
       "         [1., 1., 1.,  ..., 0., 1., 0.]]),\n",
       " tensor([[0., 1., 1.,  ..., 1., 1., 0.],\n",
       "         [1., 1., 1.,  ..., 0., 0., 0.],\n",
       "         [1., 1., 1.,  ..., 0., 0., 1.],\n",
       "         ...,\n",
       "         [1., 0., 1.,  ..., 0., 1., 1.],\n",
       "         [1., 1., 1.,  ..., 0., 0., 0.],\n",
       "         [0., 1., 0.,  ..., 1., 1., 0.]]),\n",
       " tensor([[0., 1., 1.,  ..., 0., 0., 0.],\n",
       "         [0., 1., 1.,  ..., 1., 1., 0.],\n",
       "         [0., 0., 1.,  ..., 0., 1., 1.],\n",
       "         ...,\n",
       "         [0., 1., 1.,  ..., 0., 1., 1.],\n",
       "         [1., 0., 0.,  ..., 1., 1., 1.],\n",
       "         [1., 1., 1.,  ..., 1., 0., 1.]])]"
      ]
     },
     "execution_count": 70,
     "metadata": {},
     "output_type": "execute_result"
    }
   ],
   "source": [
    "y_hot"
   ]
  },
  {
   "cell_type": "code",
   "execution_count": 71,
   "metadata": {},
   "outputs": [],
   "source": [
    "from sklearn.metrics import roc_curve"
   ]
  },
  {
   "cell_type": "code",
   "execution_count": 72,
   "metadata": {},
   "outputs": [],
   "source": [
    "def n(tensor):\n",
    "    return torch.cat(tensor).detach().numpy()\n",
    "    \n",
    "\n",
    "fpr,tpr,thres=roc_curve(n(y_hot).ravel().astype(int),n(y_pred).ravel())"
   ]
  },
  {
   "cell_type": "code",
   "execution_count": 76,
   "metadata": {},
   "outputs": [],
   "source": [
    "import pandas as pd\n",
    "df=pd.DataFrame()\n",
    "df['tpr']=tpr\n",
    "df['fpr']=fpr\n",
    "df['threshold']=thres"
   ]
  },
  {
   "cell_type": "code",
   "execution_count": 77,
   "metadata": {},
   "outputs": [
    {
     "ename": "ModuleNotFoundError",
     "evalue": "No module named 'plotly'",
     "output_type": "error",
     "traceback": [
      "\u001b[0;31m---------------------------------------------------------------------------\u001b[0m",
      "\u001b[0;31mModuleNotFoundError\u001b[0m                       Traceback (most recent call last)",
      "\u001b[0;32m<ipython-input-77-b33ecf4a69ca>\u001b[0m in \u001b[0;36m<module>\u001b[0;34m\u001b[0m\n\u001b[0;32m----> 1\u001b[0;31m \u001b[0;32mimport\u001b[0m \u001b[0mplotly\u001b[0m\u001b[0;34m.\u001b[0m\u001b[0mexpress\u001b[0m \u001b[0;32mas\u001b[0m \u001b[0mpx\u001b[0m\u001b[0;34m\u001b[0m\u001b[0;34m\u001b[0m\u001b[0m\n\u001b[0m\u001b[1;32m      2\u001b[0m \u001b[0;34m\u001b[0m\u001b[0m\n\u001b[1;32m      3\u001b[0m \u001b[0mfig\u001b[0m \u001b[0;34m=\u001b[0m \u001b[0mpx\u001b[0m\u001b[0;34m.\u001b[0m\u001b[0mline\u001b[0m\u001b[0;34m(\u001b[0m\u001b[0mdf\u001b[0m\u001b[0;34m,\u001b[0m \u001b[0mx\u001b[0m\u001b[0;34m=\u001b[0m\u001b[0;34m\"tpr\"\u001b[0m\u001b[0;34m,\u001b[0m \u001b[0my\u001b[0m\u001b[0;34m=\u001b[0m\u001b[0;34m\"fpr\"\u001b[0m\u001b[0;34m,\u001b[0m \u001b[0mtitle\u001b[0m\u001b[0;34m=\u001b[0m\u001b[0;34m'roc'\u001b[0m\u001b[0;34m)\u001b[0m\u001b[0;34m\u001b[0m\u001b[0;34m\u001b[0m\u001b[0m\n\u001b[1;32m      4\u001b[0m \u001b[0mfig\u001b[0m\u001b[0;34m.\u001b[0m\u001b[0mshow\u001b[0m\u001b[0;34m(\u001b[0m\u001b[0;34m)\u001b[0m\u001b[0;34m\u001b[0m\u001b[0;34m\u001b[0m\u001b[0m\n",
      "\u001b[0;31mModuleNotFoundError\u001b[0m: No module named 'plotly'"
     ]
    }
   ],
   "source": [
    "import plotly.express as px\n",
    "\n",
    "fig = px.line(df, x=\"tpr\", y=\"fpr\", title='roc')\n",
    "fig.show()"
   ]
  },
  {
   "cell_type": "code",
   "execution_count": 74,
   "metadata": {},
   "outputs": [
    {
     "data": {
      "text/plain": [
       "[<matplotlib.lines.Line2D at 0x7f366c360198>]"
      ]
     },
     "execution_count": 74,
     "metadata": {},
     "output_type": "execute_result"
    },
    {
     "data": {
      "image/png": "[encoded data removed]",
      "text/plain": [
       "<Figure size 432x288 with 1 Axes>"
      ]
     },
     "metadata": {
      "needs_background": "light"
     },
     "output_type": "display_data"
    }
   ],
   "source": [
    "plt.plot(thres,fpr)"
   ]
  },
  {
   "cell_type": "code",
   "execution_count": 75,
   "metadata": {},
   "outputs": [
    {
     "data": {
      "text/plain": [
       "[<matplotlib.lines.Line2D at 0x7f366c3fac18>]"
      ]
     },
     "execution_count": 75,
     "metadata": {},
     "output_type": "execute_result"
    },
    {
     "data": {
      "image/png": "[encoded data removed]",
      "text/plain": [
       "<Figure size 432x288 with 1 Axes>"
      ]
     },
     "metadata": {
      "needs_background": "light"
     },
     "output_type": "display_data"
    }
   ],
   "source": [
    "plt.plot(thres,tpr)"
   ]
  },
  {
   "cell_type": "code",
   "execution_count": null,
   "metadata": {},
   "outputs": [],
   "source": []
  }
 ],
 "metadata": {
  "kernelspec": {
   "display_name": "Python 3",
   "language": "python",
   "name": "python3"
  },
  "language_info": {
   "codemirror_mode": {
    "name": "ipython",
    "version": 3
   },
   "file_extension": ".py",
   "mimetype": "text/x-python",
   "name": "python",
   "nbconvert_exporter": "python",
   "pygments_lexer": "ipython3",
   "version": "3.7.9"
  }
 },
 "nbformat": 4,
 "nbformat_minor": 4
}
