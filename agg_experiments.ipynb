{
 "cells": [
  {
   "cell_type": "code",
   "execution_count": 1,
   "metadata": {},
   "outputs": [
    {
     "name": "stdout",
     "output_type": "stream",
     "text": [
      "Number of gpu avaliable:\t1\n",
      "Current GPU:\t0\n",
      "GPU name: \tGeForce RTX 2080 Ti\n"
     ]
    }
   ],
   "source": [
    "import torchvision.datasets as dsets\n",
    "from torchvision import transforms\n",
    "import torch\n",
    "import numpy as np\n",
    "import matplotlib.pyplot as plt\n",
    "torch.manual_seed(0)\n",
    "num_epoch=20\n",
    "batch_size=32\n",
    "device='cuda'\n",
    "data_root='./data'\n",
    "\n",
    "import allocateGPU\n",
    "allocateGPU.allocate_gpu()"
   ]
  },
  {
   "cell_type": "code",
   "execution_count": 2,
   "metadata": {},
   "outputs": [],
   "source": [
    "attacks=['no_attacks','omniscient','label_flipping','omniscient_aggresive']\n",
    "attacker_list_labelflipping={'no_attacks':[],'omniscient':[],'label_flipping':[0],'omniscient_aggresive':[]}\n",
    "attacker_list_omniscient={'no_attacks':[],'omniscient':[0],'label_flipping':[],'omniscient_aggresive':[0]}"
   ]
  },
  {
   "cell_type": "code",
   "execution_count": 14,
   "metadata": {},
   "outputs": [],
   "source": [
    "class Agg_dataset(torch.utils.data.Dataset):\n",
    "    '''\n",
    "        denote n be the number of clients,\n",
    "        each entry of dataset is a 2-tuple of (weight delta, labels):= (1 x n tensor, 1 x n tensor)\n",
    "        honest clients are labeled 1, malicious clients are labeled 0\n",
    "    '''\n",
    "    def __init__(self,path,attacks):\n",
    "        super(Agg_dataset).__init__() \n",
    "        data=torch.load(path,map_location='cpu')\n",
    "        data_tensors=torch.cat([data[param] for param in data],0)\n",
    "        self.data=data_tensors\n",
    "        self.label=attacks/torch.sum(attacks)\n",
    "        self.label=self.label\n",
    "        self.center=torch.sum(data_tensors*self.label,1).view(-1,1)\n",
    "        self.num_clients=attacks.shape[0]\n",
    "        \n",
    "    def __getitem__(self, index):\n",
    "#         perm=torch.randperm(self.num_clients)\n",
    "        data_out=self.data[index]\n",
    "        label_out=self.label\n",
    "        center_out=self.center[index]\n",
    "        data_sorted=torch.sort(data_out)\n",
    "        data_order=data_sorted[1]\n",
    "        return data_out[data_order], [label_out[data_order],center_out]\n",
    "#         return data_out,[label_out,center_out]\n",
    "    def __len__(self):\n",
    "        return self.data.shape[0]//100"
   ]
  },
  {
   "cell_type": "code",
   "execution_count": 15,
   "metadata": {},
   "outputs": [],
   "source": [
    "def get_loader(attack):\n",
    "    label=torch.ones(10)\n",
    "    for i in attacker_list_labelflipping[attack]:\n",
    "        label[i]=0\n",
    "    for i in attacker_list_omniscient[attack]:\n",
    "        label[i]=0\n",
    "    path=f'./AggData/{attack}/FedAvg_0.pt'\n",
    "    dataset=Agg_dataset(path,label)\n",
    "    validation_split = .2\n",
    "    shuffle_dataset = True\n",
    "    random_seed= 42\n",
    "\n",
    "    # Creating data indices for training and validation splits:\n",
    "    dataset_size = len(dataset)\n",
    "    indices = list(range(dataset_size))\n",
    "    split = int(np.floor(validation_split * dataset_size))\n",
    "    if shuffle_dataset :\n",
    "        np.random.seed(random_seed)\n",
    "        np.random.shuffle(indices)\n",
    "    train_indices, val_indices = indices[split:], indices[:split]\n",
    "\n",
    "    # Creating PT data samplers and loaders:\n",
    "    train_sampler = torch.utils.data.sampler.SubsetRandomSampler(train_indices)\n",
    "    valid_sampler = torch.utils.data.sampler.SubsetRandomSampler(val_indices)\n",
    "\n",
    "    train_loader = torch.utils.data.DataLoader(dataset, batch_size=batch_size, \n",
    "                                               sampler=train_sampler)\n",
    "    test_loader = torch.utils.data.DataLoader(dataset, batch_size=batch_size,\n",
    "                                                    sampler=valid_sampler)\n",
    "    return train_loader, test_loader"
   ]
  },
  {
   "cell_type": "code",
   "execution_count": 17,
   "metadata": {},
   "outputs": [],
   "source": [
    "def train(net,train_loader,criterion,optimizer,device, on):\n",
    "    net.to(device)\n",
    "    for idx, (data,target) in enumerate(train_loader):\n",
    "        data = data.to(device)\n",
    "        target = target[on].to(device)\n",
    "        optimizer.zero_grad()   \n",
    "        output = net(data)\n",
    "        loss = criterion(output[on], target)\n",
    "        loss.backward()\n",
    "        optimizer.step()\n",
    "    \n",
    "def test(net,test_loader,device,message_prefix):\n",
    "    net.to(device)\n",
    "    accuracy = 0\n",
    "    accuracy_mean = 0\n",
    "    accuracy_median = 0\n",
    "    count = 0\n",
    "    \n",
    "    with torch.no_grad():\n",
    "        for data, target in test_loader:\n",
    "            data = data.to(device)\n",
    "            target = target[1].to(device)\n",
    "            outputs = net(data)\n",
    "            accuracy+=F.l1_loss(outputs[1], target)\n",
    "            accuracy_mean+=F.l1_loss(data.mean(1).view(-1,1), target)\n",
    "            accuracy_median+=F.l1_loss(data.median(1)[0].view(-1,1), target)\n",
    "            count+=len(data)\n",
    "    print('Accuracy: %.4E (%.4E, %.4E)' % (accuracy/count,accuracy_mean/count,accuracy_median/count ))\n",
    "    return accuracy/count, accuracy_mean/count, accuracy_median/count"
   ]
  },
  {
   "cell_type": "code",
   "execution_count": 195,
   "metadata": {},
   "outputs": [],
   "source": [
    "import torch.nn as nn\n",
    "import torch.nn.functional as F\n",
    "import torch.optim as optim\n",
    "def dot_product(A,B):\n",
    "    return torch.bmm(A.view(A.shape[0],1,A.shape[1]),B.view(B.shape[0],B.shape[1],1))\n",
    "class Mlp(nn.Module):\n",
    "    def __init__(self,n,in_dim):\n",
    "        super(Mlp, self).__init__()\n",
    "        self.in_dim=in_dim\n",
    "        self.fc1 = nn.Linear(self.in_dim, n,bias=False)\n",
    "        self.fc2 = nn.Linear(n, n,bias=False)\n",
    "        self.fc3 = nn.Linear(n, self.in_dim,bias=False)\n",
    "\n",
    "    def forward(self, input):\n",
    "        x = input.view(-1, self.in_dim)\n",
    "        x = F.relu(self.fc1(x))\n",
    "        x = F.relu(self.fc2(x))\n",
    "        x = F.softmax(self.fc3(x),dim=1)\n",
    "        pred=dot_product(x,input).squeeze(-1)\n",
    "    \n",
    "        return x,pred"
   ]
  },
  {
   "cell_type": "code",
   "execution_count": 197,
   "metadata": {},
   "outputs": [],
   "source": [
    "class CNN(nn.Module):\n",
    "    def __init__(self,n,in_dim):\n",
    "        super(CNN, self).__init__()\n",
    "        self.in_dim=in_dim\n",
    "        self.fc1 = nn.Conv1d(1, n, kernel_size=3,dilation=1, padding=1)\n",
    "        self.fc2 = nn.Conv1d(n, n, kernel_size=3,dilation=2, padding=2)\n",
    "        self.fc3 = nn.Conv1d(n, self.in_dim, kernel_size=3,dilation=1, padding=1)\n",
    "        self.maxpool1=nn.AdaptiveMaxPool1d(1)\n",
    "        \n",
    "\n",
    "    def forward(self, input):\n",
    "        x = input.view(-1, 1, self.in_dim)\n",
    "        x = nn.LeakyReLU()(self.fc1(x))\n",
    "        x = nn.LeakyReLU()(self.fc2(x))\n",
    "        x = nn.LeakyReLU()(self.fc3(x))\n",
    "        x = self.maxpool1(x)\n",
    "\n",
    "        x=x.squeeze()\n",
    "        x = F.softmax(x,dim=1)\n",
    "        pred=dot_product(x,input).squeeze(-1)\n",
    "        return x, pred"
   ]
  },
  {
   "cell_type": "code",
   "execution_count": 200,
   "metadata": {},
   "outputs": [],
   "source": [
    "from tensorboardX import SummaryWriter\n",
    "def write(name,scalar):\n",
    "    writer=SummaryWriter(f'./agg_logs/{name}')\n",
    "    writer.add_scalar('l1 loss', scalar, 0)\n",
    "    writer.close()"
   ]
  },
  {
   "cell_type": "code",
   "execution_count": 201,
   "metadata": {},
   "outputs": [],
   "source": [
    "accuracy_list={}\n"
   ]
  },
  {
   "cell_type": "code",
   "execution_count": 202,
   "metadata": {},
   "outputs": [],
   "source": [
    "loaders={attack:get_loader(attack) for attack in attacks}\n"
   ]
  },
  {
   "cell_type": "code",
   "execution_count": null,
   "metadata": {},
   "outputs": [],
   "source": [
    "mode_name=['classification','regression']\n",
    "for attack in attacks:\n",
    "    train_loader, test_loader=loaders[attack]\n",
    "    for criterion in [torch.nn.L1Loss()]:\n",
    "        for mode in [0,1]:\n",
    "            net_cnn=CNN(32,10)\n",
    "            net_mlp=Mlp(10,10)\n",
    "\n",
    "            for net in [net_cnn,net_mlp]:\n",
    "                \n",
    "                training_alias=f'{attack}/{net.__class__.__name__}/{mode_name[mode]}/{criterion.__class__.__name__}'\n",
    "                if training_alias in accuracy_list:\n",
    "                    continue\n",
    "                \n",
    "                print('Start training of %s'%training_alias)\n",
    "                optimizer = optim.SGD(net.parameters(), lr=0.00001, momentum=0.9)\n",
    "                for epoch in range(1):\n",
    "                    train(net,train_loader,criterion,optimizer,device,mode)\n",
    "                    score=test(net,test_loader,device,'')\n",
    "                write(training_alias,score[0])\n",
    "                accuracy_list[training_alias]=score[0].item()\n",
    "    accuracy_list[f'{attack}/mean']=score[1].item()\n",
    "    write(f'{attack}/mean',score[1])\n",
    "    accuracy_list[f'{attack}/median']=score[2].item()\n",
    "    write(f'{attack}/median',score[1])"
   ]
  },
  {
   "cell_type": "markdown",
   "metadata": {},
   "source": [
    "## Compare the results"
   ]
  },
  {
   "cell_type": "code",
   "execution_count": 39,
   "metadata": {},
   "outputs": [
    {
     "data": {
      "text/plain": [
       "{'no_attacks/Mlp/classification/L1Loss': 2.2635820995375866e-10,\n",
       " 'no_attacks/CNN/classification/L1Loss': 5.723303786453471e-08,\n",
       " 'no_attacks/Mlp/regression/L1Loss': 8.204105728104594e-10,\n",
       " 'no_attacks/CNN/regression/L1Loss': 4.139364051525263e-08,\n",
       " 'no_attacks/mean': 2.941553250979112e-12,\n",
       " 'no_attacks/median': 1.372522547171684e-06,\n",
       " 'omniscient/Mlp/classification/L1Loss': 7.797454600222409e-05,\n",
       " 'omniscient/CNN/classification/L1Loss': 8.67093913257122e-05,\n",
       " 'omniscient/Mlp/regression/L1Loss': 7.764556357869878e-05,\n",
       " 'omniscient/CNN/regression/L1Loss': 7.513722084695473e-05,\n",
       " 'omniscient/mean': 7.790404924890026e-05,\n",
       " 'omniscient/median': 1.8102322201229981e-06,\n",
       " 'label_flipping/Mlp/classification/L1Loss': 7.47312742532813e-06,\n",
       " 'label_flipping/CNN/classification/L1Loss': 7.302185167645803e-06,\n",
       " 'label_flipping/Mlp/regression/L1Loss': 7.4711942943395115e-06,\n",
       " 'label_flipping/CNN/regression/L1Loss': 7.207338057924062e-06,\n",
       " 'label_flipping/mean': 7.472800916730193e-06,\n",
       " 'label_flipping/median': 1.8067006521960138e-06,\n",
       " 'omniscient_aggresive/Mlp/classification/L1Loss': 7.797605940140784e-05,\n",
       " 'omniscient_aggresive/CNN/classification/L1Loss': 7.980703958310187e-05,\n",
       " 'omniscient_aggresive/Mlp/regression/L1Loss': 7.780743180774152e-05,\n",
       " 'omniscient_aggresive/CNN/regression/L1Loss': 7.506809197366238e-05,\n",
       " 'omniscient_aggresive/mean': 7.790413656039163e-05,\n",
       " 'omniscient_aggresive/median': 1.810870571716805e-06}"
      ]
     },
     "execution_count": 39,
     "metadata": {},
     "output_type": "execute_result"
    }
   ],
   "source": [
    "accuracy_list"
   ]
  },
  {
   "cell_type": "code",
   "execution_count": 40,
   "metadata": {},
   "outputs": [],
   "source": [
    "import pandas as pd\n",
    "from collections import OrderedDict  "
   ]
  },
  {
   "cell_type": "code",
   "execution_count": 73,
   "metadata": {},
   "outputs": [],
   "source": [
    "struct=[key.split('/',1)+[accuracy_list[key]] for key  in accuracy_list.keys()]\n",
    "df=pd.DataFrame(np.array([row[2] for row in struct]).reshape(4,6))\n",
    "\n",
    "\n",
    "index=list(OrderedDict.fromkeys([row[0] for row in struct]))\n",
    "df.index=index\n",
    "\n",
    "columns=list(OrderedDict.fromkeys([row[1] for row in struct]))\n",
    "df.columns=columns"
   ]
  },
  {
   "cell_type": "code",
   "execution_count": 76,
   "metadata": {},
   "outputs": [
    {
     "data": {
      "text/html": [
       "<div>\n",
       "<style scoped>\n",
       "    .dataframe tbody tr th:only-of-type {\n",
       "        vertical-align: middle;\n",
       "    }\n",
       "\n",
       "    .dataframe tbody tr th {\n",
       "        vertical-align: top;\n",
       "    }\n",
       "\n",
       "    .dataframe thead th {\n",
       "        text-align: right;\n",
       "    }\n",
       "</style>\n",
       "<table border=\"1\" class=\"dataframe\">\n",
       "  <thead>\n",
       "    <tr style=\"text-align: right;\">\n",
       "      <th></th>\n",
       "      <th>Mlp/classification/L1Loss</th>\n",
       "      <th>CNN/classification/L1Loss</th>\n",
       "      <th>Mlp/regression/L1Loss</th>\n",
       "      <th>CNN/regression/L1Loss</th>\n",
       "      <th>mean</th>\n",
       "      <th>median</th>\n",
       "    </tr>\n",
       "  </thead>\n",
       "  <tbody>\n",
       "    <tr>\n",
       "      <th>no_attacks</th>\n",
       "      <td>2.263582e-10</td>\n",
       "      <td>5.723304e-08</td>\n",
       "      <td>8.204106e-10</td>\n",
       "      <td>4.139364e-08</td>\n",
       "      <td>2.941553e-12</td>\n",
       "      <td>0.000001</td>\n",
       "    </tr>\n",
       "    <tr>\n",
       "      <th>omniscient</th>\n",
       "      <td>7.797455e-05</td>\n",
       "      <td>8.670939e-05</td>\n",
       "      <td>7.764556e-05</td>\n",
       "      <td>7.513722e-05</td>\n",
       "      <td>7.790405e-05</td>\n",
       "      <td>0.000002</td>\n",
       "    </tr>\n",
       "    <tr>\n",
       "      <th>label_flipping</th>\n",
       "      <td>7.473127e-06</td>\n",
       "      <td>7.302185e-06</td>\n",
       "      <td>7.471194e-06</td>\n",
       "      <td>7.207338e-06</td>\n",
       "      <td>7.472801e-06</td>\n",
       "      <td>0.000002</td>\n",
       "    </tr>\n",
       "    <tr>\n",
       "      <th>omniscient_aggresive</th>\n",
       "      <td>7.797606e-05</td>\n",
       "      <td>7.980704e-05</td>\n",
       "      <td>7.780743e-05</td>\n",
       "      <td>7.506809e-05</td>\n",
       "      <td>7.790414e-05</td>\n",
       "      <td>0.000002</td>\n",
       "    </tr>\n",
       "  </tbody>\n",
       "</table>\n",
       "</div>"
      ],
      "text/plain": [
       "                      Mlp/classification/L1Loss  CNN/classification/L1Loss  \\\n",
       "no_attacks                         2.263582e-10               5.723304e-08   \n",
       "omniscient                         7.797455e-05               8.670939e-05   \n",
       "label_flipping                     7.473127e-06               7.302185e-06   \n",
       "omniscient_aggresive               7.797606e-05               7.980704e-05   \n",
       "\n",
       "                      Mlp/regression/L1Loss  CNN/regression/L1Loss  \\\n",
       "no_attacks                     8.204106e-10           4.139364e-08   \n",
       "omniscient                     7.764556e-05           7.513722e-05   \n",
       "label_flipping                 7.471194e-06           7.207338e-06   \n",
       "omniscient_aggresive           7.780743e-05           7.506809e-05   \n",
       "\n",
       "                              mean    median  \n",
       "no_attacks            2.941553e-12  0.000001  \n",
       "omniscient            7.790405e-05  0.000002  \n",
       "label_flipping        7.472801e-06  0.000002  \n",
       "omniscient_aggresive  7.790414e-05  0.000002  "
      ]
     },
     "execution_count": 76,
     "metadata": {},
     "output_type": "execute_result"
    }
   ],
   "source": [
    "df"
   ]
  },
  {
   "cell_type": "code",
   "execution_count": 89,
   "metadata": {},
   "outputs": [
    {
     "name": "stdout",
     "output_type": "stream",
     "text": [
      "\n",
      "Highlight the maximum value in each column:\n"
     ]
    },
    {
     "data": {
      "text/html": [
       "<style  type=\"text/css\" >\n",
       "    #T_64c7ef5e_21cd_11ea_a0c1_4986971bcdc7row4_col0 {\n",
       "            background-color:  yellow;\n",
       "        }    #T_64c7ef5e_21cd_11ea_a0c1_4986971bcdc7row5_col1 {\n",
       "            background-color:  yellow;\n",
       "        }    #T_64c7ef5e_21cd_11ea_a0c1_4986971bcdc7row5_col2 {\n",
       "            background-color:  yellow;\n",
       "        }    #T_64c7ef5e_21cd_11ea_a0c1_4986971bcdc7row5_col3 {\n",
       "            background-color:  yellow;\n",
       "        }</style><table id=\"T_64c7ef5e_21cd_11ea_a0c1_4986971bcdc7\" ><thead>    <tr>        <th class=\"blank level0\" ></th>        <th class=\"col_heading level0 col0\" >no_attacks</th>        <th class=\"col_heading level0 col1\" >omniscient</th>        <th class=\"col_heading level0 col2\" >label_flipping</th>        <th class=\"col_heading level0 col3\" >omniscient_aggresive</th>    </tr></thead><tbody>\n",
       "                <tr>\n",
       "                        <th id=\"T_64c7ef5e_21cd_11ea_a0c1_4986971bcdc7level0_row0\" class=\"row_heading level0 row0\" >Mlp/classification/L1Loss</th>\n",
       "                        <td id=\"T_64c7ef5e_21cd_11ea_a0c1_4986971bcdc7row0_col0\" class=\"data row0 col0\" >2.26358e-10</td>\n",
       "                        <td id=\"T_64c7ef5e_21cd_11ea_a0c1_4986971bcdc7row0_col1\" class=\"data row0 col1\" >7.79745e-05</td>\n",
       "                        <td id=\"T_64c7ef5e_21cd_11ea_a0c1_4986971bcdc7row0_col2\" class=\"data row0 col2\" >7.47313e-06</td>\n",
       "                        <td id=\"T_64c7ef5e_21cd_11ea_a0c1_4986971bcdc7row0_col3\" class=\"data row0 col3\" >7.79761e-05</td>\n",
       "            </tr>\n",
       "            <tr>\n",
       "                        <th id=\"T_64c7ef5e_21cd_11ea_a0c1_4986971bcdc7level0_row1\" class=\"row_heading level0 row1\" >CNN/classification/L1Loss</th>\n",
       "                        <td id=\"T_64c7ef5e_21cd_11ea_a0c1_4986971bcdc7row1_col0\" class=\"data row1 col0\" >5.7233e-08</td>\n",
       "                        <td id=\"T_64c7ef5e_21cd_11ea_a0c1_4986971bcdc7row1_col1\" class=\"data row1 col1\" >8.67094e-05</td>\n",
       "                        <td id=\"T_64c7ef5e_21cd_11ea_a0c1_4986971bcdc7row1_col2\" class=\"data row1 col2\" >7.30219e-06</td>\n",
       "                        <td id=\"T_64c7ef5e_21cd_11ea_a0c1_4986971bcdc7row1_col3\" class=\"data row1 col3\" >7.9807e-05</td>\n",
       "            </tr>\n",
       "            <tr>\n",
       "                        <th id=\"T_64c7ef5e_21cd_11ea_a0c1_4986971bcdc7level0_row2\" class=\"row_heading level0 row2\" >Mlp/regression/L1Loss</th>\n",
       "                        <td id=\"T_64c7ef5e_21cd_11ea_a0c1_4986971bcdc7row2_col0\" class=\"data row2 col0\" >8.20411e-10</td>\n",
       "                        <td id=\"T_64c7ef5e_21cd_11ea_a0c1_4986971bcdc7row2_col1\" class=\"data row2 col1\" >7.76456e-05</td>\n",
       "                        <td id=\"T_64c7ef5e_21cd_11ea_a0c1_4986971bcdc7row2_col2\" class=\"data row2 col2\" >7.47119e-06</td>\n",
       "                        <td id=\"T_64c7ef5e_21cd_11ea_a0c1_4986971bcdc7row2_col3\" class=\"data row2 col3\" >7.78074e-05</td>\n",
       "            </tr>\n",
       "            <tr>\n",
       "                        <th id=\"T_64c7ef5e_21cd_11ea_a0c1_4986971bcdc7level0_row3\" class=\"row_heading level0 row3\" >CNN/regression/L1Loss</th>\n",
       "                        <td id=\"T_64c7ef5e_21cd_11ea_a0c1_4986971bcdc7row3_col0\" class=\"data row3 col0\" >4.13936e-08</td>\n",
       "                        <td id=\"T_64c7ef5e_21cd_11ea_a0c1_4986971bcdc7row3_col1\" class=\"data row3 col1\" >7.51372e-05</td>\n",
       "                        <td id=\"T_64c7ef5e_21cd_11ea_a0c1_4986971bcdc7row3_col2\" class=\"data row3 col2\" >7.20734e-06</td>\n",
       "                        <td id=\"T_64c7ef5e_21cd_11ea_a0c1_4986971bcdc7row3_col3\" class=\"data row3 col3\" >7.50681e-05</td>\n",
       "            </tr>\n",
       "            <tr>\n",
       "                        <th id=\"T_64c7ef5e_21cd_11ea_a0c1_4986971bcdc7level0_row4\" class=\"row_heading level0 row4\" >mean</th>\n",
       "                        <td id=\"T_64c7ef5e_21cd_11ea_a0c1_4986971bcdc7row4_col0\" class=\"data row4 col0\" >2.94155e-12</td>\n",
       "                        <td id=\"T_64c7ef5e_21cd_11ea_a0c1_4986971bcdc7row4_col1\" class=\"data row4 col1\" >7.7904e-05</td>\n",
       "                        <td id=\"T_64c7ef5e_21cd_11ea_a0c1_4986971bcdc7row4_col2\" class=\"data row4 col2\" >7.4728e-06</td>\n",
       "                        <td id=\"T_64c7ef5e_21cd_11ea_a0c1_4986971bcdc7row4_col3\" class=\"data row4 col3\" >7.79041e-05</td>\n",
       "            </tr>\n",
       "            <tr>\n",
       "                        <th id=\"T_64c7ef5e_21cd_11ea_a0c1_4986971bcdc7level0_row5\" class=\"row_heading level0 row5\" >median</th>\n",
       "                        <td id=\"T_64c7ef5e_21cd_11ea_a0c1_4986971bcdc7row5_col0\" class=\"data row5 col0\" >1.37252e-06</td>\n",
       "                        <td id=\"T_64c7ef5e_21cd_11ea_a0c1_4986971bcdc7row5_col1\" class=\"data row5 col1\" >1.81023e-06</td>\n",
       "                        <td id=\"T_64c7ef5e_21cd_11ea_a0c1_4986971bcdc7row5_col2\" class=\"data row5 col2\" >1.8067e-06</td>\n",
       "                        <td id=\"T_64c7ef5e_21cd_11ea_a0c1_4986971bcdc7row5_col3\" class=\"data row5 col3\" >1.81087e-06</td>\n",
       "            </tr>\n",
       "    </tbody></table>"
      ],
      "text/plain": [
       "<pandas.io.formats.style.Styler at 0x7f0d243e93c8>"
      ]
     },
     "execution_count": 89,
     "metadata": {},
     "output_type": "execute_result"
    }
   ],
   "source": [
    "def highlight_max(s):\n",
    "    '''\n",
    "    highlight the minimum in a Series yellow.\n",
    "    '''\n",
    "    is_min = s == s.min()\n",
    "    return ['background-color: yellow' if v else '' for v in is_min]\n",
    "\n",
    "print(\"\\nHighlight the minimum value in each column:\")\n",
    "df.T.style.apply(highlight_max,subset=pd.IndexSlice[:, df.T.columns])"
   ]
  },
  {
   "cell_type": "markdown",
   "metadata": {},
   "source": [
    "## Visualize distribution of gradients"
   ]
  },
  {
   "cell_type": "code",
   "execution_count": 170,
   "metadata": {},
   "outputs": [],
   "source": [
    "attack=attacks[1]\n",
    "label=torch.ones(10)\n",
    "for i in attacker_list_labelflipping[attack]:\n",
    "    label[i]=0\n",
    "for i in attacker_list_omniscient[attack]:\n",
    "    label[i]=0\n",
    "path=f'./AggData/{attack}/FedAvg_0.pt'\n",
    "dataset=Agg_dataset(path,label)\n",
    "dist=dataset.center.numpy()"
   ]
  },
  {
   "cell_type": "code",
   "execution_count": 171,
   "metadata": {},
   "outputs": [],
   "source": [
    "df=pd.DataFrame(np.log(np.abs(dist))).replace([np.inf, -np.inf], np.nan)"
   ]
  },
  {
   "cell_type": "code",
   "execution_count": 175,
   "metadata": {},
   "outputs": [
    {
     "data": {
      "text/plain": [
       "array([[<matplotlib.axes._subplots.AxesSubplot object at 0x7f0d1c42c668>]],\n",
       "      dtype=object)"
      ]
     },
     "execution_count": 175,
     "metadata": {},
     "output_type": "execute_result"
    },
    {
     "data": {
      "image/png": "[encoded data removed]",
      "text/plain": [
       "<Figure size 432x288 with 1 Axes>"
      ]
     },
     "metadata": {
      "needs_background": "light"
     },
     "output_type": "display_data"
    }
   ],
   "source": [
    "df.hist()"
   ]
  },
  {
   "cell_type": "code",
   "execution_count": 173,
   "metadata": {},
   "outputs": [
    {
     "data": {
      "text/html": [
       "<div>\n",
       "<style scoped>\n",
       "    .dataframe tbody tr th:only-of-type {\n",
       "        vertical-align: middle;\n",
       "    }\n",
       "\n",
       "    .dataframe tbody tr th {\n",
       "        vertical-align: top;\n",
       "    }\n",
       "\n",
       "    .dataframe thead th {\n",
       "        text-align: right;\n",
       "    }\n",
       "</style>\n",
       "<table border=\"1\" class=\"dataframe\">\n",
       "  <thead>\n",
       "    <tr style=\"text-align: right;\">\n",
       "      <th></th>\n",
       "      <th>0</th>\n",
       "    </tr>\n",
       "  </thead>\n",
       "  <tbody>\n",
       "    <tr>\n",
       "      <th>0.25</th>\n",
       "      <td>-9.903770</td>\n",
       "    </tr>\n",
       "    <tr>\n",
       "      <th>0.75</th>\n",
       "      <td>-7.301964</td>\n",
       "    </tr>\n",
       "  </tbody>\n",
       "</table>\n",
       "</div>"
      ],
      "text/plain": [
       "             0\n",
       "0.25 -9.903770\n",
       "0.75 -7.301964"
      ]
     },
     "execution_count": 173,
     "metadata": {},
     "output_type": "execute_result"
    }
   ],
   "source": [
    "df.quantile([0.25,0.75])"
   ]
  }
 ],
 "metadata": {
  "kernelspec": {
   "display_name": "Python 3",
   "language": "python",
   "name": "python3"
  },
  "language_info": {
   "codemirror_mode": {
    "name": "ipython",
    "version": 3
   },
   "file_extension": ".py",
   "mimetype": "text/x-python",
   "name": "python",
   "nbconvert_exporter": "python",
   "pygments_lexer": "ipython3",
   "version": "3.7.3"
  }
 },
 "nbformat": 4,
 "nbformat_minor": 2
}
